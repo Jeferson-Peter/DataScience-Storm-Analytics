{
 "cells": [
  {
   "cell_type": "markdown",
   "source": [
    "# Importando bibliotecas\n",
    "\n",
    "**Name:**\n",
    "**Year:**\n",
    "**Month:**\n",
    "**Day:**\n",
    "**Hour:**\n",
    "**Lat:**\n",
    "**Long:**\n",
    "**Status:**\n",
    "**Category:**\n",
    "**Wind:**\n",
    "**Pressure:**\n",
    "**Tropicalstorm_force_diamete:**\n",
    "**hurricane_force_diameter:**"
   ],
   "metadata": {
    "collapsed": false
   }
  },
  {
   "cell_type": "markdown",
   "source": [
    "# Questões a serem respondidas?\n",
    "\n",
    "1. Ver quais as tempestades com maior ocorrência? (nome, category, status)\n",
    "2. Qual a maior velocidade do vento e pressão?\n",
    "3. Qual a maior ocorrência das tempestades em um período de tempo (dia, mes, ano ) -> Desafio semanas\n",
    "4. Qual a localidade que sofreu mais tempestades. (independente das variaveis?). Exemplo: A cidade que teve maior frequência de tempestades\n",
    "5. Em quais localidades as tempestades (por status) ocorreram. Exemplo: Hurricane houve a maior concentração no Alabama, porém a depressão em Michigan e New York\n",
    "6. Quais as localidade mais afetadas, por um determinado Tempestade. Exemplo: A Carrie ocorreu com maior frequência em New York e Florida.\n",
    "7. Ano que teve mais tempestades.\n"
   ],
   "metadata": {
    "collapsed": false,
    "pycharm": {
     "name": "#%% md\n"
    }
   }
  },
  {
   "cell_type": "markdown",
   "source": [
    "## Determinar categorias por tipo de tempestade\n",
    "\n",
    "> Como podemos determinar as categorias pelos tipos de tempestades.\n"
   ],
   "metadata": {
    "collapsed": false,
    "pycharm": {
     "name": "#%% md\n"
    }
   }
  },
  {
   "cell_type": "markdown",
   "source": [
    " ## Importando todas as biblioteca necessárias\n"
   ],
   "metadata": {
    "collapsed": false
   }
  },
  {
   "cell_type": "code",
   "execution_count": 12,
   "outputs": [],
   "source": [
    "import pandas as pd\n",
    "import matplotlib.pyplot as plt\n",
    "import seaborn as sns"
   ],
   "metadata": {
    "collapsed": false,
    "pycharm": {
     "name": "#%%\n"
    }
   }
  },
  {
   "cell_type": "markdown",
   "source": [],
   "metadata": {
    "collapsed": false,
    "pycharm": {
     "name": "#%% md\n"
    }
   }
  },
  {
   "cell_type": "markdown",
   "source": [
    "### Carregando os Datasets\n",
    "\n",
    "> Iremos juntar todos os dados em apenas um único DataFrame\n",
    "    > O arquivo storms.csv contém tempestades da época de 1950 aos dias atuais\n",
    "    > Já storms_updated.csv contém dados de 1852 a 1950\n",
    "Quando já finalizamos a junção dos dados, iremos realizar um sort dos valores por ano"
   ],
   "metadata": {
    "collapsed": false,
    "pycharm": {
     "name": "#%% md\n"
    }
   }
  },
  {
   "cell_type": "code",
   "execution_count": 24,
   "outputs": [
    {
     "data": {
      "text/plain": "           name  year  month  day  hour   lat  long          status  category  \\\n0      AL011852  1852      8   26     6  30.2 -88.6       hurricane         3   \n1      AL031853  1853      9    3    12  19.7 -56.2       hurricane         4   \n2      AL031854  1854      9    7    12  28.0 -78.6       hurricane         3   \n3      AL031854  1854      9    8    18  31.6 -81.1       hurricane         3   \n4      AL031854  1854      9    8    20  31.7 -81.1       hurricane         3   \n...         ...   ...    ...  ...   ...   ...   ...             ...       ...   \n30011     Wanda  2021     11    6    18  37.1 -38.0  tropical storm         0   \n30012     Wanda  2021     11    7     0  37.4 -37.4  tropical storm         0   \n30013     Wanda  2021     11    7     6  38.1 -36.4  tropical storm         0   \n30014     Wanda  2021     11    7     0  37.4 -37.4  tropical storm         0   \n30015     Wanda  2021     11    7     6  38.1 -36.4  tropical storm         0   \n\n       wind  pressure  tropicalstorm_force_diameter  hurricane_force_diameter  \n0       100       961                           NaN                       NaN  \n1       130       924                           NaN                       NaN  \n2       110       938                           NaN                       NaN  \n3       100       950                           NaN                       NaN  \n4       100       950                           NaN                       NaN  \n...     ...       ...                           ...                       ...  \n30011    35      1002                         100.0                       0.0  \n30012    35      1003                          60.0                       0.0  \n30013    35      1004                          60.0                       0.0  \n30014    35      1003                          60.0                       0.0  \n30015    35      1004                          60.0                       0.0  \n\n[30016 rows x 13 columns]",
      "text/html": "<div>\n<style scoped>\n    .dataframe tbody tr th:only-of-type {\n        vertical-align: middle;\n    }\n\n    .dataframe tbody tr th {\n        vertical-align: top;\n    }\n\n    .dataframe thead th {\n        text-align: right;\n    }\n</style>\n<table border=\"1\" class=\"dataframe\">\n  <thead>\n    <tr style=\"text-align: right;\">\n      <th></th>\n      <th>name</th>\n      <th>year</th>\n      <th>month</th>\n      <th>day</th>\n      <th>hour</th>\n      <th>lat</th>\n      <th>long</th>\n      <th>status</th>\n      <th>category</th>\n      <th>wind</th>\n      <th>pressure</th>\n      <th>tropicalstorm_force_diameter</th>\n      <th>hurricane_force_diameter</th>\n    </tr>\n  </thead>\n  <tbody>\n    <tr>\n      <th>0</th>\n      <td>AL011852</td>\n      <td>1852</td>\n      <td>8</td>\n      <td>26</td>\n      <td>6</td>\n      <td>30.2</td>\n      <td>-88.6</td>\n      <td>hurricane</td>\n      <td>3</td>\n      <td>100</td>\n      <td>961</td>\n      <td>NaN</td>\n      <td>NaN</td>\n    </tr>\n    <tr>\n      <th>1</th>\n      <td>AL031853</td>\n      <td>1853</td>\n      <td>9</td>\n      <td>3</td>\n      <td>12</td>\n      <td>19.7</td>\n      <td>-56.2</td>\n      <td>hurricane</td>\n      <td>4</td>\n      <td>130</td>\n      <td>924</td>\n      <td>NaN</td>\n      <td>NaN</td>\n    </tr>\n    <tr>\n      <th>2</th>\n      <td>AL031854</td>\n      <td>1854</td>\n      <td>9</td>\n      <td>7</td>\n      <td>12</td>\n      <td>28.0</td>\n      <td>-78.6</td>\n      <td>hurricane</td>\n      <td>3</td>\n      <td>110</td>\n      <td>938</td>\n      <td>NaN</td>\n      <td>NaN</td>\n    </tr>\n    <tr>\n      <th>3</th>\n      <td>AL031854</td>\n      <td>1854</td>\n      <td>9</td>\n      <td>8</td>\n      <td>18</td>\n      <td>31.6</td>\n      <td>-81.1</td>\n      <td>hurricane</td>\n      <td>3</td>\n      <td>100</td>\n      <td>950</td>\n      <td>NaN</td>\n      <td>NaN</td>\n    </tr>\n    <tr>\n      <th>4</th>\n      <td>AL031854</td>\n      <td>1854</td>\n      <td>9</td>\n      <td>8</td>\n      <td>20</td>\n      <td>31.7</td>\n      <td>-81.1</td>\n      <td>hurricane</td>\n      <td>3</td>\n      <td>100</td>\n      <td>950</td>\n      <td>NaN</td>\n      <td>NaN</td>\n    </tr>\n    <tr>\n      <th>...</th>\n      <td>...</td>\n      <td>...</td>\n      <td>...</td>\n      <td>...</td>\n      <td>...</td>\n      <td>...</td>\n      <td>...</td>\n      <td>...</td>\n      <td>...</td>\n      <td>...</td>\n      <td>...</td>\n      <td>...</td>\n      <td>...</td>\n    </tr>\n    <tr>\n      <th>30011</th>\n      <td>Wanda</td>\n      <td>2021</td>\n      <td>11</td>\n      <td>6</td>\n      <td>18</td>\n      <td>37.1</td>\n      <td>-38.0</td>\n      <td>tropical storm</td>\n      <td>0</td>\n      <td>35</td>\n      <td>1002</td>\n      <td>100.0</td>\n      <td>0.0</td>\n    </tr>\n    <tr>\n      <th>30012</th>\n      <td>Wanda</td>\n      <td>2021</td>\n      <td>11</td>\n      <td>7</td>\n      <td>0</td>\n      <td>37.4</td>\n      <td>-37.4</td>\n      <td>tropical storm</td>\n      <td>0</td>\n      <td>35</td>\n      <td>1003</td>\n      <td>60.0</td>\n      <td>0.0</td>\n    </tr>\n    <tr>\n      <th>30013</th>\n      <td>Wanda</td>\n      <td>2021</td>\n      <td>11</td>\n      <td>7</td>\n      <td>6</td>\n      <td>38.1</td>\n      <td>-36.4</td>\n      <td>tropical storm</td>\n      <td>0</td>\n      <td>35</td>\n      <td>1004</td>\n      <td>60.0</td>\n      <td>0.0</td>\n    </tr>\n    <tr>\n      <th>30014</th>\n      <td>Wanda</td>\n      <td>2021</td>\n      <td>11</td>\n      <td>7</td>\n      <td>0</td>\n      <td>37.4</td>\n      <td>-37.4</td>\n      <td>tropical storm</td>\n      <td>0</td>\n      <td>35</td>\n      <td>1003</td>\n      <td>60.0</td>\n      <td>0.0</td>\n    </tr>\n    <tr>\n      <th>30015</th>\n      <td>Wanda</td>\n      <td>2021</td>\n      <td>11</td>\n      <td>7</td>\n      <td>6</td>\n      <td>38.1</td>\n      <td>-36.4</td>\n      <td>tropical storm</td>\n      <td>0</td>\n      <td>35</td>\n      <td>1004</td>\n      <td>60.0</td>\n      <td>0.0</td>\n    </tr>\n  </tbody>\n</table>\n<p>30016 rows × 13 columns</p>\n</div>"
     },
     "execution_count": 24,
     "metadata": {},
     "output_type": "execute_result"
    }
   ],
   "source": [
    "df1 = pd.read_csv('storms.csv')\n",
    "df2 = pd.read_csv('storms_updated.csv')\n",
    "df = pd.concat([df1, df2])\\\n",
    "        .sort_values(by=['year', 'month', 'day'], ascending=[True, True, True])\\\n",
    "        .reset_index(drop=True)\n",
    "df"
   ],
   "metadata": {
    "collapsed": false,
    "pycharm": {
     "name": "#%%\n"
    }
   }
  },
  {
   "cell_type": "code",
   "execution_count": 25,
   "outputs": [],
   "source": [
    "df = df.drop(columns=['hour'])"
   ],
   "metadata": {
    "collapsed": false,
    "pycharm": {
     "name": "#%%\n"
    }
   }
  },
  {
   "cell_type": "markdown",
   "source": [
    "# Tratamento de dados\n",
    ">O tratamento de dados é algo muito importante, no qual analisamos o nosso dataset por completo, para verificar, se precisaremos realizar tratamentos, como tipo das colunas, valores nulos.\n"
   ],
   "metadata": {
    "collapsed": false,
    "pycharm": {
     "name": "#%% md\n"
    }
   }
  },
  {
   "cell_type": "markdown",
   "source": [
    "Analisaremos a integridade dos dados, ou seja, inicialmente verificaremos a quantidade de dados nulos."
   ],
   "metadata": {
    "collapsed": false
   }
  },
  {
   "cell_type": "code",
   "execution_count": 26,
   "outputs": [
    {
     "data": {
      "text/plain": "name                                0\nyear                                0\nmonth                               0\nday                                 0\nlat                                 0\nlong                                0\nstatus                              0\ncategory                            0\nwind                                0\npressure                            0\ntropicalstorm_force_diameter    17551\nhurricane_force_diameter        17551\ndtype: int64"
     },
     "execution_count": 26,
     "metadata": {},
     "output_type": "execute_result"
    }
   ],
   "source": [
    "df.isna().sum()"
   ],
   "metadata": {
    "collapsed": false,
    "pycharm": {
     "name": "#%%\n"
    }
   }
  },
  {
   "cell_type": "markdown",
   "source": [
    "Como podemos perceber no código acima `df.isna().sum()`, nos relata a quantidade de dados nulos em cada coluna, filtraremos as que não estão zeradas."
   ],
   "metadata": {
    "collapsed": false,
    "pycharm": {
     "name": "#%% md\n"
    }
   }
  },
  {
   "cell_type": "code",
   "execution_count": 49,
   "outputs": [
    {
     "data": {
      "text/plain": "           name  year  month  day   lat  long          status  category  wind  \\\n0      AL011852  1852      8   26  30.2 -88.6       hurricane         3   100   \n1      AL031853  1853      9    3  19.7 -56.2       hurricane         4   130   \n2      AL031854  1854      9    7  28.0 -78.6       hurricane         3   110   \n3      AL031854  1854      9    8  31.6 -81.1       hurricane         3   100   \n4      AL031854  1854      9    8  31.7 -81.1       hurricane         3   100   \n...         ...   ...    ...  ...   ...   ...             ...       ...   ...   \n22452    Harvey  2011      8   20  17.0 -88.3  tropical storm         0    55   \n22466     Irene  2011      8   21  17.8 -64.6  tropical storm         0    60   \n22476     Irene  2011      8   22  18.1 -65.8  tropical storm         0    60   \n22487     Irene  2011      8   24  22.4 -74.0       hurricane         3   100   \n22495     Irene  2011      8   25  24.7 -76.2       hurricane         2    90   \n\n       pressure  tropicalstorm_force_diameter  hurricane_force_diameter  \n0           961                           NaN                       NaN  \n1           924                           NaN                       NaN  \n2           938                           NaN                       NaN  \n3           950                           NaN                       NaN  \n4           950                           NaN                       NaN  \n...         ...                           ...                       ...  \n22452       995                           NaN                       NaN  \n22466       993                           NaN                       NaN  \n22476       990                           NaN                       NaN  \n22487       955                           NaN                       NaN  \n22495       950                           NaN                       NaN  \n\n[17551 rows x 12 columns]",
      "text/html": "<div>\n<style scoped>\n    .dataframe tbody tr th:only-of-type {\n        vertical-align: middle;\n    }\n\n    .dataframe tbody tr th {\n        vertical-align: top;\n    }\n\n    .dataframe thead th {\n        text-align: right;\n    }\n</style>\n<table border=\"1\" class=\"dataframe\">\n  <thead>\n    <tr style=\"text-align: right;\">\n      <th></th>\n      <th>name</th>\n      <th>year</th>\n      <th>month</th>\n      <th>day</th>\n      <th>lat</th>\n      <th>long</th>\n      <th>status</th>\n      <th>category</th>\n      <th>wind</th>\n      <th>pressure</th>\n      <th>tropicalstorm_force_diameter</th>\n      <th>hurricane_force_diameter</th>\n    </tr>\n  </thead>\n  <tbody>\n    <tr>\n      <th>0</th>\n      <td>AL011852</td>\n      <td>1852</td>\n      <td>8</td>\n      <td>26</td>\n      <td>30.2</td>\n      <td>-88.6</td>\n      <td>hurricane</td>\n      <td>3</td>\n      <td>100</td>\n      <td>961</td>\n      <td>NaN</td>\n      <td>NaN</td>\n    </tr>\n    <tr>\n      <th>1</th>\n      <td>AL031853</td>\n      <td>1853</td>\n      <td>9</td>\n      <td>3</td>\n      <td>19.7</td>\n      <td>-56.2</td>\n      <td>hurricane</td>\n      <td>4</td>\n      <td>130</td>\n      <td>924</td>\n      <td>NaN</td>\n      <td>NaN</td>\n    </tr>\n    <tr>\n      <th>2</th>\n      <td>AL031854</td>\n      <td>1854</td>\n      <td>9</td>\n      <td>7</td>\n      <td>28.0</td>\n      <td>-78.6</td>\n      <td>hurricane</td>\n      <td>3</td>\n      <td>110</td>\n      <td>938</td>\n      <td>NaN</td>\n      <td>NaN</td>\n    </tr>\n    <tr>\n      <th>3</th>\n      <td>AL031854</td>\n      <td>1854</td>\n      <td>9</td>\n      <td>8</td>\n      <td>31.6</td>\n      <td>-81.1</td>\n      <td>hurricane</td>\n      <td>3</td>\n      <td>100</td>\n      <td>950</td>\n      <td>NaN</td>\n      <td>NaN</td>\n    </tr>\n    <tr>\n      <th>4</th>\n      <td>AL031854</td>\n      <td>1854</td>\n      <td>9</td>\n      <td>8</td>\n      <td>31.7</td>\n      <td>-81.1</td>\n      <td>hurricane</td>\n      <td>3</td>\n      <td>100</td>\n      <td>950</td>\n      <td>NaN</td>\n      <td>NaN</td>\n    </tr>\n    <tr>\n      <th>...</th>\n      <td>...</td>\n      <td>...</td>\n      <td>...</td>\n      <td>...</td>\n      <td>...</td>\n      <td>...</td>\n      <td>...</td>\n      <td>...</td>\n      <td>...</td>\n      <td>...</td>\n      <td>...</td>\n      <td>...</td>\n    </tr>\n    <tr>\n      <th>22452</th>\n      <td>Harvey</td>\n      <td>2011</td>\n      <td>8</td>\n      <td>20</td>\n      <td>17.0</td>\n      <td>-88.3</td>\n      <td>tropical storm</td>\n      <td>0</td>\n      <td>55</td>\n      <td>995</td>\n      <td>NaN</td>\n      <td>NaN</td>\n    </tr>\n    <tr>\n      <th>22466</th>\n      <td>Irene</td>\n      <td>2011</td>\n      <td>8</td>\n      <td>21</td>\n      <td>17.8</td>\n      <td>-64.6</td>\n      <td>tropical storm</td>\n      <td>0</td>\n      <td>60</td>\n      <td>993</td>\n      <td>NaN</td>\n      <td>NaN</td>\n    </tr>\n    <tr>\n      <th>22476</th>\n      <td>Irene</td>\n      <td>2011</td>\n      <td>8</td>\n      <td>22</td>\n      <td>18.1</td>\n      <td>-65.8</td>\n      <td>tropical storm</td>\n      <td>0</td>\n      <td>60</td>\n      <td>990</td>\n      <td>NaN</td>\n      <td>NaN</td>\n    </tr>\n    <tr>\n      <th>22487</th>\n      <td>Irene</td>\n      <td>2011</td>\n      <td>8</td>\n      <td>24</td>\n      <td>22.4</td>\n      <td>-74.0</td>\n      <td>hurricane</td>\n      <td>3</td>\n      <td>100</td>\n      <td>955</td>\n      <td>NaN</td>\n      <td>NaN</td>\n    </tr>\n    <tr>\n      <th>22495</th>\n      <td>Irene</td>\n      <td>2011</td>\n      <td>8</td>\n      <td>25</td>\n      <td>24.7</td>\n      <td>-76.2</td>\n      <td>hurricane</td>\n      <td>2</td>\n      <td>90</td>\n      <td>950</td>\n      <td>NaN</td>\n      <td>NaN</td>\n    </tr>\n  </tbody>\n</table>\n<p>17551 rows × 12 columns</p>\n</div>"
     },
     "execution_count": 49,
     "metadata": {},
     "output_type": "execute_result"
    }
   ],
   "source": [
    "# Filtrando apenas as colunas com valores maiores que 0.\n",
    "# TODO: Criar texto explicando o por que da analise sobre estas colunas e se há necessidade de tratar.\n",
    "index_1 = list(df.loc[pd.isna(df.tropicalstorm_force_diameter), :].index)\n",
    "index_2 = list(df.loc[pd.isna(df.hurricane_force_diameter), :].index)\n",
    "all_nan_ind = list(set(index_1 + index_2))\n",
    "len(all_nan_ind)\n",
    "# half_empty_columns_df\n",
    "half_empty_columns_df = df.filter(items = all_nan_ind, axis=0)\n",
    "half_empty_columns_df"
   ],
   "metadata": {
    "collapsed": false,
    "pycharm": {
     "name": "#%%\n"
    }
   }
  },
  {
   "cell_type": "markdown",
   "source": [
    "Quais os tipos de dados das colunas?"
   ],
   "metadata": {
    "collapsed": false,
    "pycharm": {
     "name": "#%% md\n"
    }
   }
  },
  {
   "cell_type": "code",
   "execution_count": 53,
   "outputs": [
    {
     "data": {
      "text/plain": "name                             object\nyear                              int64\nmonth                             int64\nday                               int64\nlat                             float64\nlong                            float64\nstatus                           object\ncategory                          int64\nwind                              int64\npressure                          int64\ntropicalstorm_force_diameter    float64\nhurricane_force_diameter        float64\ndtype: object"
     },
     "execution_count": 53,
     "metadata": {},
     "output_type": "execute_result"
    }
   ],
   "source": [
    "df.dtypes"
   ],
   "metadata": {
    "collapsed": false,
    "pycharm": {
     "name": "#%%\n"
    }
   }
  },
  {
   "cell_type": "markdown",
   "source": [
    "Todos os tipos dados estão corretos para a nossa analise, logo não precisaremos realizar nenhuma conversão."
   ],
   "metadata": {
    "collapsed": false,
    "pycharm": {
     "name": "#%% md\n"
    }
   }
  },
  {
   "cell_type": "markdown",
   "source": [
    "# Analisando os dados\n",
    "Começaremos a analisar os dados e responder as nossas questões"
   ],
   "metadata": {
    "collapsed": false,
    "pycharm": {
     "name": "#%% md\n"
    }
   }
  },
  {
   "cell_type": "code",
   "execution_count": 52,
   "outputs": [
    {
     "data": {
      "text/plain": "<pandas.core.groupby.generic.DataFrameGroupBy object at 0x0000020537909CD0>"
     },
     "execution_count": 52,
     "metadata": {},
     "output_type": "execute_result"
    }
   ],
   "source": [
    "# df[['status', 'category']].count_values()\n",
    "df.groupby(by='status')"
   ],
   "metadata": {
    "collapsed": false,
    "pycharm": {
     "name": "#%%\n"
    }
   }
  },
  {
   "cell_type": "code",
   "execution_count": 10,
   "outputs": [
    {
     "data": {
      "text/plain": "array(['hurricane', 'tropical storm', 'tropical depression'], dtype=object)"
     },
     "execution_count": 10,
     "metadata": {},
     "output_type": "execute_result"
    }
   ],
   "source": [
    "df.status.unique()"
   ],
   "metadata": {
    "collapsed": false,
    "pycharm": {
     "name": "#%%\n"
    }
   }
  },
  {
   "cell_type": "code",
   "execution_count": 14,
   "outputs": [
    {
     "data": {
      "text/plain": "<AxesSubplot:xlabel='category', ylabel='count'>"
     },
     "execution_count": 14,
     "metadata": {},
     "output_type": "execute_result"
    },
    {
     "data": {
      "text/plain": "<Figure size 432x288 with 1 Axes>",
      "image/png": "[encoded data removed]"
     },
     "metadata": {
      "needs_background": "light"
     },
     "output_type": "display_data"
    }
   ],
   "source": [
    "sns.countplot(x='category', data=df)"
   ],
   "metadata": {
    "collapsed": false,
    "pycharm": {
     "name": "#%%\n"
    }
   }
  },
  {
   "cell_type": "code",
   "execution_count": 18,
   "outputs": [
    {
     "data": {
      "text/plain": "<AxesSubplot:xlabel='status', ylabel='count'>"
     },
     "execution_count": 18,
     "metadata": {},
     "output_type": "execute_result"
    },
    {
     "data": {
      "text/plain": "<Figure size 432x288 with 1 Axes>",
      "image/png": "[encoded data removed]"
     },
     "metadata": {
      "needs_background": "light"
     },
     "output_type": "display_data"
    }
   ],
   "source": [
    "sns.countplot(x='status', data=df)"
   ],
   "metadata": {
    "collapsed": false,
    "pycharm": {
     "name": "#%%\n"
    }
   }
  },
  {
   "cell_type": "code",
   "execution_count": 15,
   "outputs": [
    {
     "data": {
      "text/plain": "array(['hurricane', 'tropical storm', 'tropical depression'], dtype=object)"
     },
     "execution_count": 15,
     "metadata": {},
     "output_type": "execute_result"
    }
   ],
   "source": [
    "# Separar por tipo de status\n",
    "df.status.unique()"
   ],
   "metadata": {
    "collapsed": false,
    "pycharm": {
     "name": "#%%\n"
    }
   }
  },
  {
   "cell_type": "code",
   "execution_count": null,
   "outputs": [],
   "source": [],
   "metadata": {
    "collapsed": false,
    "pycharm": {
     "name": "#%%\n"
    }
   }
  }
 ],
 "metadata": {
  "kernelspec": {
   "display_name": "Python 3",
   "language": "python",
   "name": "python3"
  },
  "language_info": {
   "codemirror_mode": {
    "name": "ipython",
    "version": 2
   },
   "file_extension": ".py",
   "mimetype": "text/x-python",
   "name": "python",
   "nbconvert_exporter": "python",
   "pygments_lexer": "ipython2",
   "version": "2.7.6"
  }
 },
 "nbformat": 4,
 "nbformat_minor": 0
}