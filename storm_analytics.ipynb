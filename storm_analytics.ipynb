{
 "cells": [
  {
   "cell_type": "markdown",
   "source": [
    "# Importando bibliotecas\n",
    "\n",
    "**Name:**\n",
    "**Year:**\n",
    "**Month:**\n",
    "**Day:**\n",
    "**Hour:**\n",
    "**Lat:**\n",
    "**Long:**\n",
    "**Status:**\n",
    "**Category:**\n",
    "**Wind:**\n",
    "**Pressure:**\n",
    "**Tropicalstorm_force_diamete:**\n",
    "**hurricane_force_diameter:**"
   ],
   "metadata": {
    "collapsed": false,
    "id": "tsXOoryoGbxB"
   }
  },
  {
   "cell_type": "markdown",
   "source": [
    "# Questões a serem respondidas?\n",
    "\n",
    "1. Ver quais as tempestades com maior ocorrência? (nome, category, status)\n",
    "2. Qual a maior velocidade do vento e pressão?\n",
    "3. Qual a maior ocorrência das tempestades em um período de tempo (dia, mes, ano ) -> Desafio semanas\n",
    "4. Qual a localidade que sofreu mais tempestades. (independente das variaveis?). Exemplo: A cidade que teve maior frequência de tempestades\n",
    "5. Em quais localidades as tempestades (por status) ocorreram. Exemplo: Hurricane houve a maior concentração no Alabama, porém a depressão em Michigan e New York\n",
    "6. Quais as localidade mais afetadas, por um determinado Tempestade. Exemplo: A Carrie ocorreu com maior frequência em New York e Florida.\n",
    "7. Ano que teve mais tempestades.\n"
   ],
   "metadata": {
    "collapsed": false,
    "pycharm": {
     "name": "#%% md\n"
    },
    "id": "oM3S5gX_GbxE"
   }
  },
  {
   "cell_type": "markdown",
   "source": [
    "## Determinar categorias por tipo de tempestade\n",
    "\n",
    "> Como podemos determinar as categorias pelos tipos de tempestades.\n"
   ],
   "metadata": {
    "collapsed": false,
    "pycharm": {
     "name": "#%% md\n"
    },
    "id": "iqujfsTGGbxG"
   }
  },
  {
   "cell_type": "markdown",
   "source": [
    " ## Importando todas as biblioteca necessárias\n"
   ],
   "metadata": {
    "collapsed": false,
    "id": "urQt3cw_GbxH"
   }
  },
  {
   "cell_type": "code",
   "execution_count": 2,
   "outputs": [],
   "source": [
    "import pandas as pd\n",
    "import matplotlib.pyplot as plt\n",
    "import seaborn as sns\n",
    "from datetime import datetime\n",
    "# Estudar bibliotecas\n",
    "# FOLIUM => https://jacobtadesse.com/2019/09/28/visualizing-pandas-dataframe-lat-long-with-folium-maps/\n",
    "# GEOPLOT => https://medium.com/geekculture/geospatial-visualization-with-geoplot-in-python-40b3de35ce0d"
   ],
   "metadata": {
    "pycharm": {
     "name": "#%%\n"
    },
    "id": "Y4GwET7SGbxI"
   }
  },
  {
   "cell_type": "markdown",
   "source": [],
   "metadata": {
    "collapsed": false,
    "pycharm": {
     "name": "#%% md\n"
    },
    "id": "2M_PkJOlGbxK"
   }
  },
  {
   "cell_type": "markdown",
   "source": [
    "### Carregando os Datasets\n",
    "\n",
    "> Iremos juntar todos os dados em apenas um único DataFrame\n",
    "    > O arquivo storms.csv contém tempestades da época de 1950 aos dias atuais\n",
    "    > Já storms_updated.csv contém dados de 1852 a 1950\n",
    "Quando já finalizamos a junção dos dados, iremos realizar um sort dos valores por ano, mês e dia"
   ],
   "metadata": {
    "collapsed": false,
    "pycharm": {
     "name": "#%% md\n"
    },
    "id": "OxK2OBWeGbxK"
   }
  },
  {
   "cell_type": "code",
   "execution_count": 3,
   "outputs": [
    {
     "data": {
      "text/plain": "           name  year  month  day  hour   lat  long          status  category  \\\n0      AL011852  1852      8   26     6  30.2 -88.6       hurricane         3   \n1      AL031853  1853      9    3    12  19.7 -56.2       hurricane         4   \n2      AL031854  1854      9    7    12  28.0 -78.6       hurricane         3   \n3      AL031854  1854      9    8    18  31.6 -81.1       hurricane         3   \n4      AL031854  1854      9    8    20  31.7 -81.1       hurricane         3   \n...         ...   ...    ...  ...   ...   ...   ...             ...       ...   \n30011     Wanda  2021     11    6    18  37.1 -38.0  tropical storm         0   \n30012     Wanda  2021     11    7     0  37.4 -37.4  tropical storm         0   \n30013     Wanda  2021     11    7     6  38.1 -36.4  tropical storm         0   \n30014     Wanda  2021     11    7     0  37.4 -37.4  tropical storm         0   \n30015     Wanda  2021     11    7     6  38.1 -36.4  tropical storm         0   \n\n       wind  pressure  tropicalstorm_force_diameter  hurricane_force_diameter  \n0       100       961                           NaN                       NaN  \n1       130       924                           NaN                       NaN  \n2       110       938                           NaN                       NaN  \n3       100       950                           NaN                       NaN  \n4       100       950                           NaN                       NaN  \n...     ...       ...                           ...                       ...  \n30011    35      1002                         100.0                       0.0  \n30012    35      1003                          60.0                       0.0  \n30013    35      1004                          60.0                       0.0  \n30014    35      1003                          60.0                       0.0  \n30015    35      1004                          60.0                       0.0  \n\n[30016 rows x 13 columns]",
      "text/html": "<div>\n<style scoped>\n    .dataframe tbody tr th:only-of-type {\n        vertical-align: middle;\n    }\n\n    .dataframe tbody tr th {\n        vertical-align: top;\n    }\n\n    .dataframe thead th {\n        text-align: right;\n    }\n</style>\n<table border=\"1\" class=\"dataframe\">\n  <thead>\n    <tr style=\"text-align: right;\">\n      <th></th>\n      <th>name</th>\n      <th>year</th>\n      <th>month</th>\n      <th>day</th>\n      <th>hour</th>\n      <th>lat</th>\n      <th>long</th>\n      <th>status</th>\n      <th>category</th>\n      <th>wind</th>\n      <th>pressure</th>\n      <th>tropicalstorm_force_diameter</th>\n      <th>hurricane_force_diameter</th>\n    </tr>\n  </thead>\n  <tbody>\n    <tr>\n      <th>0</th>\n      <td>AL011852</td>\n      <td>1852</td>\n      <td>8</td>\n      <td>26</td>\n      <td>6</td>\n      <td>30.2</td>\n      <td>-88.6</td>\n      <td>hurricane</td>\n      <td>3</td>\n      <td>100</td>\n      <td>961</td>\n      <td>NaN</td>\n      <td>NaN</td>\n    </tr>\n    <tr>\n      <th>1</th>\n      <td>AL031853</td>\n      <td>1853</td>\n      <td>9</td>\n      <td>3</td>\n      <td>12</td>\n      <td>19.7</td>\n      <td>-56.2</td>\n      <td>hurricane</td>\n      <td>4</td>\n      <td>130</td>\n      <td>924</td>\n      <td>NaN</td>\n      <td>NaN</td>\n    </tr>\n    <tr>\n      <th>2</th>\n      <td>AL031854</td>\n      <td>1854</td>\n      <td>9</td>\n      <td>7</td>\n      <td>12</td>\n      <td>28.0</td>\n      <td>-78.6</td>\n      <td>hurricane</td>\n      <td>3</td>\n      <td>110</td>\n      <td>938</td>\n      <td>NaN</td>\n      <td>NaN</td>\n    </tr>\n    <tr>\n      <th>3</th>\n      <td>AL031854</td>\n      <td>1854</td>\n      <td>9</td>\n      <td>8</td>\n      <td>18</td>\n      <td>31.6</td>\n      <td>-81.1</td>\n      <td>hurricane</td>\n      <td>3</td>\n      <td>100</td>\n      <td>950</td>\n      <td>NaN</td>\n      <td>NaN</td>\n    </tr>\n    <tr>\n      <th>4</th>\n      <td>AL031854</td>\n      <td>1854</td>\n      <td>9</td>\n      <td>8</td>\n      <td>20</td>\n      <td>31.7</td>\n      <td>-81.1</td>\n      <td>hurricane</td>\n      <td>3</td>\n      <td>100</td>\n      <td>950</td>\n      <td>NaN</td>\n      <td>NaN</td>\n    </tr>\n    <tr>\n      <th>...</th>\n      <td>...</td>\n      <td>...</td>\n      <td>...</td>\n      <td>...</td>\n      <td>...</td>\n      <td>...</td>\n      <td>...</td>\n      <td>...</td>\n      <td>...</td>\n      <td>...</td>\n      <td>...</td>\n      <td>...</td>\n      <td>...</td>\n    </tr>\n    <tr>\n      <th>30011</th>\n      <td>Wanda</td>\n      <td>2021</td>\n      <td>11</td>\n      <td>6</td>\n      <td>18</td>\n      <td>37.1</td>\n      <td>-38.0</td>\n      <td>tropical storm</td>\n      <td>0</td>\n      <td>35</td>\n      <td>1002</td>\n      <td>100.0</td>\n      <td>0.0</td>\n    </tr>\n    <tr>\n      <th>30012</th>\n      <td>Wanda</td>\n      <td>2021</td>\n      <td>11</td>\n      <td>7</td>\n      <td>0</td>\n      <td>37.4</td>\n      <td>-37.4</td>\n      <td>tropical storm</td>\n      <td>0</td>\n      <td>35</td>\n      <td>1003</td>\n      <td>60.0</td>\n      <td>0.0</td>\n    </tr>\n    <tr>\n      <th>30013</th>\n      <td>Wanda</td>\n      <td>2021</td>\n      <td>11</td>\n      <td>7</td>\n      <td>6</td>\n      <td>38.1</td>\n      <td>-36.4</td>\n      <td>tropical storm</td>\n      <td>0</td>\n      <td>35</td>\n      <td>1004</td>\n      <td>60.0</td>\n      <td>0.0</td>\n    </tr>\n    <tr>\n      <th>30014</th>\n      <td>Wanda</td>\n      <td>2021</td>\n      <td>11</td>\n      <td>7</td>\n      <td>0</td>\n      <td>37.4</td>\n      <td>-37.4</td>\n      <td>tropical storm</td>\n      <td>0</td>\n      <td>35</td>\n      <td>1003</td>\n      <td>60.0</td>\n      <td>0.0</td>\n    </tr>\n    <tr>\n      <th>30015</th>\n      <td>Wanda</td>\n      <td>2021</td>\n      <td>11</td>\n      <td>7</td>\n      <td>6</td>\n      <td>38.1</td>\n      <td>-36.4</td>\n      <td>tropical storm</td>\n      <td>0</td>\n      <td>35</td>\n      <td>1004</td>\n      <td>60.0</td>\n      <td>0.0</td>\n    </tr>\n  </tbody>\n</table>\n<p>30016 rows × 13 columns</p>\n</div>"
     },
     "execution_count": 3,
     "metadata": {},
     "output_type": "execute_result"
    }
   ],
   "source": [
    "df1 = pd.read_csv('https://raw.githubusercontent.com/Jeferson-Peter/DataScience-Storm-Analytics/master/storms.csv')\n",
    "df2 = pd.read_csv('https://raw.githubusercontent.com/Jeferson-Peter/DataScience-Storm-Analytics/master/storms_updated.csv')\n",
    "df = pd.concat([df1, df2])\\\n",
    "        .sort_values(by=['year', 'month', 'day'], ascending=[True, True, True])\\\n",
    "        .reset_index(drop=True)\n",
    "df"
   ],
   "metadata": {
    "pycharm": {
     "name": "#%%\n"
    },
    "id": "kPfaHSXAGbxL",
    "outputId": "93b2cfab-eb5c-4978-89be-688fc931b28d"
   }
  },
  {
   "cell_type": "code",
   "execution_count": 4,
   "outputs": [],
   "source": [
    "df = df.drop(columns=['hour'])"
   ],
   "metadata": {
    "pycharm": {
     "name": "#%%\n"
    },
    "id": "PBAWyYLBGbxN"
   }
  },
  {
   "cell_type": "markdown",
   "source": [
    "# Tratamento de dados\n",
    ">O tratamento de dados é algo muito importante, no qual analisamos o nosso dataset por completo, para verificar, se precisaremos realizar tratamentos, como tipo das colunas, valores nulos.\n"
   ],
   "metadata": {
    "collapsed": false,
    "pycharm": {
     "name": "#%% md\n"
    },
    "id": "jnORlYK4GbxO"
   }
  },
  {
   "cell_type": "markdown",
   "source": [
    "Analisaremos a integridade dos dados, ou seja, inicialmente verificaremos a quantidade de dados nulos."
   ],
   "metadata": {
    "collapsed": false,
    "id": "JQE3Tl8BGbxP"
   }
  },
  {
   "cell_type": "code",
   "execution_count": 5,
   "outputs": [
    {
     "data": {
      "text/plain": "name                                0\nyear                                0\nmonth                               0\nday                                 0\nlat                                 0\nlong                                0\nstatus                              0\ncategory                            0\nwind                                0\npressure                            0\ntropicalstorm_force_diameter    17551\nhurricane_force_diameter        17551\ndtype: int64"
     },
     "execution_count": 5,
     "metadata": {},
     "output_type": "execute_result"
    }
   ],
   "source": [
    "df.isna().sum()"
   ],
   "metadata": {
    "pycharm": {
     "name": "#%%\n"
    },
    "id": "snPjkFs6GbxP",
    "outputId": "38d8121d-2d1a-45e8-f9ea-b5096d24f051"
   }
  },
  {
   "cell_type": "markdown",
   "source": [
    "Como podemos perceber no código acima `df.isna().sum()`, nos relata a quantidade de dados nulos em cada coluna. Para uma melhor visualização dos dados nulos iremos separalos em outro dataframe"
   ],
   "metadata": {
    "collapsed": false,
    "pycharm": {
     "name": "#%% md\n"
    },
    "id": "MaYSvZXSGbxQ"
   }
  },
  {
   "cell_type": "code",
   "execution_count": 6,
   "outputs": [
    {
     "data": {
      "text/plain": "           name  year  month  day   lat  long          status  category  wind  \\\n0      AL011852  1852      8   26  30.2 -88.6       hurricane         3   100   \n1      AL031853  1853      9    3  19.7 -56.2       hurricane         4   130   \n2      AL031854  1854      9    7  28.0 -78.6       hurricane         3   110   \n3      AL031854  1854      9    8  31.6 -81.1       hurricane         3   100   \n4      AL031854  1854      9    8  31.7 -81.1       hurricane         3   100   \n...         ...   ...    ...  ...   ...   ...             ...       ...   ...   \n22452    Harvey  2011      8   20  17.0 -88.3  tropical storm         0    55   \n22466     Irene  2011      8   21  17.8 -64.6  tropical storm         0    60   \n22476     Irene  2011      8   22  18.1 -65.8  tropical storm         0    60   \n22487     Irene  2011      8   24  22.4 -74.0       hurricane         3   100   \n22495     Irene  2011      8   25  24.7 -76.2       hurricane         2    90   \n\n       pressure  tropicalstorm_force_diameter  hurricane_force_diameter  \n0           961                           NaN                       NaN  \n1           924                           NaN                       NaN  \n2           938                           NaN                       NaN  \n3           950                           NaN                       NaN  \n4           950                           NaN                       NaN  \n...         ...                           ...                       ...  \n22452       995                           NaN                       NaN  \n22466       993                           NaN                       NaN  \n22476       990                           NaN                       NaN  \n22487       955                           NaN                       NaN  \n22495       950                           NaN                       NaN  \n\n[17551 rows x 12 columns]",
      "text/html": "<div>\n<style scoped>\n    .dataframe tbody tr th:only-of-type {\n        vertical-align: middle;\n    }\n\n    .dataframe tbody tr th {\n        vertical-align: top;\n    }\n\n    .dataframe thead th {\n        text-align: right;\n    }\n</style>\n<table border=\"1\" class=\"dataframe\">\n  <thead>\n    <tr style=\"text-align: right;\">\n      <th></th>\n      <th>name</th>\n      <th>year</th>\n      <th>month</th>\n      <th>day</th>\n      <th>lat</th>\n      <th>long</th>\n      <th>status</th>\n      <th>category</th>\n      <th>wind</th>\n      <th>pressure</th>\n      <th>tropicalstorm_force_diameter</th>\n      <th>hurricane_force_diameter</th>\n    </tr>\n  </thead>\n  <tbody>\n    <tr>\n      <th>0</th>\n      <td>AL011852</td>\n      <td>1852</td>\n      <td>8</td>\n      <td>26</td>\n      <td>30.2</td>\n      <td>-88.6</td>\n      <td>hurricane</td>\n      <td>3</td>\n      <td>100</td>\n      <td>961</td>\n      <td>NaN</td>\n      <td>NaN</td>\n    </tr>\n    <tr>\n      <th>1</th>\n      <td>AL031853</td>\n      <td>1853</td>\n      <td>9</td>\n      <td>3</td>\n      <td>19.7</td>\n      <td>-56.2</td>\n      <td>hurricane</td>\n      <td>4</td>\n      <td>130</td>\n      <td>924</td>\n      <td>NaN</td>\n      <td>NaN</td>\n    </tr>\n    <tr>\n      <th>2</th>\n      <td>AL031854</td>\n      <td>1854</td>\n      <td>9</td>\n      <td>7</td>\n      <td>28.0</td>\n      <td>-78.6</td>\n      <td>hurricane</td>\n      <td>3</td>\n      <td>110</td>\n      <td>938</td>\n      <td>NaN</td>\n      <td>NaN</td>\n    </tr>\n    <tr>\n      <th>3</th>\n      <td>AL031854</td>\n      <td>1854</td>\n      <td>9</td>\n      <td>8</td>\n      <td>31.6</td>\n      <td>-81.1</td>\n      <td>hurricane</td>\n      <td>3</td>\n      <td>100</td>\n      <td>950</td>\n      <td>NaN</td>\n      <td>NaN</td>\n    </tr>\n    <tr>\n      <th>4</th>\n      <td>AL031854</td>\n      <td>1854</td>\n      <td>9</td>\n      <td>8</td>\n      <td>31.7</td>\n      <td>-81.1</td>\n      <td>hurricane</td>\n      <td>3</td>\n      <td>100</td>\n      <td>950</td>\n      <td>NaN</td>\n      <td>NaN</td>\n    </tr>\n    <tr>\n      <th>...</th>\n      <td>...</td>\n      <td>...</td>\n      <td>...</td>\n      <td>...</td>\n      <td>...</td>\n      <td>...</td>\n      <td>...</td>\n      <td>...</td>\n      <td>...</td>\n      <td>...</td>\n      <td>...</td>\n      <td>...</td>\n    </tr>\n    <tr>\n      <th>22452</th>\n      <td>Harvey</td>\n      <td>2011</td>\n      <td>8</td>\n      <td>20</td>\n      <td>17.0</td>\n      <td>-88.3</td>\n      <td>tropical storm</td>\n      <td>0</td>\n      <td>55</td>\n      <td>995</td>\n      <td>NaN</td>\n      <td>NaN</td>\n    </tr>\n    <tr>\n      <th>22466</th>\n      <td>Irene</td>\n      <td>2011</td>\n      <td>8</td>\n      <td>21</td>\n      <td>17.8</td>\n      <td>-64.6</td>\n      <td>tropical storm</td>\n      <td>0</td>\n      <td>60</td>\n      <td>993</td>\n      <td>NaN</td>\n      <td>NaN</td>\n    </tr>\n    <tr>\n      <th>22476</th>\n      <td>Irene</td>\n      <td>2011</td>\n      <td>8</td>\n      <td>22</td>\n      <td>18.1</td>\n      <td>-65.8</td>\n      <td>tropical storm</td>\n      <td>0</td>\n      <td>60</td>\n      <td>990</td>\n      <td>NaN</td>\n      <td>NaN</td>\n    </tr>\n    <tr>\n      <th>22487</th>\n      <td>Irene</td>\n      <td>2011</td>\n      <td>8</td>\n      <td>24</td>\n      <td>22.4</td>\n      <td>-74.0</td>\n      <td>hurricane</td>\n      <td>3</td>\n      <td>100</td>\n      <td>955</td>\n      <td>NaN</td>\n      <td>NaN</td>\n    </tr>\n    <tr>\n      <th>22495</th>\n      <td>Irene</td>\n      <td>2011</td>\n      <td>8</td>\n      <td>25</td>\n      <td>24.7</td>\n      <td>-76.2</td>\n      <td>hurricane</td>\n      <td>2</td>\n      <td>90</td>\n      <td>950</td>\n      <td>NaN</td>\n      <td>NaN</td>\n    </tr>\n  </tbody>\n</table>\n<p>17551 rows × 12 columns</p>\n</div>"
     },
     "execution_count": 6,
     "metadata": {},
     "output_type": "execute_result"
    }
   ],
   "source": [
    "# Filtrando apenas as colunas com valores maiores que 0.\n",
    "# TODO: Criar texto explicando o por que da analise sobre estas colunas e se há necessidade de tratar.\n",
    "index_1 = list(df.loc[pd.isna(df.tropicalstorm_force_diameter), :].index)\n",
    "index_2 = list(df.loc[pd.isna(df.hurricane_force_diameter), :].index)\n",
    "all_nan_ind = list(set(index_1 + index_2))\n",
    "len(all_nan_ind)\n",
    "# half_empty_columns_df\n",
    "half_empty_columns_df = df.filter(items = all_nan_ind, axis=0)\n",
    "half_empty_columns_df"
   ],
   "metadata": {
    "pycharm": {
     "name": "#%%\n"
    },
    "id": "U6ZV58b6GbxQ",
    "outputId": "46b694ff-5449-4fc1-e9de-a0820e6e065d"
   }
  },
  {
   "cell_type": "code",
   "execution_count": 6,
   "outputs": [],
   "source": [],
   "metadata": {
    "collapsed": false,
    "pycharm": {
     "name": "#%%\n"
    }
   }
  },
  {
   "cell_type": "markdown",
   "source": [
    "Quais os tipos de dados das colunas?"
   ],
   "metadata": {
    "collapsed": false,
    "pycharm": {
     "name": "#%% md\n"
    },
    "id": "_gGHsMnWGbxR"
   }
  },
  {
   "cell_type": "code",
   "execution_count": 7,
   "outputs": [
    {
     "data": {
      "text/plain": "name                             object\nyear                              int64\nmonth                             int64\nday                               int64\nlat                             float64\nlong                            float64\nstatus                           object\ncategory                          int64\nwind                              int64\npressure                          int64\ntropicalstorm_force_diameter    float64\nhurricane_force_diameter        float64\ndtype: object"
     },
     "execution_count": 7,
     "metadata": {},
     "output_type": "execute_result"
    }
   ],
   "source": [
    "df.dtypes"
   ],
   "metadata": {
    "pycharm": {
     "name": "#%%\n"
    },
    "id": "nXf0eJv3GbxR",
    "outputId": "4d6d0926-4195-4c42-d4a4-892efb8ec570"
   }
  },
  {
   "cell_type": "markdown",
   "source": [
    "Todos os tipos dados estão corretos para a nossa analise, logo não precisaremos realizar nenhuma conversão. Vamos adicionar uma nova coluna chamada **date** para facilitar a nossa busca por datas."
   ],
   "metadata": {
    "collapsed": false,
    "pycharm": {
     "name": "#%% md\n"
    },
    "id": "_UJAEJv9GbxS"
   }
  },
  {
   "cell_type": "code",
   "execution_count": 8,
   "outputs": [
    {
     "data": {
      "text/plain": "0       1852-08-26\n1       1853-09-03\n2       1854-09-07\n3       1854-09-08\n4       1854-09-08\n           ...    \n30011   2021-11-06\n30012   2021-11-07\n30013   2021-11-07\n30014   2021-11-07\n30015   2021-11-07\nName: date, Length: 30016, dtype: datetime64[ns]"
     },
     "execution_count": 8,
     "metadata": {},
     "output_type": "execute_result"
    }
   ],
   "source": [
    "def format_date_field(row):\n",
    "        date=datetime(row['year'], row['month'], row['day'])\n",
    "        row['date'] = pd.to_datetime(date)\n",
    "        return row\n",
    "\n",
    "df = df.apply(lambda row: format_date_field(row), axis=1)\n",
    "df['date']"
   ],
   "metadata": {
    "collapsed": false,
    "pycharm": {
     "name": "#%%\n"
    }
   }
  },
  {
   "cell_type": "markdown",
   "source": [
    "Como podemos ver a coluna **date** é do tipo **datetime**, o que queriamos.\n",
    "Podemos agora excluir as colunas **year**, **month**, **day**"
   ],
   "metadata": {
    "collapsed": false,
    "pycharm": {
     "name": "#%% md\n"
    }
   }
  },
  {
   "cell_type": "code",
   "execution_count": 9,
   "outputs": [
    {
     "data": {
      "text/plain": "            date  year  month  day\n24270 2013-09-17  2013      9   17\n10754 1995-07-18  1995      7   18",
      "text/html": "<div>\n<style scoped>\n    .dataframe tbody tr th:only-of-type {\n        vertical-align: middle;\n    }\n\n    .dataframe tbody tr th {\n        vertical-align: top;\n    }\n\n    .dataframe thead th {\n        text-align: right;\n    }\n</style>\n<table border=\"1\" class=\"dataframe\">\n  <thead>\n    <tr style=\"text-align: right;\">\n      <th></th>\n      <th>date</th>\n      <th>year</th>\n      <th>month</th>\n      <th>day</th>\n    </tr>\n  </thead>\n  <tbody>\n    <tr>\n      <th>24270</th>\n      <td>2013-09-17</td>\n      <td>2013</td>\n      <td>9</td>\n      <td>17</td>\n    </tr>\n    <tr>\n      <th>10754</th>\n      <td>1995-07-18</td>\n      <td>1995</td>\n      <td>7</td>\n      <td>18</td>\n    </tr>\n  </tbody>\n</table>\n</div>"
     },
     "execution_count": 9,
     "metadata": {},
     "output_type": "execute_result"
    }
   ],
   "source": [
    "df[['date', 'year', 'month', 'day']].sample(2)"
   ],
   "metadata": {
    "collapsed": false,
    "pycharm": {
     "name": "#%%\n"
    }
   }
  },
  {
   "cell_type": "markdown",
   "source": [
    "# Analisando os dados\n",
    "Começaremos a analisar os dados e responder as nossas questões"
   ],
   "metadata": {
    "collapsed": false,
    "pycharm": {
     "name": "#%% md\n"
    },
    "id": "p0hl_VcPGbxS"
   }
  },
  {
   "cell_type": "code",
   "execution_count": 10,
   "outputs": [],
   "source": [
    "df = df.drop(columns=['year', 'month', 'day'])"
   ],
   "metadata": {
    "collapsed": false,
    "pycharm": {
     "name": "#%%\n"
    }
   }
  },
  {
   "cell_type": "markdown",
   "source": [
    "# Analise Exploratória\n",
    "\n",
    "> Inicialmente iremos verificar a maior ocorrência de tempestades.\n",
    "> **OBS:** É importante ressaltar que não pegaremos todas as tempestades"
   ],
   "metadata": {
    "collapsed": false,
    "pycharm": {
     "name": "#%% md\n"
    }
   }
  },
  {
   "cell_type": "code",
   "execution_count": 31,
   "outputs": [
    {
     "name": "stdout",
     "output_type": "stream",
     "text": [
      "O total de tempestades registradas foram 651\n"
     ]
    }
   ],
   "source": [
    "print(f\"O total de tempestades registradas foram {len(df['name'].unique().tolist())}\")"
   ],
   "metadata": {
    "collapsed": false,
    "pycharm": {
     "name": "#%%\n"
    }
   }
  },
  {
   "cell_type": "markdown",
   "source": [
    "Como podemos ver, o total de tempestades registradas é de 651, mas nem todas elas possuem um nome de fato, umas só possuem um código. Vamos demonstrar:"
   ],
   "metadata": {
    "collapsed": false,
    "pycharm": {
     "name": "#%% md\n"
    }
   }
  },
  {
   "cell_type": "code",
   "execution_count": 34,
   "outputs": [
    {
     "data": {
      "text/plain": "602    Able\n603    Able\n604    Able\n605    Able\n606    Able\nName: name, dtype: object"
     },
     "metadata": {},
     "output_type": "display_data"
    },
    {
     "data": {
      "text/plain": "0    AL011852\n1    AL031853\n2    AL031854\n3    AL031854\n4    AL031854\nName: name, dtype: object"
     },
     "metadata": {},
     "output_type": "display_data"
    }
   ],
   "source": [
    "# Filtrando as tempestades (cujo nem todos os caracteres estão no alfabeto)\n",
    "df_not_real_names = df[~df['name'].str.isalpha()]\n",
    "\n",
    "# Filtrando as tempestades (cujo todos os caracteres estão no alfabeto)\n",
    "df_real_names = df[df['name'].str.isalpha()]\n",
    "\n",
    "# Visualizando estas separações\n",
    "display(df_real_names['name'][:5],\n",
    "        df_not_real_names['name'][:5])"
   ],
   "metadata": {
    "collapsed": false,
    "pycharm": {
     "name": "#%%\n"
    }
   }
  },
  {
   "cell_type": "code",
   "execution_count": 11,
   "outputs": [
    {
     "data": {
      "text/plain": "        name   lat  long          status  category  wind  pressure  \\\n602     Able  22.0 -63.2  tropical storm         0    55       997   \n603     Able  22.7 -63.8  tropical storm         0    60       995   \n604     Able  23.4 -65.4  tropical storm         0    60       995   \n605     Able  23.9 -66.0       hurricane         1    65       989   \n606     Able  25.2 -66.8       hurricane         1    70       987   \n...      ...   ...   ...             ...       ...   ...       ...   \n30011  Wanda  37.1 -38.0  tropical storm         0    35      1002   \n30012  Wanda  37.4 -37.4  tropical storm         0    35      1003   \n30013  Wanda  38.1 -36.4  tropical storm         0    35      1004   \n30014  Wanda  37.4 -37.4  tropical storm         0    35      1003   \n30015  Wanda  38.1 -36.4  tropical storm         0    35      1004   \n\n       tropicalstorm_force_diameter  hurricane_force_diameter       date  \n602                             NaN                       NaN 1950-08-13  \n603                             NaN                       NaN 1950-08-14  \n604                             NaN                       NaN 1950-08-14  \n605                             NaN                       NaN 1950-08-14  \n606                             NaN                       NaN 1950-08-15  \n...                             ...                       ...        ...  \n30011                         100.0                       0.0 2021-11-06  \n30012                          60.0                       0.0 2021-11-07  \n30013                          60.0                       0.0 2021-11-07  \n30014                          60.0                       0.0 2021-11-07  \n30015                          60.0                       0.0 2021-11-07  \n\n[28535 rows x 10 columns]",
      "text/html": "<div>\n<style scoped>\n    .dataframe tbody tr th:only-of-type {\n        vertical-align: middle;\n    }\n\n    .dataframe tbody tr th {\n        vertical-align: top;\n    }\n\n    .dataframe thead th {\n        text-align: right;\n    }\n</style>\n<table border=\"1\" class=\"dataframe\">\n  <thead>\n    <tr style=\"text-align: right;\">\n      <th></th>\n      <th>name</th>\n      <th>lat</th>\n      <th>long</th>\n      <th>status</th>\n      <th>category</th>\n      <th>wind</th>\n      <th>pressure</th>\n      <th>tropicalstorm_force_diameter</th>\n      <th>hurricane_force_diameter</th>\n      <th>date</th>\n    </tr>\n  </thead>\n  <tbody>\n    <tr>\n      <th>602</th>\n      <td>Able</td>\n      <td>22.0</td>\n      <td>-63.2</td>\n      <td>tropical storm</td>\n      <td>0</td>\n      <td>55</td>\n      <td>997</td>\n      <td>NaN</td>\n      <td>NaN</td>\n      <td>1950-08-13</td>\n    </tr>\n    <tr>\n      <th>603</th>\n      <td>Able</td>\n      <td>22.7</td>\n      <td>-63.8</td>\n      <td>tropical storm</td>\n      <td>0</td>\n      <td>60</td>\n      <td>995</td>\n      <td>NaN</td>\n      <td>NaN</td>\n      <td>1950-08-14</td>\n    </tr>\n    <tr>\n      <th>604</th>\n      <td>Able</td>\n      <td>23.4</td>\n      <td>-65.4</td>\n      <td>tropical storm</td>\n      <td>0</td>\n      <td>60</td>\n      <td>995</td>\n      <td>NaN</td>\n      <td>NaN</td>\n      <td>1950-08-14</td>\n    </tr>\n    <tr>\n      <th>605</th>\n      <td>Able</td>\n      <td>23.9</td>\n      <td>-66.0</td>\n      <td>hurricane</td>\n      <td>1</td>\n      <td>65</td>\n      <td>989</td>\n      <td>NaN</td>\n      <td>NaN</td>\n      <td>1950-08-14</td>\n    </tr>\n    <tr>\n      <th>606</th>\n      <td>Able</td>\n      <td>25.2</td>\n      <td>-66.8</td>\n      <td>hurricane</td>\n      <td>1</td>\n      <td>70</td>\n      <td>987</td>\n      <td>NaN</td>\n      <td>NaN</td>\n      <td>1950-08-15</td>\n    </tr>\n    <tr>\n      <th>...</th>\n      <td>...</td>\n      <td>...</td>\n      <td>...</td>\n      <td>...</td>\n      <td>...</td>\n      <td>...</td>\n      <td>...</td>\n      <td>...</td>\n      <td>...</td>\n      <td>...</td>\n    </tr>\n    <tr>\n      <th>30011</th>\n      <td>Wanda</td>\n      <td>37.1</td>\n      <td>-38.0</td>\n      <td>tropical storm</td>\n      <td>0</td>\n      <td>35</td>\n      <td>1002</td>\n      <td>100.0</td>\n      <td>0.0</td>\n      <td>2021-11-06</td>\n    </tr>\n    <tr>\n      <th>30012</th>\n      <td>Wanda</td>\n      <td>37.4</td>\n      <td>-37.4</td>\n      <td>tropical storm</td>\n      <td>0</td>\n      <td>35</td>\n      <td>1003</td>\n      <td>60.0</td>\n      <td>0.0</td>\n      <td>2021-11-07</td>\n    </tr>\n    <tr>\n      <th>30013</th>\n      <td>Wanda</td>\n      <td>38.1</td>\n      <td>-36.4</td>\n      <td>tropical storm</td>\n      <td>0</td>\n      <td>35</td>\n      <td>1004</td>\n      <td>60.0</td>\n      <td>0.0</td>\n      <td>2021-11-07</td>\n    </tr>\n    <tr>\n      <th>30014</th>\n      <td>Wanda</td>\n      <td>37.4</td>\n      <td>-37.4</td>\n      <td>tropical storm</td>\n      <td>0</td>\n      <td>35</td>\n      <td>1003</td>\n      <td>60.0</td>\n      <td>0.0</td>\n      <td>2021-11-07</td>\n    </tr>\n    <tr>\n      <th>30015</th>\n      <td>Wanda</td>\n      <td>38.1</td>\n      <td>-36.4</td>\n      <td>tropical storm</td>\n      <td>0</td>\n      <td>35</td>\n      <td>1004</td>\n      <td>60.0</td>\n      <td>0.0</td>\n      <td>2021-11-07</td>\n    </tr>\n  </tbody>\n</table>\n<p>28535 rows × 10 columns</p>\n</div>"
     },
     "execution_count": 11,
     "metadata": {},
     "output_type": "execute_result"
    }
   ],
   "source": [
    "df_real_names.sample(20)"
   ],
   "metadata": {
    "collapsed": false,
    "pycharm": {
     "name": "#%%\n"
    }
   }
  },
  {
   "cell_type": "markdown",
   "source": [
    "### 1. Visualizando as tempestades com maior ocorrência\n",
    "> Para visualizar as tempestades com maior ocorrência, iremos realizar outro filtro, baseado na contagem dos valores. E também voltado apenas nas tempestades com nomes reais"
   ],
   "metadata": {
    "collapsed": false,
    "pycharm": {
     "name": "#%% md\n"
    }
   }
  },
  {
   "cell_type": "code",
   "execution_count": 67,
   "outputs": [
    {
     "name": "stderr",
     "output_type": "stream",
     "text": [
      "C:\\Users\\jefer\\anaconda3\\lib\\site-packages\\seaborn\\_decorators.py:36: FutureWarning: Pass the following variable as a keyword arg: x. From version 0.12, the only valid positional argument will be `data`, and passing other arguments without an explicit keyword will result in an error or misinterpretation.\n",
      "  warnings.warn(\n"
     ]
    },
    {
     "data": {
      "text/plain": "<Figure size 1008x576 with 1 Axes>",
      "image/png": "[encoded data removed]"
     },
     "metadata": {
      "needs_background": "light"
     },
     "output_type": "display_data"
    }
   ],
   "source": [
    "# Filtering date based on \"name\" and count of each values\n",
    "most_frequent_storms = df_real_names[df_real_names['name'].isin(\n",
    "        df_real_names['name'].value_counts()[df_real_names['name'].value_counts()>250].index)]\n",
    "\n",
    "# Order by clause, to sort the graphic plot\n",
    "order_by_clause = most_frequent_storms['name'].value_counts().index\n",
    "\n",
    "fig, ax = plt.subplots(figsize=(14,8))\n",
    "sns.countplot(most_frequent_storms['name'], order=order_by_clause, ax=ax)\n",
    "for p in ax.patches:\n",
    "        ax.annotate('{}'.format(p.get_height()),\n",
    "                    (p.get_x()+0.25, p.get_height()+0.1),\n",
    "                    rotation=90,\n",
    "                    fontsize=14)\n",
    "plt.title(\"Ocorrência de Tempestades\", fontsize=16)\n",
    "plt.xlabel(\"Nome da Tempestade\", fontsize=14)\n",
    "plt.ylabel(\"Ocorrência\", fontsize=13)\n",
    "plt.xticks(rotation=90, fontsize=16)\n",
    "plt.show()"
   ],
   "metadata": {
    "collapsed": false,
    "pycharm": {
     "name": "#%%\n"
    }
   }
  },
  {
   "cell_type": "markdown",
   "source": [
    "**Com a plotagem do gráfico acima, podemos visualizar que as tempestades com maior ocorrência, foram:**\n",
    "\n",
    "1. Emily (434 ocorrências);\n",
    "2. Bonnie (418 ocorrências);\n",
    "3. Claudette (388 ocorrências);\n",
    "4. Alberto (368 ocorrências);\n",
    "5. Felix (356 ocorrências)."
   ],
   "metadata": {
    "collapsed": false,
    "pycharm": {
     "name": "#%% md\n"
    }
   }
  },
  {
   "cell_type": "code",
   "execution_count": 13,
   "outputs": [
    {
     "data": {
      "text/plain": "<pandas.core.groupby.generic.DataFrameGroupBy object at 0x0000025996A51C40>"
     },
     "execution_count": 13,
     "metadata": {},
     "output_type": "execute_result"
    }
   ],
   "source": [
    "# df[['status', 'category']].count_values()\n",
    "df.groupby(by='status')"
   ],
   "metadata": {
    "pycharm": {
     "name": "#%%\n"
    },
    "id": "nWoyUhXxGbxT",
    "outputId": "9096dd67-a14d-48ed-ea9b-0c367a6d4b22"
   }
  },
  {
   "cell_type": "code",
   "execution_count": 14,
   "outputs": [
    {
     "data": {
      "text/plain": "array(['hurricane', 'tropical storm', 'tropical depression'], dtype=object)"
     },
     "execution_count": 14,
     "metadata": {},
     "output_type": "execute_result"
    }
   ],
   "source": [
    "df.status.unique()"
   ],
   "metadata": {
    "pycharm": {
     "name": "#%%\n"
    },
    "id": "CHs6I1dSGbxT",
    "outputId": "9af8c25c-fd7f-44f4-e037-e5cafaa88877"
   }
  },
  {
   "cell_type": "code",
   "execution_count": 15,
   "outputs": [
    {
     "data": {
      "text/plain": "<AxesSubplot:xlabel='category', ylabel='count'>"
     },
     "execution_count": 15,
     "metadata": {},
     "output_type": "execute_result"
    },
    {
     "data": {
      "text/plain": "<Figure size 432x288 with 1 Axes>",
      "image/png": "[encoded data removed]"
     },
     "metadata": {
      "needs_background": "light"
     },
     "output_type": "display_data"
    }
   ],
   "source": [
    "sns.countplot(x='category', data=df)"
   ],
   "metadata": {
    "pycharm": {
     "name": "#%%\n"
    },
    "id": "PB8o2cFkGbxU",
    "outputId": "22a2df62-7ef5-417e-fb27-3e1d87939c30"
   }
  },
  {
   "cell_type": "code",
   "execution_count": 16,
   "outputs": [
    {
     "data": {
      "text/plain": "<AxesSubplot:xlabel='status', ylabel='count'>"
     },
     "execution_count": 16,
     "metadata": {},
     "output_type": "execute_result"
    },
    {
     "data": {
      "text/plain": "<Figure size 432x288 with 1 Axes>",
      "image/png": "[encoded data removed]"
     },
     "metadata": {
      "needs_background": "light"
     },
     "output_type": "display_data"
    }
   ],
   "source": [
    "sns.countplot(x='status', data=df)"
   ],
   "metadata": {
    "pycharm": {
     "name": "#%%\n"
    },
    "id": "n0Q4Oz0zGbxU",
    "outputId": "92a23b82-5a9d-4cfd-e2ca-88237cef1777"
   }
  },
  {
   "cell_type": "code",
   "execution_count": 17,
   "outputs": [
    {
     "data": {
      "text/plain": "array(['hurricane', 'tropical storm', 'tropical depression'], dtype=object)"
     },
     "execution_count": 17,
     "metadata": {},
     "output_type": "execute_result"
    }
   ],
   "source": [
    "# Separar por tipo de status\n",
    "df.status.unique()"
   ],
   "metadata": {
    "pycharm": {
     "name": "#%%\n"
    },
    "id": "9VMYPFjZGbxV",
    "outputId": "2764b8bc-776b-4f7a-bbc6-326018f94bbc"
   }
  },
  {
   "cell_type": "code",
   "execution_count": 18,
   "outputs": [],
   "source": [
    "# testando teste 123 remover texto fake sqn"
   ],
   "metadata": {
    "pycharm": {
     "name": "#%%\n"
    },
    "id": "wKO5YJovGbxV"
   }
  },
  {
   "cell_type": "code",
   "execution_count": 18,
   "outputs": [],
   "source": [],
   "metadata": {
    "collapsed": false,
    "pycharm": {
     "name": "#%%\n"
    }
   }
  }
 ],
 "metadata": {
  "kernelspec": {
   "display_name": "Python 3",
   "language": "python",
   "name": "python3"
  },
  "language_info": {
   "codemirror_mode": {
    "name": "ipython",
    "version": 2
   },
   "file_extension": ".py",
   "mimetype": "text/x-python",
   "name": "python",
   "nbconvert_exporter": "python",
   "pygments_lexer": "ipython2",
   "version": "2.7.6"
  },
  "colab": {
   "provenance": []
  }
 },
 "nbformat": 4,
 "nbformat_minor": 0
}