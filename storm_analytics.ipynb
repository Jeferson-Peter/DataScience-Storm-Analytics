{
  "cells": [
    {
      "cell_type": "markdown",
      "source": [
        "# Importando bibliotecas\n",
        "\n",
        "**Name:**\n",
        "**Year:**\n",
        "**Month:**\n",
        "**Day:**\n",
        "**Hour:**\n",
        "**Lat:**\n",
        "**Long:**\n",
        "**Status:**\n",
        "**Category:**\n",
        "**Wind:**\n",
        "**Pressure:**\n",
        "**Tropicalstorm_force_diamete:**\n",
        "**hurricane_force_diameter:**"
      ],
      "metadata": {
        "collapsed": false,
        "id": "tsXOoryoGbxB"
      }
    },
    {
      "cell_type": "markdown",
      "source": [
        "# Questões a serem respondidas?\n",
        "\n",
        "1. Ver quais as tempestades com maior ocorrência? (nome, category, status)\n",
        "2. Qual a maior velocidade do vento e pressão?\n",
        "3. Qual a maior ocorrência das tempestades em um período de tempo (dia, mes, ano ) -> Desafio semanas\n",
        "4. Qual a localidade que sofreu mais tempestades. (independente das variaveis?). Exemplo: A cidade que teve maior frequência de tempestades\n",
        "5. Em quais localidades as tempestades (por status) ocorreram. Exemplo: Hurricane houve a maior concentração no Alabama, porém a depressão em Michigan e New York\n",
        "6. Quais as localidade mais afetadas, por um determinado Tempestade. Exemplo: A Carrie ocorreu com maior frequência em New York e Florida.\n",
        "7. Ano que teve mais tempestades.\n"
      ],
      "metadata": {
        "collapsed": false,
        "pycharm": {
          "name": "#%% md\n"
        },
        "id": "oM3S5gX_GbxE"
      }
    },
    {
      "cell_type": "markdown",
      "source": [
        "## Determinar categorias por tipo de tempestade\n",
        "\n",
        "> Como podemos determinar as categorias pelos tipos de tempestades.\n"
      ],
      "metadata": {
        "collapsed": false,
        "pycharm": {
          "name": "#%% md\n"
        },
        "id": "iqujfsTGGbxG"
      }
    },
    {
      "cell_type": "markdown",
      "source": [
        " ## Importando todas as biblioteca necessárias\n"
      ],
      "metadata": {
        "collapsed": false,
        "id": "urQt3cw_GbxH"
      }
    },
    {
      "cell_type": "code",
      "execution_count": 2,
      "outputs": [],
      "source": [
        "import pandas as pd\n",
        "import matplotlib.pyplot as plt\n",
        "import seaborn as sns\n",
        "from datetime import datetime\n",
        "# Estudar bibliotecas\n",
        "# FOLIUM => https://jacobtadesse.com/2019/09/28/visualizing-pandas-dataframe-lat-long-with-folium-maps/\n",
        "# GEOPLOT => https://medium.com/geekculture/geospatial-visualization-with-geoplot-in-python-40b3de35ce0d"
      ],
      "metadata": {
        "pycharm": {
          "name": "#%%\n"
        },
        "id": "Y4GwET7SGbxI"
      }
    },
    {
      "cell_type": "markdown",
      "source": [],
      "metadata": {
        "collapsed": false,
        "pycharm": {
          "name": "#%% md\n"
        },
        "id": "2M_PkJOlGbxK"
      }
    },
    {
      "cell_type": "markdown",
      "source": [
        "### Carregando os Datasets\n",
        "\n",
        "> Iremos juntar todos os dados em apenas um único DataFrame\n",
        "    > O arquivo storms.csv contém tempestades da época de 1950 aos dias atuais\n",
        "    > Já storms_updated.csv contém dados de 1852 a 1950\n",
        "Quando já finalizamos a junção dos dados, iremos realizar um sort dos valores por ano, mês e dia"
      ],
      "metadata": {
        "collapsed": false,
        "pycharm": {
          "name": "#%% md\n"
        },
        "id": "OxK2OBWeGbxK"
      }
    },
    {
      "cell_type": "code",
      "execution_count": 3,
      "outputs": [
        {
          "output_type": "execute_result",
          "data": {
            "text/plain": [
              "           name  year  month  day  hour   lat  long          status  category  \\\n",
              "0      AL011852  1852      8   26     6  30.2 -88.6       hurricane         3   \n",
              "1      AL031853  1853      9    3    12  19.7 -56.2       hurricane         4   \n",
              "2      AL031854  1854      9    7    12  28.0 -78.6       hurricane         3   \n",
              "3      AL031854  1854      9    8    18  31.6 -81.1       hurricane         3   \n",
              "4      AL031854  1854      9    8    20  31.7 -81.1       hurricane         3   \n",
              "...         ...   ...    ...  ...   ...   ...   ...             ...       ...   \n",
              "30011     Wanda  2021     11    6    18  37.1 -38.0  tropical storm         0   \n",
              "30012     Wanda  2021     11    7     0  37.4 -37.4  tropical storm         0   \n",
              "30013     Wanda  2021     11    7     6  38.1 -36.4  tropical storm         0   \n",
              "30014     Wanda  2021     11    7     0  37.4 -37.4  tropical storm         0   \n",
              "30015     Wanda  2021     11    7     6  38.1 -36.4  tropical storm         0   \n",
              "\n",
              "       wind  pressure  tropicalstorm_force_diameter  hurricane_force_diameter  \n",
              "0       100       961                           NaN                       NaN  \n",
              "1       130       924                           NaN                       NaN  \n",
              "2       110       938                           NaN                       NaN  \n",
              "3       100       950                           NaN                       NaN  \n",
              "4       100       950                           NaN                       NaN  \n",
              "...     ...       ...                           ...                       ...  \n",
              "30011    35      1002                         100.0                       0.0  \n",
              "30012    35      1003                          60.0                       0.0  \n",
              "30013    35      1004                          60.0                       0.0  \n",
              "30014    35      1003                          60.0                       0.0  \n",
              "30015    35      1004                          60.0                       0.0  \n",
              "\n",
              "[30016 rows x 13 columns]"
            ],
            "text/html": [
              "\n",
              "  <div id=\"df-ad3ca7d2-9573-42db-89a6-414606710d54\">\n",
              "    <div class=\"colab-df-container\">\n",
              "      <div>\n",
              "<style scoped>\n",
              "    .dataframe tbody tr th:only-of-type {\n",
              "        vertical-align: middle;\n",
              "    }\n",
              "\n",
              "    .dataframe tbody tr th {\n",
              "        vertical-align: top;\n",
              "    }\n",
              "\n",
              "    .dataframe thead th {\n",
              "        text-align: right;\n",
              "    }\n",
              "</style>\n",
              "<table border=\"1\" class=\"dataframe\">\n",
              "  <thead>\n",
              "    <tr style=\"text-align: right;\">\n",
              "      <th></th>\n",
              "      <th>name</th>\n",
              "      <th>year</th>\n",
              "      <th>month</th>\n",
              "      <th>day</th>\n",
              "      <th>hour</th>\n",
              "      <th>lat</th>\n",
              "      <th>long</th>\n",
              "      <th>status</th>\n",
              "      <th>category</th>\n",
              "      <th>wind</th>\n",
              "      <th>pressure</th>\n",
              "      <th>tropicalstorm_force_diameter</th>\n",
              "      <th>hurricane_force_diameter</th>\n",
              "    </tr>\n",
              "  </thead>\n",
              "  <tbody>\n",
              "    <tr>\n",
              "      <th>0</th>\n",
              "      <td>AL011852</td>\n",
              "      <td>1852</td>\n",
              "      <td>8</td>\n",
              "      <td>26</td>\n",
              "      <td>6</td>\n",
              "      <td>30.2</td>\n",
              "      <td>-88.6</td>\n",
              "      <td>hurricane</td>\n",
              "      <td>3</td>\n",
              "      <td>100</td>\n",
              "      <td>961</td>\n",
              "      <td>NaN</td>\n",
              "      <td>NaN</td>\n",
              "    </tr>\n",
              "    <tr>\n",
              "      <th>1</th>\n",
              "      <td>AL031853</td>\n",
              "      <td>1853</td>\n",
              "      <td>9</td>\n",
              "      <td>3</td>\n",
              "      <td>12</td>\n",
              "      <td>19.7</td>\n",
              "      <td>-56.2</td>\n",
              "      <td>hurricane</td>\n",
              "      <td>4</td>\n",
              "      <td>130</td>\n",
              "      <td>924</td>\n",
              "      <td>NaN</td>\n",
              "      <td>NaN</td>\n",
              "    </tr>\n",
              "    <tr>\n",
              "      <th>2</th>\n",
              "      <td>AL031854</td>\n",
              "      <td>1854</td>\n",
              "      <td>9</td>\n",
              "      <td>7</td>\n",
              "      <td>12</td>\n",
              "      <td>28.0</td>\n",
              "      <td>-78.6</td>\n",
              "      <td>hurricane</td>\n",
              "      <td>3</td>\n",
              "      <td>110</td>\n",
              "      <td>938</td>\n",
              "      <td>NaN</td>\n",
              "      <td>NaN</td>\n",
              "    </tr>\n",
              "    <tr>\n",
              "      <th>3</th>\n",
              "      <td>AL031854</td>\n",
              "      <td>1854</td>\n",
              "      <td>9</td>\n",
              "      <td>8</td>\n",
              "      <td>18</td>\n",
              "      <td>31.6</td>\n",
              "      <td>-81.1</td>\n",
              "      <td>hurricane</td>\n",
              "      <td>3</td>\n",
              "      <td>100</td>\n",
              "      <td>950</td>\n",
              "      <td>NaN</td>\n",
              "      <td>NaN</td>\n",
              "    </tr>\n",
              "    <tr>\n",
              "      <th>4</th>\n",
              "      <td>AL031854</td>\n",
              "      <td>1854</td>\n",
              "      <td>9</td>\n",
              "      <td>8</td>\n",
              "      <td>20</td>\n",
              "      <td>31.7</td>\n",
              "      <td>-81.1</td>\n",
              "      <td>hurricane</td>\n",
              "      <td>3</td>\n",
              "      <td>100</td>\n",
              "      <td>950</td>\n",
              "      <td>NaN</td>\n",
              "      <td>NaN</td>\n",
              "    </tr>\n",
              "    <tr>\n",
              "      <th>...</th>\n",
              "      <td>...</td>\n",
              "      <td>...</td>\n",
              "      <td>...</td>\n",
              "      <td>...</td>\n",
              "      <td>...</td>\n",
              "      <td>...</td>\n",
              "      <td>...</td>\n",
              "      <td>...</td>\n",
              "      <td>...</td>\n",
              "      <td>...</td>\n",
              "      <td>...</td>\n",
              "      <td>...</td>\n",
              "      <td>...</td>\n",
              "    </tr>\n",
              "    <tr>\n",
              "      <th>30011</th>\n",
              "      <td>Wanda</td>\n",
              "      <td>2021</td>\n",
              "      <td>11</td>\n",
              "      <td>6</td>\n",
              "      <td>18</td>\n",
              "      <td>37.1</td>\n",
              "      <td>-38.0</td>\n",
              "      <td>tropical storm</td>\n",
              "      <td>0</td>\n",
              "      <td>35</td>\n",
              "      <td>1002</td>\n",
              "      <td>100.0</td>\n",
              "      <td>0.0</td>\n",
              "    </tr>\n",
              "    <tr>\n",
              "      <th>30012</th>\n",
              "      <td>Wanda</td>\n",
              "      <td>2021</td>\n",
              "      <td>11</td>\n",
              "      <td>7</td>\n",
              "      <td>0</td>\n",
              "      <td>37.4</td>\n",
              "      <td>-37.4</td>\n",
              "      <td>tropical storm</td>\n",
              "      <td>0</td>\n",
              "      <td>35</td>\n",
              "      <td>1003</td>\n",
              "      <td>60.0</td>\n",
              "      <td>0.0</td>\n",
              "    </tr>\n",
              "    <tr>\n",
              "      <th>30013</th>\n",
              "      <td>Wanda</td>\n",
              "      <td>2021</td>\n",
              "      <td>11</td>\n",
              "      <td>7</td>\n",
              "      <td>6</td>\n",
              "      <td>38.1</td>\n",
              "      <td>-36.4</td>\n",
              "      <td>tropical storm</td>\n",
              "      <td>0</td>\n",
              "      <td>35</td>\n",
              "      <td>1004</td>\n",
              "      <td>60.0</td>\n",
              "      <td>0.0</td>\n",
              "    </tr>\n",
              "    <tr>\n",
              "      <th>30014</th>\n",
              "      <td>Wanda</td>\n",
              "      <td>2021</td>\n",
              "      <td>11</td>\n",
              "      <td>7</td>\n",
              "      <td>0</td>\n",
              "      <td>37.4</td>\n",
              "      <td>-37.4</td>\n",
              "      <td>tropical storm</td>\n",
              "      <td>0</td>\n",
              "      <td>35</td>\n",
              "      <td>1003</td>\n",
              "      <td>60.0</td>\n",
              "      <td>0.0</td>\n",
              "    </tr>\n",
              "    <tr>\n",
              "      <th>30015</th>\n",
              "      <td>Wanda</td>\n",
              "      <td>2021</td>\n",
              "      <td>11</td>\n",
              "      <td>7</td>\n",
              "      <td>6</td>\n",
              "      <td>38.1</td>\n",
              "      <td>-36.4</td>\n",
              "      <td>tropical storm</td>\n",
              "      <td>0</td>\n",
              "      <td>35</td>\n",
              "      <td>1004</td>\n",
              "      <td>60.0</td>\n",
              "      <td>0.0</td>\n",
              "    </tr>\n",
              "  </tbody>\n",
              "</table>\n",
              "<p>30016 rows × 13 columns</p>\n",
              "</div>\n",
              "      <button class=\"colab-df-convert\" onclick=\"convertToInteractive('df-ad3ca7d2-9573-42db-89a6-414606710d54')\"\n",
              "              title=\"Convert this dataframe to an interactive table.\"\n",
              "              style=\"display:none;\">\n",
              "        \n",
              "  <svg xmlns=\"http://www.w3.org/2000/svg\" height=\"24px\"viewBox=\"0 0 24 24\"\n",
              "       width=\"24px\">\n",
              "    <path d=\"M0 0h24v24H0V0z\" fill=\"none\"/>\n",
              "    <path d=\"M18.56 5.44l.94 2.06.94-2.06 2.06-.94-2.06-.94-.94-2.06-.94 2.06-2.06.94zm-11 1L8.5 8.5l.94-2.06 2.06-.94-2.06-.94L8.5 2.5l-.94 2.06-2.06.94zm10 10l.94 2.06.94-2.06 2.06-.94-2.06-.94-.94-2.06-.94 2.06-2.06.94z\"/><path d=\"M17.41 7.96l-1.37-1.37c-.4-.4-.92-.59-1.43-.59-.52 0-1.04.2-1.43.59L10.3 9.45l-7.72 7.72c-.78.78-.78 2.05 0 2.83L4 21.41c.39.39.9.59 1.41.59.51 0 1.02-.2 1.41-.59l7.78-7.78 2.81-2.81c.8-.78.8-2.07 0-2.86zM5.41 20L4 18.59l7.72-7.72 1.47 1.35L5.41 20z\"/>\n",
              "  </svg>\n",
              "      </button>\n",
              "      \n",
              "  <style>\n",
              "    .colab-df-container {\n",
              "      display:flex;\n",
              "      flex-wrap:wrap;\n",
              "      gap: 12px;\n",
              "    }\n",
              "\n",
              "    .colab-df-convert {\n",
              "      background-color: #E8F0FE;\n",
              "      border: none;\n",
              "      border-radius: 50%;\n",
              "      cursor: pointer;\n",
              "      display: none;\n",
              "      fill: #1967D2;\n",
              "      height: 32px;\n",
              "      padding: 0 0 0 0;\n",
              "      width: 32px;\n",
              "    }\n",
              "\n",
              "    .colab-df-convert:hover {\n",
              "      background-color: #E2EBFA;\n",
              "      box-shadow: 0px 1px 2px rgba(60, 64, 67, 0.3), 0px 1px 3px 1px rgba(60, 64, 67, 0.15);\n",
              "      fill: #174EA6;\n",
              "    }\n",
              "\n",
              "    [theme=dark] .colab-df-convert {\n",
              "      background-color: #3B4455;\n",
              "      fill: #D2E3FC;\n",
              "    }\n",
              "\n",
              "    [theme=dark] .colab-df-convert:hover {\n",
              "      background-color: #434B5C;\n",
              "      box-shadow: 0px 1px 3px 1px rgba(0, 0, 0, 0.15);\n",
              "      filter: drop-shadow(0px 1px 2px rgba(0, 0, 0, 0.3));\n",
              "      fill: #FFFFFF;\n",
              "    }\n",
              "  </style>\n",
              "\n",
              "      <script>\n",
              "        const buttonEl =\n",
              "          document.querySelector('#df-ad3ca7d2-9573-42db-89a6-414606710d54 button.colab-df-convert');\n",
              "        buttonEl.style.display =\n",
              "          google.colab.kernel.accessAllowed ? 'block' : 'none';\n",
              "\n",
              "        async function convertToInteractive(key) {\n",
              "          const element = document.querySelector('#df-ad3ca7d2-9573-42db-89a6-414606710d54');\n",
              "          const dataTable =\n",
              "            await google.colab.kernel.invokeFunction('convertToInteractive',\n",
              "                                                     [key], {});\n",
              "          if (!dataTable) return;\n",
              "\n",
              "          const docLinkHtml = 'Like what you see? Visit the ' +\n",
              "            '<a target=\"_blank\" href=https://colab.research.google.com/notebooks/data_table.ipynb>data table notebook</a>'\n",
              "            + ' to learn more about interactive tables.';\n",
              "          element.innerHTML = '';\n",
              "          dataTable['output_type'] = 'display_data';\n",
              "          await google.colab.output.renderOutput(dataTable, element);\n",
              "          const docLink = document.createElement('div');\n",
              "          docLink.innerHTML = docLinkHtml;\n",
              "          element.appendChild(docLink);\n",
              "        }\n",
              "      </script>\n",
              "    </div>\n",
              "  </div>\n",
              "  "
            ]
          },
          "metadata": {},
          "execution_count": 3
        }
      ],
      "source": [
        "df1 = pd.read_csv('https://raw.githubusercontent.com/Jeferson-Peter/DataScience-Storm-Analytics/master/storms.csv')\n",
        "df2 = pd.read_csv('https://raw.githubusercontent.com/Jeferson-Peter/DataScience-Storm-Analytics/master/storms_updated.csv')\n",
        "df = pd.concat([df1, df2])\\\n",
        "        .sort_values(by=['year', 'month', 'day'], ascending=[True, True, True])\\\n",
        "        .reset_index(drop=True)\n",
        "df"
      ],
      "metadata": {
        "pycharm": {
          "name": "#%%\n"
        },
        "id": "kPfaHSXAGbxL",
        "outputId": "4db069c0-728c-4328-8da9-19b18aebbb8d",
        "colab": {
          "base_uri": "https://localhost:8080/",
          "height": 424
        }
      }
    },
    {
      "cell_type": "code",
      "execution_count": 4,
      "outputs": [],
      "source": [
        "df = df.drop(columns=['hour'])"
      ],
      "metadata": {
        "pycharm": {
          "name": "#%%\n"
        },
        "id": "PBAWyYLBGbxN"
      }
    },
    {
      "cell_type": "markdown",
      "source": [
        "# Tratamento de dados\n",
        ">O tratamento de dados é algo muito importante, no qual analisamos o nosso dataset por completo, para verificar, se precisaremos realizar tratamentos, como tipo das colunas, valores nulos.\n"
      ],
      "metadata": {
        "collapsed": false,
        "pycharm": {
          "name": "#%% md\n"
        },
        "id": "jnORlYK4GbxO"
      }
    },
    {
      "cell_type": "markdown",
      "source": [
        "Analisaremos a integridade dos dados, ou seja, inicialmente verificaremos a quantidade de dados nulos."
      ],
      "metadata": {
        "collapsed": false,
        "id": "JQE3Tl8BGbxP"
      }
    },
    {
      "cell_type": "code",
      "execution_count": 5,
      "outputs": [
        {
          "output_type": "execute_result",
          "data": {
            "text/plain": [
              "name                                0\n",
              "year                                0\n",
              "month                               0\n",
              "day                                 0\n",
              "lat                                 0\n",
              "long                                0\n",
              "status                              0\n",
              "category                            0\n",
              "wind                                0\n",
              "pressure                            0\n",
              "tropicalstorm_force_diameter    17551\n",
              "hurricane_force_diameter        17551\n",
              "dtype: int64"
            ]
          },
          "metadata": {},
          "execution_count": 5
        }
      ],
      "source": [
        "df.isna().sum()"
      ],
      "metadata": {
        "pycharm": {
          "name": "#%%\n"
        },
        "id": "snPjkFs6GbxP",
        "outputId": "3051af36-21ff-4efe-e111-70002c8e82eb",
        "colab": {
          "base_uri": "https://localhost:8080/"
        }
      }
    },
    {
      "cell_type": "markdown",
      "source": [
        "Como podemos perceber no código acima `df.isna().sum()`, nos relata a quantidade de dados nulos em cada coluna. Para uma melhor visualização dos dados nulos iremos separalos em outro dataframe"
      ],
      "metadata": {
        "collapsed": false,
        "pycharm": {
          "name": "#%% md\n"
        },
        "id": "MaYSvZXSGbxQ"
      }
    },
    {
      "cell_type": "code",
      "execution_count": 6,
      "outputs": [
        {
          "output_type": "execute_result",
          "data": {
            "text/plain": [
              "           name  year  month  day   lat  long          status  category  wind  \\\n",
              "0      AL011852  1852      8   26  30.2 -88.6       hurricane         3   100   \n",
              "1      AL031853  1853      9    3  19.7 -56.2       hurricane         4   130   \n",
              "2      AL031854  1854      9    7  28.0 -78.6       hurricane         3   110   \n",
              "3      AL031854  1854      9    8  31.6 -81.1       hurricane         3   100   \n",
              "4      AL031854  1854      9    8  31.7 -81.1       hurricane         3   100   \n",
              "...         ...   ...    ...  ...   ...   ...             ...       ...   ...   \n",
              "22452    Harvey  2011      8   20  17.0 -88.3  tropical storm         0    55   \n",
              "22466     Irene  2011      8   21  17.8 -64.6  tropical storm         0    60   \n",
              "22476     Irene  2011      8   22  18.1 -65.8  tropical storm         0    60   \n",
              "22487     Irene  2011      8   24  22.4 -74.0       hurricane         3   100   \n",
              "22495     Irene  2011      8   25  24.7 -76.2       hurricane         2    90   \n",
              "\n",
              "       pressure  tropicalstorm_force_diameter  hurricane_force_diameter  \n",
              "0           961                           NaN                       NaN  \n",
              "1           924                           NaN                       NaN  \n",
              "2           938                           NaN                       NaN  \n",
              "3           950                           NaN                       NaN  \n",
              "4           950                           NaN                       NaN  \n",
              "...         ...                           ...                       ...  \n",
              "22452       995                           NaN                       NaN  \n",
              "22466       993                           NaN                       NaN  \n",
              "22476       990                           NaN                       NaN  \n",
              "22487       955                           NaN                       NaN  \n",
              "22495       950                           NaN                       NaN  \n",
              "\n",
              "[17551 rows x 12 columns]"
            ],
            "text/html": [
              "\n",
              "  <div id=\"df-a7149a41-7c0d-4f1d-b2cc-583dabfa4162\">\n",
              "    <div class=\"colab-df-container\">\n",
              "      <div>\n",
              "<style scoped>\n",
              "    .dataframe tbody tr th:only-of-type {\n",
              "        vertical-align: middle;\n",
              "    }\n",
              "\n",
              "    .dataframe tbody tr th {\n",
              "        vertical-align: top;\n",
              "    }\n",
              "\n",
              "    .dataframe thead th {\n",
              "        text-align: right;\n",
              "    }\n",
              "</style>\n",
              "<table border=\"1\" class=\"dataframe\">\n",
              "  <thead>\n",
              "    <tr style=\"text-align: right;\">\n",
              "      <th></th>\n",
              "      <th>name</th>\n",
              "      <th>year</th>\n",
              "      <th>month</th>\n",
              "      <th>day</th>\n",
              "      <th>lat</th>\n",
              "      <th>long</th>\n",
              "      <th>status</th>\n",
              "      <th>category</th>\n",
              "      <th>wind</th>\n",
              "      <th>pressure</th>\n",
              "      <th>tropicalstorm_force_diameter</th>\n",
              "      <th>hurricane_force_diameter</th>\n",
              "    </tr>\n",
              "  </thead>\n",
              "  <tbody>\n",
              "    <tr>\n",
              "      <th>0</th>\n",
              "      <td>AL011852</td>\n",
              "      <td>1852</td>\n",
              "      <td>8</td>\n",
              "      <td>26</td>\n",
              "      <td>30.2</td>\n",
              "      <td>-88.6</td>\n",
              "      <td>hurricane</td>\n",
              "      <td>3</td>\n",
              "      <td>100</td>\n",
              "      <td>961</td>\n",
              "      <td>NaN</td>\n",
              "      <td>NaN</td>\n",
              "    </tr>\n",
              "    <tr>\n",
              "      <th>1</th>\n",
              "      <td>AL031853</td>\n",
              "      <td>1853</td>\n",
              "      <td>9</td>\n",
              "      <td>3</td>\n",
              "      <td>19.7</td>\n",
              "      <td>-56.2</td>\n",
              "      <td>hurricane</td>\n",
              "      <td>4</td>\n",
              "      <td>130</td>\n",
              "      <td>924</td>\n",
              "      <td>NaN</td>\n",
              "      <td>NaN</td>\n",
              "    </tr>\n",
              "    <tr>\n",
              "      <th>2</th>\n",
              "      <td>AL031854</td>\n",
              "      <td>1854</td>\n",
              "      <td>9</td>\n",
              "      <td>7</td>\n",
              "      <td>28.0</td>\n",
              "      <td>-78.6</td>\n",
              "      <td>hurricane</td>\n",
              "      <td>3</td>\n",
              "      <td>110</td>\n",
              "      <td>938</td>\n",
              "      <td>NaN</td>\n",
              "      <td>NaN</td>\n",
              "    </tr>\n",
              "    <tr>\n",
              "      <th>3</th>\n",
              "      <td>AL031854</td>\n",
              "      <td>1854</td>\n",
              "      <td>9</td>\n",
              "      <td>8</td>\n",
              "      <td>31.6</td>\n",
              "      <td>-81.1</td>\n",
              "      <td>hurricane</td>\n",
              "      <td>3</td>\n",
              "      <td>100</td>\n",
              "      <td>950</td>\n",
              "      <td>NaN</td>\n",
              "      <td>NaN</td>\n",
              "    </tr>\n",
              "    <tr>\n",
              "      <th>4</th>\n",
              "      <td>AL031854</td>\n",
              "      <td>1854</td>\n",
              "      <td>9</td>\n",
              "      <td>8</td>\n",
              "      <td>31.7</td>\n",
              "      <td>-81.1</td>\n",
              "      <td>hurricane</td>\n",
              "      <td>3</td>\n",
              "      <td>100</td>\n",
              "      <td>950</td>\n",
              "      <td>NaN</td>\n",
              "      <td>NaN</td>\n",
              "    </tr>\n",
              "    <tr>\n",
              "      <th>...</th>\n",
              "      <td>...</td>\n",
              "      <td>...</td>\n",
              "      <td>...</td>\n",
              "      <td>...</td>\n",
              "      <td>...</td>\n",
              "      <td>...</td>\n",
              "      <td>...</td>\n",
              "      <td>...</td>\n",
              "      <td>...</td>\n",
              "      <td>...</td>\n",
              "      <td>...</td>\n",
              "      <td>...</td>\n",
              "    </tr>\n",
              "    <tr>\n",
              "      <th>22452</th>\n",
              "      <td>Harvey</td>\n",
              "      <td>2011</td>\n",
              "      <td>8</td>\n",
              "      <td>20</td>\n",
              "      <td>17.0</td>\n",
              "      <td>-88.3</td>\n",
              "      <td>tropical storm</td>\n",
              "      <td>0</td>\n",
              "      <td>55</td>\n",
              "      <td>995</td>\n",
              "      <td>NaN</td>\n",
              "      <td>NaN</td>\n",
              "    </tr>\n",
              "    <tr>\n",
              "      <th>22466</th>\n",
              "      <td>Irene</td>\n",
              "      <td>2011</td>\n",
              "      <td>8</td>\n",
              "      <td>21</td>\n",
              "      <td>17.8</td>\n",
              "      <td>-64.6</td>\n",
              "      <td>tropical storm</td>\n",
              "      <td>0</td>\n",
              "      <td>60</td>\n",
              "      <td>993</td>\n",
              "      <td>NaN</td>\n",
              "      <td>NaN</td>\n",
              "    </tr>\n",
              "    <tr>\n",
              "      <th>22476</th>\n",
              "      <td>Irene</td>\n",
              "      <td>2011</td>\n",
              "      <td>8</td>\n",
              "      <td>22</td>\n",
              "      <td>18.1</td>\n",
              "      <td>-65.8</td>\n",
              "      <td>tropical storm</td>\n",
              "      <td>0</td>\n",
              "      <td>60</td>\n",
              "      <td>990</td>\n",
              "      <td>NaN</td>\n",
              "      <td>NaN</td>\n",
              "    </tr>\n",
              "    <tr>\n",
              "      <th>22487</th>\n",
              "      <td>Irene</td>\n",
              "      <td>2011</td>\n",
              "      <td>8</td>\n",
              "      <td>24</td>\n",
              "      <td>22.4</td>\n",
              "      <td>-74.0</td>\n",
              "      <td>hurricane</td>\n",
              "      <td>3</td>\n",
              "      <td>100</td>\n",
              "      <td>955</td>\n",
              "      <td>NaN</td>\n",
              "      <td>NaN</td>\n",
              "    </tr>\n",
              "    <tr>\n",
              "      <th>22495</th>\n",
              "      <td>Irene</td>\n",
              "      <td>2011</td>\n",
              "      <td>8</td>\n",
              "      <td>25</td>\n",
              "      <td>24.7</td>\n",
              "      <td>-76.2</td>\n",
              "      <td>hurricane</td>\n",
              "      <td>2</td>\n",
              "      <td>90</td>\n",
              "      <td>950</td>\n",
              "      <td>NaN</td>\n",
              "      <td>NaN</td>\n",
              "    </tr>\n",
              "  </tbody>\n",
              "</table>\n",
              "<p>17551 rows × 12 columns</p>\n",
              "</div>\n",
              "      <button class=\"colab-df-convert\" onclick=\"convertToInteractive('df-a7149a41-7c0d-4f1d-b2cc-583dabfa4162')\"\n",
              "              title=\"Convert this dataframe to an interactive table.\"\n",
              "              style=\"display:none;\">\n",
              "        \n",
              "  <svg xmlns=\"http://www.w3.org/2000/svg\" height=\"24px\"viewBox=\"0 0 24 24\"\n",
              "       width=\"24px\">\n",
              "    <path d=\"M0 0h24v24H0V0z\" fill=\"none\"/>\n",
              "    <path d=\"M18.56 5.44l.94 2.06.94-2.06 2.06-.94-2.06-.94-.94-2.06-.94 2.06-2.06.94zm-11 1L8.5 8.5l.94-2.06 2.06-.94-2.06-.94L8.5 2.5l-.94 2.06-2.06.94zm10 10l.94 2.06.94-2.06 2.06-.94-2.06-.94-.94-2.06-.94 2.06-2.06.94z\"/><path d=\"M17.41 7.96l-1.37-1.37c-.4-.4-.92-.59-1.43-.59-.52 0-1.04.2-1.43.59L10.3 9.45l-7.72 7.72c-.78.78-.78 2.05 0 2.83L4 21.41c.39.39.9.59 1.41.59.51 0 1.02-.2 1.41-.59l7.78-7.78 2.81-2.81c.8-.78.8-2.07 0-2.86zM5.41 20L4 18.59l7.72-7.72 1.47 1.35L5.41 20z\"/>\n",
              "  </svg>\n",
              "      </button>\n",
              "      \n",
              "  <style>\n",
              "    .colab-df-container {\n",
              "      display:flex;\n",
              "      flex-wrap:wrap;\n",
              "      gap: 12px;\n",
              "    }\n",
              "\n",
              "    .colab-df-convert {\n",
              "      background-color: #E8F0FE;\n",
              "      border: none;\n",
              "      border-radius: 50%;\n",
              "      cursor: pointer;\n",
              "      display: none;\n",
              "      fill: #1967D2;\n",
              "      height: 32px;\n",
              "      padding: 0 0 0 0;\n",
              "      width: 32px;\n",
              "    }\n",
              "\n",
              "    .colab-df-convert:hover {\n",
              "      background-color: #E2EBFA;\n",
              "      box-shadow: 0px 1px 2px rgba(60, 64, 67, 0.3), 0px 1px 3px 1px rgba(60, 64, 67, 0.15);\n",
              "      fill: #174EA6;\n",
              "    }\n",
              "\n",
              "    [theme=dark] .colab-df-convert {\n",
              "      background-color: #3B4455;\n",
              "      fill: #D2E3FC;\n",
              "    }\n",
              "\n",
              "    [theme=dark] .colab-df-convert:hover {\n",
              "      background-color: #434B5C;\n",
              "      box-shadow: 0px 1px 3px 1px rgba(0, 0, 0, 0.15);\n",
              "      filter: drop-shadow(0px 1px 2px rgba(0, 0, 0, 0.3));\n",
              "      fill: #FFFFFF;\n",
              "    }\n",
              "  </style>\n",
              "\n",
              "      <script>\n",
              "        const buttonEl =\n",
              "          document.querySelector('#df-a7149a41-7c0d-4f1d-b2cc-583dabfa4162 button.colab-df-convert');\n",
              "        buttonEl.style.display =\n",
              "          google.colab.kernel.accessAllowed ? 'block' : 'none';\n",
              "\n",
              "        async function convertToInteractive(key) {\n",
              "          const element = document.querySelector('#df-a7149a41-7c0d-4f1d-b2cc-583dabfa4162');\n",
              "          const dataTable =\n",
              "            await google.colab.kernel.invokeFunction('convertToInteractive',\n",
              "                                                     [key], {});\n",
              "          if (!dataTable) return;\n",
              "\n",
              "          const docLinkHtml = 'Like what you see? Visit the ' +\n",
              "            '<a target=\"_blank\" href=https://colab.research.google.com/notebooks/data_table.ipynb>data table notebook</a>'\n",
              "            + ' to learn more about interactive tables.';\n",
              "          element.innerHTML = '';\n",
              "          dataTable['output_type'] = 'display_data';\n",
              "          await google.colab.output.renderOutput(dataTable, element);\n",
              "          const docLink = document.createElement('div');\n",
              "          docLink.innerHTML = docLinkHtml;\n",
              "          element.appendChild(docLink);\n",
              "        }\n",
              "      </script>\n",
              "    </div>\n",
              "  </div>\n",
              "  "
            ]
          },
          "metadata": {},
          "execution_count": 6
        }
      ],
      "source": [
        "# Filtrando apenas as colunas com valores maiores que 0.\n",
        "# TODO: Criar texto explicando o por que da analise sobre estas colunas e se há necessidade de tratar.\n",
        "index_1 = list(df.loc[pd.isna(df.tropicalstorm_force_diameter), :].index)\n",
        "index_2 = list(df.loc[pd.isna(df.hurricane_force_diameter), :].index)\n",
        "all_nan_ind = list(set(index_1 + index_2))\n",
        "len(all_nan_ind)\n",
        "# half_empty_columns_df\n",
        "half_empty_columns_df = df.filter(items = all_nan_ind, axis=0)\n",
        "half_empty_columns_df"
      ],
      "metadata": {
        "pycharm": {
          "name": "#%%\n"
        },
        "id": "U6ZV58b6GbxQ",
        "outputId": "bd72c07a-e741-427e-96e9-8f8f4c5475ae",
        "colab": {
          "base_uri": "https://localhost:8080/",
          "height": 424
        }
      }
    },
    {
      "cell_type": "code",
      "execution_count": 6,
      "outputs": [],
      "source": [],
      "metadata": {
        "pycharm": {
          "name": "#%%\n"
        },
        "id": "Gx1mfjjvA6NA"
      }
    },
    {
      "cell_type": "markdown",
      "source": [
        "Quais os tipos de dados das colunas?"
      ],
      "metadata": {
        "collapsed": false,
        "pycharm": {
          "name": "#%% md\n"
        },
        "id": "_gGHsMnWGbxR"
      }
    },
    {
      "cell_type": "code",
      "execution_count": 7,
      "outputs": [
        {
          "output_type": "execute_result",
          "data": {
            "text/plain": [
              "name                             object\n",
              "year                              int64\n",
              "month                             int64\n",
              "day                               int64\n",
              "lat                             float64\n",
              "long                            float64\n",
              "status                           object\n",
              "category                          int64\n",
              "wind                              int64\n",
              "pressure                          int64\n",
              "tropicalstorm_force_diameter    float64\n",
              "hurricane_force_diameter        float64\n",
              "dtype: object"
            ]
          },
          "metadata": {},
          "execution_count": 7
        }
      ],
      "source": [
        "df.dtypes"
      ],
      "metadata": {
        "pycharm": {
          "name": "#%%\n"
        },
        "id": "nXf0eJv3GbxR",
        "outputId": "13cc6b68-c7ba-4cb5-dcac-3d13586bc7f1",
        "colab": {
          "base_uri": "https://localhost:8080/"
        }
      }
    },
    {
      "cell_type": "markdown",
      "source": [
        "Todos os tipos dados estão corretos para a nossa analise, logo não precisaremos realizar nenhuma conversão. Vamos adicionar uma nova coluna chamada **date** para facilitar a nossa busca por datas."
      ],
      "metadata": {
        "collapsed": false,
        "pycharm": {
          "name": "#%% md\n"
        },
        "id": "_UJAEJv9GbxS"
      }
    },
    {
      "cell_type": "code",
      "execution_count": 8,
      "outputs": [
        {
          "output_type": "execute_result",
          "data": {
            "text/plain": [
              "0       1852-08-26\n",
              "1       1853-09-03\n",
              "2       1854-09-07\n",
              "3       1854-09-08\n",
              "4       1854-09-08\n",
              "           ...    \n",
              "30011   2021-11-06\n",
              "30012   2021-11-07\n",
              "30013   2021-11-07\n",
              "30014   2021-11-07\n",
              "30015   2021-11-07\n",
              "Name: date, Length: 30016, dtype: datetime64[ns]"
            ]
          },
          "metadata": {},
          "execution_count": 8
        }
      ],
      "source": [
        "def format_date_field(row):\n",
        "        date=datetime(row['year'], row['month'], row['day'])\n",
        "        row['date'] = pd.to_datetime(date)\n",
        "        return row\n",
        "\n",
        "df = df.apply(lambda row: format_date_field(row), axis=1)\n",
        "df['date']"
      ],
      "metadata": {
        "pycharm": {
          "name": "#%%\n"
        },
        "id": "Po1WX1c4A6NA",
        "outputId": "00ac4f36-a5e2-406d-9b47-6a8d822b317e",
        "colab": {
          "base_uri": "https://localhost:8080/"
        }
      }
    },
    {
      "cell_type": "markdown",
      "source": [
        "Como podemos ver a coluna **date** é do tipo **datetime**, o que queriamos.\n",
        "Podemos agora excluir as colunas **year**, **month**, **day**"
      ],
      "metadata": {
        "collapsed": false,
        "pycharm": {
          "name": "#%% md\n"
        },
        "id": "7J-JUvU1A6NB"
      }
    },
    {
      "cell_type": "code",
      "execution_count": 9,
      "outputs": [
        {
          "output_type": "execute_result",
          "data": {
            "text/plain": [
              "            date  year  month  day\n",
              "12724 1997-07-11  1997      7   11\n",
              "1280  1960-09-10  1960      9   10"
            ],
            "text/html": [
              "\n",
              "  <div id=\"df-0a28a58b-fbbb-49b7-98e8-53e9f1d21f82\">\n",
              "    <div class=\"colab-df-container\">\n",
              "      <div>\n",
              "<style scoped>\n",
              "    .dataframe tbody tr th:only-of-type {\n",
              "        vertical-align: middle;\n",
              "    }\n",
              "\n",
              "    .dataframe tbody tr th {\n",
              "        vertical-align: top;\n",
              "    }\n",
              "\n",
              "    .dataframe thead th {\n",
              "        text-align: right;\n",
              "    }\n",
              "</style>\n",
              "<table border=\"1\" class=\"dataframe\">\n",
              "  <thead>\n",
              "    <tr style=\"text-align: right;\">\n",
              "      <th></th>\n",
              "      <th>date</th>\n",
              "      <th>year</th>\n",
              "      <th>month</th>\n",
              "      <th>day</th>\n",
              "    </tr>\n",
              "  </thead>\n",
              "  <tbody>\n",
              "    <tr>\n",
              "      <th>12724</th>\n",
              "      <td>1997-07-11</td>\n",
              "      <td>1997</td>\n",
              "      <td>7</td>\n",
              "      <td>11</td>\n",
              "    </tr>\n",
              "    <tr>\n",
              "      <th>1280</th>\n",
              "      <td>1960-09-10</td>\n",
              "      <td>1960</td>\n",
              "      <td>9</td>\n",
              "      <td>10</td>\n",
              "    </tr>\n",
              "  </tbody>\n",
              "</table>\n",
              "</div>\n",
              "      <button class=\"colab-df-convert\" onclick=\"convertToInteractive('df-0a28a58b-fbbb-49b7-98e8-53e9f1d21f82')\"\n",
              "              title=\"Convert this dataframe to an interactive table.\"\n",
              "              style=\"display:none;\">\n",
              "        \n",
              "  <svg xmlns=\"http://www.w3.org/2000/svg\" height=\"24px\"viewBox=\"0 0 24 24\"\n",
              "       width=\"24px\">\n",
              "    <path d=\"M0 0h24v24H0V0z\" fill=\"none\"/>\n",
              "    <path d=\"M18.56 5.44l.94 2.06.94-2.06 2.06-.94-2.06-.94-.94-2.06-.94 2.06-2.06.94zm-11 1L8.5 8.5l.94-2.06 2.06-.94-2.06-.94L8.5 2.5l-.94 2.06-2.06.94zm10 10l.94 2.06.94-2.06 2.06-.94-2.06-.94-.94-2.06-.94 2.06-2.06.94z\"/><path d=\"M17.41 7.96l-1.37-1.37c-.4-.4-.92-.59-1.43-.59-.52 0-1.04.2-1.43.59L10.3 9.45l-7.72 7.72c-.78.78-.78 2.05 0 2.83L4 21.41c.39.39.9.59 1.41.59.51 0 1.02-.2 1.41-.59l7.78-7.78 2.81-2.81c.8-.78.8-2.07 0-2.86zM5.41 20L4 18.59l7.72-7.72 1.47 1.35L5.41 20z\"/>\n",
              "  </svg>\n",
              "      </button>\n",
              "      \n",
              "  <style>\n",
              "    .colab-df-container {\n",
              "      display:flex;\n",
              "      flex-wrap:wrap;\n",
              "      gap: 12px;\n",
              "    }\n",
              "\n",
              "    .colab-df-convert {\n",
              "      background-color: #E8F0FE;\n",
              "      border: none;\n",
              "      border-radius: 50%;\n",
              "      cursor: pointer;\n",
              "      display: none;\n",
              "      fill: #1967D2;\n",
              "      height: 32px;\n",
              "      padding: 0 0 0 0;\n",
              "      width: 32px;\n",
              "    }\n",
              "\n",
              "    .colab-df-convert:hover {\n",
              "      background-color: #E2EBFA;\n",
              "      box-shadow: 0px 1px 2px rgba(60, 64, 67, 0.3), 0px 1px 3px 1px rgba(60, 64, 67, 0.15);\n",
              "      fill: #174EA6;\n",
              "    }\n",
              "\n",
              "    [theme=dark] .colab-df-convert {\n",
              "      background-color: #3B4455;\n",
              "      fill: #D2E3FC;\n",
              "    }\n",
              "\n",
              "    [theme=dark] .colab-df-convert:hover {\n",
              "      background-color: #434B5C;\n",
              "      box-shadow: 0px 1px 3px 1px rgba(0, 0, 0, 0.15);\n",
              "      filter: drop-shadow(0px 1px 2px rgba(0, 0, 0, 0.3));\n",
              "      fill: #FFFFFF;\n",
              "    }\n",
              "  </style>\n",
              "\n",
              "      <script>\n",
              "        const buttonEl =\n",
              "          document.querySelector('#df-0a28a58b-fbbb-49b7-98e8-53e9f1d21f82 button.colab-df-convert');\n",
              "        buttonEl.style.display =\n",
              "          google.colab.kernel.accessAllowed ? 'block' : 'none';\n",
              "\n",
              "        async function convertToInteractive(key) {\n",
              "          const element = document.querySelector('#df-0a28a58b-fbbb-49b7-98e8-53e9f1d21f82');\n",
              "          const dataTable =\n",
              "            await google.colab.kernel.invokeFunction('convertToInteractive',\n",
              "                                                     [key], {});\n",
              "          if (!dataTable) return;\n",
              "\n",
              "          const docLinkHtml = 'Like what you see? Visit the ' +\n",
              "            '<a target=\"_blank\" href=https://colab.research.google.com/notebooks/data_table.ipynb>data table notebook</a>'\n",
              "            + ' to learn more about interactive tables.';\n",
              "          element.innerHTML = '';\n",
              "          dataTable['output_type'] = 'display_data';\n",
              "          await google.colab.output.renderOutput(dataTable, element);\n",
              "          const docLink = document.createElement('div');\n",
              "          docLink.innerHTML = docLinkHtml;\n",
              "          element.appendChild(docLink);\n",
              "        }\n",
              "      </script>\n",
              "    </div>\n",
              "  </div>\n",
              "  "
            ]
          },
          "metadata": {},
          "execution_count": 9
        }
      ],
      "source": [
        "df[['date', 'year', 'month', 'day']].sample(2)"
      ],
      "metadata": {
        "pycharm": {
          "name": "#%%\n"
        },
        "id": "GST1fd_5A6NB",
        "outputId": "7f8e883c-42b9-4b2a-e1b4-6824f80cd176",
        "colab": {
          "base_uri": "https://localhost:8080/",
          "height": 112
        }
      }
    },
    {
      "cell_type": "markdown",
      "source": [
        "Iremos converter a coluna **wind** para km/h, pois está como **knots**"
      ],
      "metadata": {
        "collapsed": false,
        "pycharm": {
          "name": "#%% md\n"
        },
        "id": "s6oOVMk4A6NB"
      }
    },
    {
      "cell_type": "code",
      "execution_count": 10,
      "outputs": [
        {
          "output_type": "execute_result",
          "data": {
            "text/plain": [
              "   wind kn  wind km/h\n",
              "0      100     185.20\n",
              "1      130     240.76\n",
              "2      110     203.72\n",
              "3      100     185.20\n",
              "4      100     185.20"
            ],
            "text/html": [
              "\n",
              "  <div id=\"df-b660321c-40df-4d05-9c65-9d7983abed96\">\n",
              "    <div class=\"colab-df-container\">\n",
              "      <div>\n",
              "<style scoped>\n",
              "    .dataframe tbody tr th:only-of-type {\n",
              "        vertical-align: middle;\n",
              "    }\n",
              "\n",
              "    .dataframe tbody tr th {\n",
              "        vertical-align: top;\n",
              "    }\n",
              "\n",
              "    .dataframe thead th {\n",
              "        text-align: right;\n",
              "    }\n",
              "</style>\n",
              "<table border=\"1\" class=\"dataframe\">\n",
              "  <thead>\n",
              "    <tr style=\"text-align: right;\">\n",
              "      <th></th>\n",
              "      <th>wind kn</th>\n",
              "      <th>wind km/h</th>\n",
              "    </tr>\n",
              "  </thead>\n",
              "  <tbody>\n",
              "    <tr>\n",
              "      <th>0</th>\n",
              "      <td>100</td>\n",
              "      <td>185.20</td>\n",
              "    </tr>\n",
              "    <tr>\n",
              "      <th>1</th>\n",
              "      <td>130</td>\n",
              "      <td>240.76</td>\n",
              "    </tr>\n",
              "    <tr>\n",
              "      <th>2</th>\n",
              "      <td>110</td>\n",
              "      <td>203.72</td>\n",
              "    </tr>\n",
              "    <tr>\n",
              "      <th>3</th>\n",
              "      <td>100</td>\n",
              "      <td>185.20</td>\n",
              "    </tr>\n",
              "    <tr>\n",
              "      <th>4</th>\n",
              "      <td>100</td>\n",
              "      <td>185.20</td>\n",
              "    </tr>\n",
              "  </tbody>\n",
              "</table>\n",
              "</div>\n",
              "      <button class=\"colab-df-convert\" onclick=\"convertToInteractive('df-b660321c-40df-4d05-9c65-9d7983abed96')\"\n",
              "              title=\"Convert this dataframe to an interactive table.\"\n",
              "              style=\"display:none;\">\n",
              "        \n",
              "  <svg xmlns=\"http://www.w3.org/2000/svg\" height=\"24px\"viewBox=\"0 0 24 24\"\n",
              "       width=\"24px\">\n",
              "    <path d=\"M0 0h24v24H0V0z\" fill=\"none\"/>\n",
              "    <path d=\"M18.56 5.44l.94 2.06.94-2.06 2.06-.94-2.06-.94-.94-2.06-.94 2.06-2.06.94zm-11 1L8.5 8.5l.94-2.06 2.06-.94-2.06-.94L8.5 2.5l-.94 2.06-2.06.94zm10 10l.94 2.06.94-2.06 2.06-.94-2.06-.94-.94-2.06-.94 2.06-2.06.94z\"/><path d=\"M17.41 7.96l-1.37-1.37c-.4-.4-.92-.59-1.43-.59-.52 0-1.04.2-1.43.59L10.3 9.45l-7.72 7.72c-.78.78-.78 2.05 0 2.83L4 21.41c.39.39.9.59 1.41.59.51 0 1.02-.2 1.41-.59l7.78-7.78 2.81-2.81c.8-.78.8-2.07 0-2.86zM5.41 20L4 18.59l7.72-7.72 1.47 1.35L5.41 20z\"/>\n",
              "  </svg>\n",
              "      </button>\n",
              "      \n",
              "  <style>\n",
              "    .colab-df-container {\n",
              "      display:flex;\n",
              "      flex-wrap:wrap;\n",
              "      gap: 12px;\n",
              "    }\n",
              "\n",
              "    .colab-df-convert {\n",
              "      background-color: #E8F0FE;\n",
              "      border: none;\n",
              "      border-radius: 50%;\n",
              "      cursor: pointer;\n",
              "      display: none;\n",
              "      fill: #1967D2;\n",
              "      height: 32px;\n",
              "      padding: 0 0 0 0;\n",
              "      width: 32px;\n",
              "    }\n",
              "\n",
              "    .colab-df-convert:hover {\n",
              "      background-color: #E2EBFA;\n",
              "      box-shadow: 0px 1px 2px rgba(60, 64, 67, 0.3), 0px 1px 3px 1px rgba(60, 64, 67, 0.15);\n",
              "      fill: #174EA6;\n",
              "    }\n",
              "\n",
              "    [theme=dark] .colab-df-convert {\n",
              "      background-color: #3B4455;\n",
              "      fill: #D2E3FC;\n",
              "    }\n",
              "\n",
              "    [theme=dark] .colab-df-convert:hover {\n",
              "      background-color: #434B5C;\n",
              "      box-shadow: 0px 1px 3px 1px rgba(0, 0, 0, 0.15);\n",
              "      filter: drop-shadow(0px 1px 2px rgba(0, 0, 0, 0.3));\n",
              "      fill: #FFFFFF;\n",
              "    }\n",
              "  </style>\n",
              "\n",
              "      <script>\n",
              "        const buttonEl =\n",
              "          document.querySelector('#df-b660321c-40df-4d05-9c65-9d7983abed96 button.colab-df-convert');\n",
              "        buttonEl.style.display =\n",
              "          google.colab.kernel.accessAllowed ? 'block' : 'none';\n",
              "\n",
              "        async function convertToInteractive(key) {\n",
              "          const element = document.querySelector('#df-b660321c-40df-4d05-9c65-9d7983abed96');\n",
              "          const dataTable =\n",
              "            await google.colab.kernel.invokeFunction('convertToInteractive',\n",
              "                                                     [key], {});\n",
              "          if (!dataTable) return;\n",
              "\n",
              "          const docLinkHtml = 'Like what you see? Visit the ' +\n",
              "            '<a target=\"_blank\" href=https://colab.research.google.com/notebooks/data_table.ipynb>data table notebook</a>'\n",
              "            + ' to learn more about interactive tables.';\n",
              "          element.innerHTML = '';\n",
              "          dataTable['output_type'] = 'display_data';\n",
              "          await google.colab.output.renderOutput(dataTable, element);\n",
              "          const docLink = document.createElement('div');\n",
              "          docLink.innerHTML = docLinkHtml;\n",
              "          element.appendChild(docLink);\n",
              "        }\n",
              "      </script>\n",
              "    </div>\n",
              "  </div>\n",
              "  "
            ]
          },
          "metadata": {},
          "execution_count": 10
        }
      ],
      "source": [
        "df['wind km/h'] = df['wind'].apply(lambda x: x*1.852)\n",
        "df.rename(columns={'wind':'wind kn'}, inplace=True)\n",
        "df[['wind kn','wind km/h']].head()"
      ],
      "metadata": {
        "pycharm": {
          "name": "#%%\n"
        },
        "id": "MwZiitK-A6NB",
        "outputId": "6f76814f-1caa-4fd9-e33a-2f5790e60c8d",
        "colab": {
          "base_uri": "https://localhost:8080/",
          "height": 206
        }
      }
    },
    {
      "cell_type": "markdown",
      "source": [
        "# Analisando os dados\n",
        "Começaremos a analisar os dados e responder as nossas questões"
      ],
      "metadata": {
        "collapsed": false,
        "pycharm": {
          "name": "#%% md\n"
        },
        "id": "p0hl_VcPGbxS"
      }
    },
    {
      "cell_type": "code",
      "execution_count": 11,
      "outputs": [],
      "source": [
        "df = df.drop(columns=['year', 'month', 'day'])"
      ],
      "metadata": {
        "pycharm": {
          "name": "#%%\n"
        },
        "id": "2W3yDmoWA6NC"
      }
    },
    {
      "cell_type": "markdown",
      "source": [
        "# Analise Exploratória\n",
        "\n",
        "> Inicialmente iremos verificar a maior ocorrência de tempestades.\n",
        "> **OBS:** É importante ressaltar que não pegaremos todas as tempestades"
      ],
      "metadata": {
        "collapsed": false,
        "pycharm": {
          "name": "#%% md\n"
        },
        "id": "H4sPnsikA6NC"
      }
    },
    {
      "cell_type": "code",
      "execution_count": 12,
      "outputs": [
        {
          "output_type": "stream",
          "name": "stdout",
          "text": [
            "O total de tempestades registradas foram 651\n"
          ]
        }
      ],
      "source": [
        "print(f\"O total de tempestades registradas foram {len(df['name'].unique().tolist())}\")"
      ],
      "metadata": {
        "pycharm": {
          "name": "#%%\n"
        },
        "id": "S9Kqwm1OA6NC",
        "outputId": "57b1f7b8-eeac-4269-849e-90cd05e5e5c1",
        "colab": {
          "base_uri": "https://localhost:8080/"
        }
      }
    },
    {
      "cell_type": "markdown",
      "source": [
        "Como podemos ver, o total de tempestades registradas é de 651, mas nem todas elas possuem um nome de fato, umas só possuem um código. Vamos demonstrar:"
      ],
      "metadata": {
        "collapsed": false,
        "pycharm": {
          "name": "#%% md\n"
        },
        "id": "ZLhLrgeZA6NC"
      }
    },
    {
      "cell_type": "code",
      "execution_count": 13,
      "outputs": [
        {
          "output_type": "display_data",
          "data": {
            "text/plain": [
              "602    Able\n",
              "603    Able\n",
              "604    Able\n",
              "605    Able\n",
              "606    Able\n",
              "Name: name, dtype: object"
            ]
          },
          "metadata": {}
        },
        {
          "output_type": "display_data",
          "data": {
            "text/plain": [
              "0    AL011852\n",
              "1    AL031853\n",
              "2    AL031854\n",
              "3    AL031854\n",
              "4    AL031854\n",
              "Name: name, dtype: object"
            ]
          },
          "metadata": {}
        }
      ],
      "source": [
        "# Filtrando as tempestades (cujo nem todos os caracteres estão no alfabeto)\n",
        "df_not_real_names = df[~df['name'].str.isalpha()]\n",
        "\n",
        "# Filtrando as tempestades (cujo todos os caracteres estão no alfabeto)\n",
        "df_real_names = df[df['name'].str.isalpha()]\n",
        "\n",
        "# Visualizando estas separações\n",
        "display(df_real_names['name'][:5],\n",
        "        df_not_real_names['name'][:5])"
      ],
      "metadata": {
        "pycharm": {
          "name": "#%%\n"
        },
        "id": "uimRoHz2A6NC",
        "outputId": "28c50192-dce7-4d77-989d-462de2d1c6c7",
        "colab": {
          "base_uri": "https://localhost:8080/",
          "height": 225
        }
      }
    },
    {
      "cell_type": "code",
      "execution_count": 14,
      "outputs": [
        {
          "output_type": "execute_result",
          "data": {
            "text/plain": [
              "            name   lat  long               status  category  wind kn  \\\n",
              "27376      Barry  28.4 -90.7       tropical storm         0       55   \n",
              "17689     Gaston  33.0 -79.6            hurricane         1       65   \n",
              "29758   Nicholas  30.3 -93.1  tropical depression        -1       25   \n",
              "29341       Elsa  22.2 -81.6       tropical storm         0       55   \n",
              "28336  Josephine  18.4 -58.3       tropical storm         0       40   \n",
              "28601   Paulette  29.1 -60.3            hurricane         1       65   \n",
              "5208     Katrina  26.8 -64.5       tropical storm         0       40   \n",
              "22467     Harvey  18.7 -94.8       tropical storm         0       35   \n",
              "3441       Clara  35.5 -64.6            hurricane         1       65   \n",
              "25829     Nicole  24.0 -65.4       tropical storm         0       55   \n",
              "14393       Jose  34.9 -58.1       tropical storm         0       60   \n",
              "27609  Gabrielle  25.0 -37.1       tropical storm         0       35   \n",
              "10542     Gordon  17.6 -77.9       tropical storm         0       35   \n",
              "21169        Ana  14.5 -32.1  tropical depression        -1       30   \n",
              "22376        Don  27.0 -96.9       tropical storm         0       35   \n",
              "20066       Dean  18.6 -86.9            hurricane         5      150   \n",
              "11875  Sebastien  18.3 -63.0  tropical depression        -1       30   \n",
              "23440     Leslie  15.3 -47.4       tropical storm         0       50   \n",
              "7627        Joan  11.1 -79.8            hurricane         2       85   \n",
              "15635   Humberto  30.1 -67.3       tropical storm         0       55   \n",
              "\n",
              "       pressure  tropicalstorm_force_diameter  hurricane_force_diameter  \\\n",
              "27376       993                         220.0                       0.0   \n",
              "17689       985                           NaN                       NaN   \n",
              "29758      1006                           0.0                       0.0   \n",
              "29341      1005                         110.0                       0.0   \n",
              "28336      1005                          80.0                       0.0   \n",
              "28601       980                         270.0                      40.0   \n",
              "5208       1002                           NaN                       NaN   \n",
              "22467      1005                          70.0                       0.0   \n",
              "3441        998                           NaN                       NaN   \n",
              "25829       993                         150.0                       0.0   \n",
              "14393       990                           NaN                       NaN   \n",
              "27609      1005                         230.0                       0.0   \n",
              "10542       999                           NaN                       NaN   \n",
              "21169      1006                           0.0                       0.0   \n",
              "22376      1006                          60.0                       0.0   \n",
              "20066       907                         305.0                      90.0   \n",
              "11875      1007                           NaN                       NaN   \n",
              "23440      1001                         110.0                       0.0   \n",
              "7627        967                           NaN                       NaN   \n",
              "15635       994                           NaN                       NaN   \n",
              "\n",
              "            date  wind km/h  \n",
              "27376 2019-07-12     101.86  \n",
              "17689 2004-08-29     120.38  \n",
              "29758 2021-09-15      46.30  \n",
              "29341 2021-07-05     101.86  \n",
              "28336 2020-08-15      74.08  \n",
              "28601 2020-09-13     120.38  \n",
              "5208  1981-11-07      74.08  \n",
              "22467 2011-08-22      64.82  \n",
              "3441  1977-09-09     120.38  \n",
              "25829 2016-10-09     101.86  \n",
              "14393 1999-10-25     111.12  \n",
              "27609 2019-09-06      64.82  \n",
              "10542 1994-11-13      64.82  \n",
              "21169 2009-08-12      55.56  \n",
              "22376 2011-07-30      64.82  \n",
              "20066 2007-08-21     277.80  \n",
              "11875 1995-10-24      55.56  \n",
              "23440 2012-08-31      92.60  \n",
              "7627  1988-10-20     157.42  \n",
              "15635 2001-09-23     101.86  "
            ],
            "text/html": [
              "\n",
              "  <div id=\"df-d6adddbb-1bf1-4158-bde9-ec55eea5786f\">\n",
              "    <div class=\"colab-df-container\">\n",
              "      <div>\n",
              "<style scoped>\n",
              "    .dataframe tbody tr th:only-of-type {\n",
              "        vertical-align: middle;\n",
              "    }\n",
              "\n",
              "    .dataframe tbody tr th {\n",
              "        vertical-align: top;\n",
              "    }\n",
              "\n",
              "    .dataframe thead th {\n",
              "        text-align: right;\n",
              "    }\n",
              "</style>\n",
              "<table border=\"1\" class=\"dataframe\">\n",
              "  <thead>\n",
              "    <tr style=\"text-align: right;\">\n",
              "      <th></th>\n",
              "      <th>name</th>\n",
              "      <th>lat</th>\n",
              "      <th>long</th>\n",
              "      <th>status</th>\n",
              "      <th>category</th>\n",
              "      <th>wind kn</th>\n",
              "      <th>pressure</th>\n",
              "      <th>tropicalstorm_force_diameter</th>\n",
              "      <th>hurricane_force_diameter</th>\n",
              "      <th>date</th>\n",
              "      <th>wind km/h</th>\n",
              "    </tr>\n",
              "  </thead>\n",
              "  <tbody>\n",
              "    <tr>\n",
              "      <th>27376</th>\n",
              "      <td>Barry</td>\n",
              "      <td>28.4</td>\n",
              "      <td>-90.7</td>\n",
              "      <td>tropical storm</td>\n",
              "      <td>0</td>\n",
              "      <td>55</td>\n",
              "      <td>993</td>\n",
              "      <td>220.0</td>\n",
              "      <td>0.0</td>\n",
              "      <td>2019-07-12</td>\n",
              "      <td>101.86</td>\n",
              "    </tr>\n",
              "    <tr>\n",
              "      <th>17689</th>\n",
              "      <td>Gaston</td>\n",
              "      <td>33.0</td>\n",
              "      <td>-79.6</td>\n",
              "      <td>hurricane</td>\n",
              "      <td>1</td>\n",
              "      <td>65</td>\n",
              "      <td>985</td>\n",
              "      <td>NaN</td>\n",
              "      <td>NaN</td>\n",
              "      <td>2004-08-29</td>\n",
              "      <td>120.38</td>\n",
              "    </tr>\n",
              "    <tr>\n",
              "      <th>29758</th>\n",
              "      <td>Nicholas</td>\n",
              "      <td>30.3</td>\n",
              "      <td>-93.1</td>\n",
              "      <td>tropical depression</td>\n",
              "      <td>-1</td>\n",
              "      <td>25</td>\n",
              "      <td>1006</td>\n",
              "      <td>0.0</td>\n",
              "      <td>0.0</td>\n",
              "      <td>2021-09-15</td>\n",
              "      <td>46.30</td>\n",
              "    </tr>\n",
              "    <tr>\n",
              "      <th>29341</th>\n",
              "      <td>Elsa</td>\n",
              "      <td>22.2</td>\n",
              "      <td>-81.6</td>\n",
              "      <td>tropical storm</td>\n",
              "      <td>0</td>\n",
              "      <td>55</td>\n",
              "      <td>1005</td>\n",
              "      <td>110.0</td>\n",
              "      <td>0.0</td>\n",
              "      <td>2021-07-05</td>\n",
              "      <td>101.86</td>\n",
              "    </tr>\n",
              "    <tr>\n",
              "      <th>28336</th>\n",
              "      <td>Josephine</td>\n",
              "      <td>18.4</td>\n",
              "      <td>-58.3</td>\n",
              "      <td>tropical storm</td>\n",
              "      <td>0</td>\n",
              "      <td>40</td>\n",
              "      <td>1005</td>\n",
              "      <td>80.0</td>\n",
              "      <td>0.0</td>\n",
              "      <td>2020-08-15</td>\n",
              "      <td>74.08</td>\n",
              "    </tr>\n",
              "    <tr>\n",
              "      <th>28601</th>\n",
              "      <td>Paulette</td>\n",
              "      <td>29.1</td>\n",
              "      <td>-60.3</td>\n",
              "      <td>hurricane</td>\n",
              "      <td>1</td>\n",
              "      <td>65</td>\n",
              "      <td>980</td>\n",
              "      <td>270.0</td>\n",
              "      <td>40.0</td>\n",
              "      <td>2020-09-13</td>\n",
              "      <td>120.38</td>\n",
              "    </tr>\n",
              "    <tr>\n",
              "      <th>5208</th>\n",
              "      <td>Katrina</td>\n",
              "      <td>26.8</td>\n",
              "      <td>-64.5</td>\n",
              "      <td>tropical storm</td>\n",
              "      <td>0</td>\n",
              "      <td>40</td>\n",
              "      <td>1002</td>\n",
              "      <td>NaN</td>\n",
              "      <td>NaN</td>\n",
              "      <td>1981-11-07</td>\n",
              "      <td>74.08</td>\n",
              "    </tr>\n",
              "    <tr>\n",
              "      <th>22467</th>\n",
              "      <td>Harvey</td>\n",
              "      <td>18.7</td>\n",
              "      <td>-94.8</td>\n",
              "      <td>tropical storm</td>\n",
              "      <td>0</td>\n",
              "      <td>35</td>\n",
              "      <td>1005</td>\n",
              "      <td>70.0</td>\n",
              "      <td>0.0</td>\n",
              "      <td>2011-08-22</td>\n",
              "      <td>64.82</td>\n",
              "    </tr>\n",
              "    <tr>\n",
              "      <th>3441</th>\n",
              "      <td>Clara</td>\n",
              "      <td>35.5</td>\n",
              "      <td>-64.6</td>\n",
              "      <td>hurricane</td>\n",
              "      <td>1</td>\n",
              "      <td>65</td>\n",
              "      <td>998</td>\n",
              "      <td>NaN</td>\n",
              "      <td>NaN</td>\n",
              "      <td>1977-09-09</td>\n",
              "      <td>120.38</td>\n",
              "    </tr>\n",
              "    <tr>\n",
              "      <th>25829</th>\n",
              "      <td>Nicole</td>\n",
              "      <td>24.0</td>\n",
              "      <td>-65.4</td>\n",
              "      <td>tropical storm</td>\n",
              "      <td>0</td>\n",
              "      <td>55</td>\n",
              "      <td>993</td>\n",
              "      <td>150.0</td>\n",
              "      <td>0.0</td>\n",
              "      <td>2016-10-09</td>\n",
              "      <td>101.86</td>\n",
              "    </tr>\n",
              "    <tr>\n",
              "      <th>14393</th>\n",
              "      <td>Jose</td>\n",
              "      <td>34.9</td>\n",
              "      <td>-58.1</td>\n",
              "      <td>tropical storm</td>\n",
              "      <td>0</td>\n",
              "      <td>60</td>\n",
              "      <td>990</td>\n",
              "      <td>NaN</td>\n",
              "      <td>NaN</td>\n",
              "      <td>1999-10-25</td>\n",
              "      <td>111.12</td>\n",
              "    </tr>\n",
              "    <tr>\n",
              "      <th>27609</th>\n",
              "      <td>Gabrielle</td>\n",
              "      <td>25.0</td>\n",
              "      <td>-37.1</td>\n",
              "      <td>tropical storm</td>\n",
              "      <td>0</td>\n",
              "      <td>35</td>\n",
              "      <td>1005</td>\n",
              "      <td>230.0</td>\n",
              "      <td>0.0</td>\n",
              "      <td>2019-09-06</td>\n",
              "      <td>64.82</td>\n",
              "    </tr>\n",
              "    <tr>\n",
              "      <th>10542</th>\n",
              "      <td>Gordon</td>\n",
              "      <td>17.6</td>\n",
              "      <td>-77.9</td>\n",
              "      <td>tropical storm</td>\n",
              "      <td>0</td>\n",
              "      <td>35</td>\n",
              "      <td>999</td>\n",
              "      <td>NaN</td>\n",
              "      <td>NaN</td>\n",
              "      <td>1994-11-13</td>\n",
              "      <td>64.82</td>\n",
              "    </tr>\n",
              "    <tr>\n",
              "      <th>21169</th>\n",
              "      <td>Ana</td>\n",
              "      <td>14.5</td>\n",
              "      <td>-32.1</td>\n",
              "      <td>tropical depression</td>\n",
              "      <td>-1</td>\n",
              "      <td>30</td>\n",
              "      <td>1006</td>\n",
              "      <td>0.0</td>\n",
              "      <td>0.0</td>\n",
              "      <td>2009-08-12</td>\n",
              "      <td>55.56</td>\n",
              "    </tr>\n",
              "    <tr>\n",
              "      <th>22376</th>\n",
              "      <td>Don</td>\n",
              "      <td>27.0</td>\n",
              "      <td>-96.9</td>\n",
              "      <td>tropical storm</td>\n",
              "      <td>0</td>\n",
              "      <td>35</td>\n",
              "      <td>1006</td>\n",
              "      <td>60.0</td>\n",
              "      <td>0.0</td>\n",
              "      <td>2011-07-30</td>\n",
              "      <td>64.82</td>\n",
              "    </tr>\n",
              "    <tr>\n",
              "      <th>20066</th>\n",
              "      <td>Dean</td>\n",
              "      <td>18.6</td>\n",
              "      <td>-86.9</td>\n",
              "      <td>hurricane</td>\n",
              "      <td>5</td>\n",
              "      <td>150</td>\n",
              "      <td>907</td>\n",
              "      <td>305.0</td>\n",
              "      <td>90.0</td>\n",
              "      <td>2007-08-21</td>\n",
              "      <td>277.80</td>\n",
              "    </tr>\n",
              "    <tr>\n",
              "      <th>11875</th>\n",
              "      <td>Sebastien</td>\n",
              "      <td>18.3</td>\n",
              "      <td>-63.0</td>\n",
              "      <td>tropical depression</td>\n",
              "      <td>-1</td>\n",
              "      <td>30</td>\n",
              "      <td>1007</td>\n",
              "      <td>NaN</td>\n",
              "      <td>NaN</td>\n",
              "      <td>1995-10-24</td>\n",
              "      <td>55.56</td>\n",
              "    </tr>\n",
              "    <tr>\n",
              "      <th>23440</th>\n",
              "      <td>Leslie</td>\n",
              "      <td>15.3</td>\n",
              "      <td>-47.4</td>\n",
              "      <td>tropical storm</td>\n",
              "      <td>0</td>\n",
              "      <td>50</td>\n",
              "      <td>1001</td>\n",
              "      <td>110.0</td>\n",
              "      <td>0.0</td>\n",
              "      <td>2012-08-31</td>\n",
              "      <td>92.60</td>\n",
              "    </tr>\n",
              "    <tr>\n",
              "      <th>7627</th>\n",
              "      <td>Joan</td>\n",
              "      <td>11.1</td>\n",
              "      <td>-79.8</td>\n",
              "      <td>hurricane</td>\n",
              "      <td>2</td>\n",
              "      <td>85</td>\n",
              "      <td>967</td>\n",
              "      <td>NaN</td>\n",
              "      <td>NaN</td>\n",
              "      <td>1988-10-20</td>\n",
              "      <td>157.42</td>\n",
              "    </tr>\n",
              "    <tr>\n",
              "      <th>15635</th>\n",
              "      <td>Humberto</td>\n",
              "      <td>30.1</td>\n",
              "      <td>-67.3</td>\n",
              "      <td>tropical storm</td>\n",
              "      <td>0</td>\n",
              "      <td>55</td>\n",
              "      <td>994</td>\n",
              "      <td>NaN</td>\n",
              "      <td>NaN</td>\n",
              "      <td>2001-09-23</td>\n",
              "      <td>101.86</td>\n",
              "    </tr>\n",
              "  </tbody>\n",
              "</table>\n",
              "</div>\n",
              "      <button class=\"colab-df-convert\" onclick=\"convertToInteractive('df-d6adddbb-1bf1-4158-bde9-ec55eea5786f')\"\n",
              "              title=\"Convert this dataframe to an interactive table.\"\n",
              "              style=\"display:none;\">\n",
              "        \n",
              "  <svg xmlns=\"http://www.w3.org/2000/svg\" height=\"24px\"viewBox=\"0 0 24 24\"\n",
              "       width=\"24px\">\n",
              "    <path d=\"M0 0h24v24H0V0z\" fill=\"none\"/>\n",
              "    <path d=\"M18.56 5.44l.94 2.06.94-2.06 2.06-.94-2.06-.94-.94-2.06-.94 2.06-2.06.94zm-11 1L8.5 8.5l.94-2.06 2.06-.94-2.06-.94L8.5 2.5l-.94 2.06-2.06.94zm10 10l.94 2.06.94-2.06 2.06-.94-2.06-.94-.94-2.06-.94 2.06-2.06.94z\"/><path d=\"M17.41 7.96l-1.37-1.37c-.4-.4-.92-.59-1.43-.59-.52 0-1.04.2-1.43.59L10.3 9.45l-7.72 7.72c-.78.78-.78 2.05 0 2.83L4 21.41c.39.39.9.59 1.41.59.51 0 1.02-.2 1.41-.59l7.78-7.78 2.81-2.81c.8-.78.8-2.07 0-2.86zM5.41 20L4 18.59l7.72-7.72 1.47 1.35L5.41 20z\"/>\n",
              "  </svg>\n",
              "      </button>\n",
              "      \n",
              "  <style>\n",
              "    .colab-df-container {\n",
              "      display:flex;\n",
              "      flex-wrap:wrap;\n",
              "      gap: 12px;\n",
              "    }\n",
              "\n",
              "    .colab-df-convert {\n",
              "      background-color: #E8F0FE;\n",
              "      border: none;\n",
              "      border-radius: 50%;\n",
              "      cursor: pointer;\n",
              "      display: none;\n",
              "      fill: #1967D2;\n",
              "      height: 32px;\n",
              "      padding: 0 0 0 0;\n",
              "      width: 32px;\n",
              "    }\n",
              "\n",
              "    .colab-df-convert:hover {\n",
              "      background-color: #E2EBFA;\n",
              "      box-shadow: 0px 1px 2px rgba(60, 64, 67, 0.3), 0px 1px 3px 1px rgba(60, 64, 67, 0.15);\n",
              "      fill: #174EA6;\n",
              "    }\n",
              "\n",
              "    [theme=dark] .colab-df-convert {\n",
              "      background-color: #3B4455;\n",
              "      fill: #D2E3FC;\n",
              "    }\n",
              "\n",
              "    [theme=dark] .colab-df-convert:hover {\n",
              "      background-color: #434B5C;\n",
              "      box-shadow: 0px 1px 3px 1px rgba(0, 0, 0, 0.15);\n",
              "      filter: drop-shadow(0px 1px 2px rgba(0, 0, 0, 0.3));\n",
              "      fill: #FFFFFF;\n",
              "    }\n",
              "  </style>\n",
              "\n",
              "      <script>\n",
              "        const buttonEl =\n",
              "          document.querySelector('#df-d6adddbb-1bf1-4158-bde9-ec55eea5786f button.colab-df-convert');\n",
              "        buttonEl.style.display =\n",
              "          google.colab.kernel.accessAllowed ? 'block' : 'none';\n",
              "\n",
              "        async function convertToInteractive(key) {\n",
              "          const element = document.querySelector('#df-d6adddbb-1bf1-4158-bde9-ec55eea5786f');\n",
              "          const dataTable =\n",
              "            await google.colab.kernel.invokeFunction('convertToInteractive',\n",
              "                                                     [key], {});\n",
              "          if (!dataTable) return;\n",
              "\n",
              "          const docLinkHtml = 'Like what you see? Visit the ' +\n",
              "            '<a target=\"_blank\" href=https://colab.research.google.com/notebooks/data_table.ipynb>data table notebook</a>'\n",
              "            + ' to learn more about interactive tables.';\n",
              "          element.innerHTML = '';\n",
              "          dataTable['output_type'] = 'display_data';\n",
              "          await google.colab.output.renderOutput(dataTable, element);\n",
              "          const docLink = document.createElement('div');\n",
              "          docLink.innerHTML = docLinkHtml;\n",
              "          element.appendChild(docLink);\n",
              "        }\n",
              "      </script>\n",
              "    </div>\n",
              "  </div>\n",
              "  "
            ]
          },
          "metadata": {},
          "execution_count": 14
        }
      ],
      "source": [
        "df_real_names.sample(20)"
      ],
      "metadata": {
        "pycharm": {
          "name": "#%%\n"
        },
        "id": "wW_mdlsMA6NC",
        "outputId": "e2d72391-a13d-4871-d43d-54ea3d4352e2",
        "colab": {
          "base_uri": "https://localhost:8080/",
          "height": 677
        }
      }
    },
    {
      "cell_type": "markdown",
      "source": [
        "### 1. Visualizando as tempestades com maior ocorrência\n",
        "> Para visualizar as tempestades com maior ocorrência, iremos realizar outro filtro, baseado na contagem dos valores. E também voltado apenas nas tempestades com nomes reais"
      ],
      "metadata": {
        "collapsed": false,
        "pycharm": {
          "name": "#%% md\n"
        },
        "id": "NUB-gX53A6NC"
      }
    },
    {
      "cell_type": "code",
      "execution_count": null,
      "outputs": [],
      "source": [
        "# Filtering date based on \"name\" and count of each values\n",
        "most_frequent_storms = df_real_names[df_real_names['name'].isin(\n",
        "        df_real_names['name'].value_counts()[df_real_names['name'].value_counts()>250].index)]\n",
        "\n",
        "# Order by clause, to sort the graphic plot\n",
        "order_by_clause = most_frequent_storms['name'].value_counts().index\n",
        "\n",
        "fig, ax = plt.subplots(figsize=(14,8))\n",
        "sns.countplot(most_frequent_storms['name'], order=order_by_clause, ax=ax)\n",
        "for p in ax.patches:\n",
        "        ax.annotate('{}'.format(p.get_height()),\n",
        "                    (p.get_x()+0.25, p.get_height()+0.1),\n",
        "                    rotation=90,\n",
        "                    fontsize=14)\n",
        "plt.title(\"Ocorrência de Tempestades\", fontsize=16)\n",
        "plt.xlabel(\"Nome da Tempestade\", fontsize=14)\n",
        "plt.ylabel(\"Ocorrência\", fontsize=13)\n",
        "plt.xticks(rotation=90, fontsize=16)\n",
        "plt.show()"
      ],
      "metadata": {
        "pycharm": {
          "name": "#%%\n"
        },
        "id": "_dHB1wqKA6NC"
      }
    },
    {
      "cell_type": "markdown",
      "source": [
        "**Com a plotagem do gráfico acima, podemos visualizar que as tempestades com maior ocorrência, foram:**\n",
        "\n",
        "1. Emily (434 ocorrências);\n",
        "2. Bonnie (418 ocorrências);\n",
        "3. Claudette (388 ocorrências);\n",
        "4. Alberto (368 ocorrências);\n",
        "5. Felix (356 ocorrências)."
      ],
      "metadata": {
        "collapsed": false,
        "pycharm": {
          "name": "#%% md\n"
        },
        "id": "APz0KZ-BA6NC"
      }
    },
    {
      "cell_type": "code",
      "execution_count": 16,
      "outputs": [
        {
          "output_type": "execute_result",
          "data": {
            "text/plain": [
              "<pandas.core.groupby.generic.DataFrameGroupBy object at 0x7fcf062307d0>"
            ]
          },
          "metadata": {},
          "execution_count": 16
        }
      ],
      "source": [
        "# df[['status', 'category']].count_values()\n",
        "df.groupby(by='status')"
      ],
      "metadata": {
        "pycharm": {
          "name": "#%%\n"
        },
        "id": "nWoyUhXxGbxT",
        "outputId": "a683c1c0-ce63-4747-f52d-ba65de31aab6",
        "colab": {
          "base_uri": "https://localhost:8080/"
        }
      }
    },
    {
      "cell_type": "code",
      "execution_count": 17,
      "outputs": [
        {
          "output_type": "execute_result",
          "data": {
            "text/plain": [
              "array(['hurricane', 'tropical storm', 'tropical depression'], dtype=object)"
            ]
          },
          "metadata": {},
          "execution_count": 17
        }
      ],
      "source": [
        "df.status.unique()"
      ],
      "metadata": {
        "pycharm": {
          "name": "#%%\n"
        },
        "id": "CHs6I1dSGbxT",
        "outputId": "937a0ef5-9ffa-441e-c9cd-72dff6f591cf",
        "colab": {
          "base_uri": "https://localhost:8080/"
        }
      }
    },
    {
      "cell_type": "code",
      "execution_count": 18,
      "outputs": [
        {
          "output_type": "execute_result",
          "data": {
            "text/plain": [
              "<matplotlib.axes._subplots.AxesSubplot at 0x7fcf089a3f50>"
            ]
          },
          "metadata": {},
          "execution_count": 18
        },
        {
          "output_type": "display_data",
          "data": {
            "text/plain": [
              "<Figure size 432x288 with 1 Axes>"
            ],
            "image/png": "[encoded data removed]"
          },
          "metadata": {
            "needs_background": "light"
          }
        }
      ],
      "source": [
        "sns.countplot(x='category', data=df)"
      ],
      "metadata": {
        "pycharm": {
          "name": "#%%\n"
        },
        "id": "PB8o2cFkGbxU",
        "outputId": "2f77ffad-47aa-4835-ac92-5f514749dd76",
        "colab": {
          "base_uri": "https://localhost:8080/",
          "height": 296
        }
      }
    },
    {
      "cell_type": "code",
      "execution_count": 19,
      "outputs": [
        {
          "output_type": "execute_result",
          "data": {
            "text/plain": [
              "<matplotlib.axes._subplots.AxesSubplot at 0x7fcf0376a7d0>"
            ]
          },
          "metadata": {},
          "execution_count": 19
        },
        {
          "output_type": "display_data",
          "data": {
            "text/plain": [
              "<Figure size 432x288 with 1 Axes>"
            ],
            "image/png": "[encoded data removed]"
          },
          "metadata": {
            "needs_background": "light"
          }
        }
      ],
      "source": [
        "sns.countplot(x='status', data=df)"
      ],
      "metadata": {
        "pycharm": {
          "name": "#%%\n"
        },
        "id": "n0Q4Oz0zGbxU",
        "outputId": "4f5f5884-059e-45a4-a2e4-6e5636fb5c72",
        "colab": {
          "base_uri": "https://localhost:8080/",
          "height": 296
        }
      }
    },
    {
      "cell_type": "code",
      "execution_count": 20,
      "outputs": [
        {
          "output_type": "execute_result",
          "data": {
            "text/plain": [
              "array(['hurricane', 'tropical storm', 'tropical depression'], dtype=object)"
            ]
          },
          "metadata": {},
          "execution_count": 20
        }
      ],
      "source": [
        "# Separar por tipo de status\n",
        "df.status.unique()"
      ],
      "metadata": {
        "pycharm": {
          "name": "#%%\n"
        },
        "id": "9VMYPFjZGbxV",
        "outputId": "eda61544-680d-4c26-940d-678abe817973",
        "colab": {
          "base_uri": "https://localhost:8080/"
        }
      }
    },
    {
      "cell_type": "code",
      "execution_count": 21,
      "outputs": [],
      "source": [
        "# testando teste 123 remover texto fake sqn"
      ],
      "metadata": {
        "pycharm": {
          "name": "#%%\n"
        },
        "id": "wKO5YJovGbxV"
      }
    },
    {
      "cell_type": "markdown",
      "source": [
        "# Plotando informações em um gráfico\n"
      ],
      "metadata": {
        "collapsed": false,
        "pycharm": {
          "name": "#%% md\n"
        },
        "id": "SqErUyR8A6ND"
      }
    },
    {
      "cell_type": "code",
      "execution_count": null,
      "outputs": [],
      "source": [
        "!pip install folium\n",
        "!pip install folium pandas\n",
        "!pip install cartopy\n",
        "!pip install geoplot"
      ],
      "metadata": {
        "pycharm": {
          "name": "#%%\n"
        },
        "id": "8Ohbr8vkA6ND"
      }
    },
    {
      "cell_type": "code",
      "execution_count": null,
      "outputs": [],
      "source": [
        "import folium\n",
        "from folium import plugins\n",
        "lat = df_real_names['lat'].mean()\n",
        "long = df_real_names['long'].mean()\n",
        "# lat = df['lat']\n",
        "# lon = df['long']\n",
        "localization = df_real_names[['lat', 'long']].values\n",
        "\n",
        "map = folium.Map([lat, long], zoom_start=3)\n",
        "map\n",
        "map.add_child(plugins.HeatMap(localization, radius=15))"
      ],
      "metadata": {
        "pycharm": {
          "name": "#%%\n"
        },
        "id": "b6PEgjyMA6ND"
      }
    },
    {
      "cell_type": "code",
      "source": [
        "df[df['wind km/h'] == df['wind km/h'].max()]\n",
        "#df.loc[df['wind km/h'].idxmax()]\n",
        "sns.countplot(x='wind km/h', data=df)"
      ],
      "metadata": {
        "id": "YxOQc7lBxMhT",
        "outputId": "3be71e06-fb0c-4f2a-ee69-0fe5082df835",
        "colab": {
          "base_uri": "https://localhost:8080/",
          "height": 296
        }
      },
      "execution_count": 92,
      "outputs": [
        {
          "output_type": "execute_result",
          "data": {
            "text/plain": [
              "<matplotlib.axes._subplots.AxesSubplot at 0x7fced8798810>"
            ]
          },
          "metadata": {},
          "execution_count": 92
        },
        {
          "output_type": "display_data",
          "data": {
            "text/plain": [
              "<Figure size 432x288 with 1 Axes>"
            ],
            "image/png": "[encoded data removed]"
          },
          "metadata": {
            "needs_background": "light"
          }
        }
      ]
    },
    {
      "cell_type": "code",
      "source": [
        "df[df['pressure'] == df['pressure'].max()]\n",
        "sns.countplot(x='pressure', data=df)"
      ],
      "metadata": {
        "id": "B971U1xbyeqU",
        "outputId": "8be4ebe7-4c87-4d2d-f7b2-6698b57fb02e",
        "colab": {
          "base_uri": "https://localhost:8080/",
          "height": 299
        }
      },
      "execution_count": 93,
      "outputs": [
        {
          "output_type": "execute_result",
          "data": {
            "text/plain": [
              "<matplotlib.axes._subplots.AxesSubplot at 0x7fced2072e90>"
            ]
          },
          "metadata": {},
          "execution_count": 93
        },
        {
          "output_type": "display_data",
          "data": {
            "text/plain": [
              "<Figure size 432x288 with 1 Axes>"
            ],
            "image/png": "[encoded data removed]"
          },
          "metadata": {
            "needs_background": "light"
          }
        }
      ]
    },
    {
      "cell_type": "code",
      "source": [
        "dfWeekYear = df.groupby(df['date'].apply(lambda x: \"%d/%d\" % (x.week, x.year))).size() \\\n",
        "                             .reset_index(name='count') \\\n",
        "                             .sort_values(['count'], ascending=False) \n",
        "\n",
        "sns.countplot(x='count', data=dfWeekYear)    "
      ],
      "metadata": {
        "id": "OoaeATiQy_uz",
        "outputId": "fba4aca5-3505-46ee-deaa-7e03d89a1321",
        "colab": {
          "base_uri": "https://localhost:8080/",
          "height": 296
        }
      },
      "execution_count": 99,
      "outputs": [
        {
          "output_type": "execute_result",
          "data": {
            "text/plain": [
              "<matplotlib.axes._subplots.AxesSubplot at 0x7fcec9433d50>"
            ]
          },
          "metadata": {},
          "execution_count": 99
        },
        {
          "output_type": "display_data",
          "data": {
            "text/plain": [
              "<Figure size 432x288 with 1 Axes>"
            ],
            "image/png": "[encoded data removed]"
          },
          "metadata": {
            "needs_background": "light"
          }
        }
      ]
    },
    {
      "cell_type": "code",
      "source": [
        "df.groupby(df['date'].apply(lambda x: \"%d/%d\" % (x.month, x.year))).size() \\\n",
        "                             .reset_index(name='count') \\\n",
        "                             .sort_values(['count'], ascending=False) \\\n",
        "                             .head(5)    "
      ],
      "metadata": {
        "id": "4LJW-cRB0rG8",
        "outputId": "23279a9a-ec98-4ac8-c3bd-67af078d3fc5",
        "colab": {
          "base_uri": "https://localhost:8080/",
          "height": 206
        }
      },
      "execution_count": 85,
      "outputs": [
        {
          "output_type": "execute_result",
          "data": {
            "text/plain": [
              "       date  count\n",
              "514  9/2004    507\n",
              "380  8/1995    498\n",
              "530  9/2020    456\n",
              "508  9/1998    406\n",
              "520  9/2010    392"
            ],
            "text/html": [
              "\n",
              "  <div id=\"df-88f93c0b-d3c1-4223-8557-65614b8a8d41\">\n",
              "    <div class=\"colab-df-container\">\n",
              "      <div>\n",
              "<style scoped>\n",
              "    .dataframe tbody tr th:only-of-type {\n",
              "        vertical-align: middle;\n",
              "    }\n",
              "\n",
              "    .dataframe tbody tr th {\n",
              "        vertical-align: top;\n",
              "    }\n",
              "\n",
              "    .dataframe thead th {\n",
              "        text-align: right;\n",
              "    }\n",
              "</style>\n",
              "<table border=\"1\" class=\"dataframe\">\n",
              "  <thead>\n",
              "    <tr style=\"text-align: right;\">\n",
              "      <th></th>\n",
              "      <th>date</th>\n",
              "      <th>count</th>\n",
              "    </tr>\n",
              "  </thead>\n",
              "  <tbody>\n",
              "    <tr>\n",
              "      <th>514</th>\n",
              "      <td>9/2004</td>\n",
              "      <td>507</td>\n",
              "    </tr>\n",
              "    <tr>\n",
              "      <th>380</th>\n",
              "      <td>8/1995</td>\n",
              "      <td>498</td>\n",
              "    </tr>\n",
              "    <tr>\n",
              "      <th>530</th>\n",
              "      <td>9/2020</td>\n",
              "      <td>456</td>\n",
              "    </tr>\n",
              "    <tr>\n",
              "      <th>508</th>\n",
              "      <td>9/1998</td>\n",
              "      <td>406</td>\n",
              "    </tr>\n",
              "    <tr>\n",
              "      <th>520</th>\n",
              "      <td>9/2010</td>\n",
              "      <td>392</td>\n",
              "    </tr>\n",
              "  </tbody>\n",
              "</table>\n",
              "</div>\n",
              "      <button class=\"colab-df-convert\" onclick=\"convertToInteractive('df-88f93c0b-d3c1-4223-8557-65614b8a8d41')\"\n",
              "              title=\"Convert this dataframe to an interactive table.\"\n",
              "              style=\"display:none;\">\n",
              "        \n",
              "  <svg xmlns=\"http://www.w3.org/2000/svg\" height=\"24px\"viewBox=\"0 0 24 24\"\n",
              "       width=\"24px\">\n",
              "    <path d=\"M0 0h24v24H0V0z\" fill=\"none\"/>\n",
              "    <path d=\"M18.56 5.44l.94 2.06.94-2.06 2.06-.94-2.06-.94-.94-2.06-.94 2.06-2.06.94zm-11 1L8.5 8.5l.94-2.06 2.06-.94-2.06-.94L8.5 2.5l-.94 2.06-2.06.94zm10 10l.94 2.06.94-2.06 2.06-.94-2.06-.94-.94-2.06-.94 2.06-2.06.94z\"/><path d=\"M17.41 7.96l-1.37-1.37c-.4-.4-.92-.59-1.43-.59-.52 0-1.04.2-1.43.59L10.3 9.45l-7.72 7.72c-.78.78-.78 2.05 0 2.83L4 21.41c.39.39.9.59 1.41.59.51 0 1.02-.2 1.41-.59l7.78-7.78 2.81-2.81c.8-.78.8-2.07 0-2.86zM5.41 20L4 18.59l7.72-7.72 1.47 1.35L5.41 20z\"/>\n",
              "  </svg>\n",
              "      </button>\n",
              "      \n",
              "  <style>\n",
              "    .colab-df-container {\n",
              "      display:flex;\n",
              "      flex-wrap:wrap;\n",
              "      gap: 12px;\n",
              "    }\n",
              "\n",
              "    .colab-df-convert {\n",
              "      background-color: #E8F0FE;\n",
              "      border: none;\n",
              "      border-radius: 50%;\n",
              "      cursor: pointer;\n",
              "      display: none;\n",
              "      fill: #1967D2;\n",
              "      height: 32px;\n",
              "      padding: 0 0 0 0;\n",
              "      width: 32px;\n",
              "    }\n",
              "\n",
              "    .colab-df-convert:hover {\n",
              "      background-color: #E2EBFA;\n",
              "      box-shadow: 0px 1px 2px rgba(60, 64, 67, 0.3), 0px 1px 3px 1px rgba(60, 64, 67, 0.15);\n",
              "      fill: #174EA6;\n",
              "    }\n",
              "\n",
              "    [theme=dark] .colab-df-convert {\n",
              "      background-color: #3B4455;\n",
              "      fill: #D2E3FC;\n",
              "    }\n",
              "\n",
              "    [theme=dark] .colab-df-convert:hover {\n",
              "      background-color: #434B5C;\n",
              "      box-shadow: 0px 1px 3px 1px rgba(0, 0, 0, 0.15);\n",
              "      filter: drop-shadow(0px 1px 2px rgba(0, 0, 0, 0.3));\n",
              "      fill: #FFFFFF;\n",
              "    }\n",
              "  </style>\n",
              "\n",
              "      <script>\n",
              "        const buttonEl =\n",
              "          document.querySelector('#df-88f93c0b-d3c1-4223-8557-65614b8a8d41 button.colab-df-convert');\n",
              "        buttonEl.style.display =\n",
              "          google.colab.kernel.accessAllowed ? 'block' : 'none';\n",
              "\n",
              "        async function convertToInteractive(key) {\n",
              "          const element = document.querySelector('#df-88f93c0b-d3c1-4223-8557-65614b8a8d41');\n",
              "          const dataTable =\n",
              "            await google.colab.kernel.invokeFunction('convertToInteractive',\n",
              "                                                     [key], {});\n",
              "          if (!dataTable) return;\n",
              "\n",
              "          const docLinkHtml = 'Like what you see? Visit the ' +\n",
              "            '<a target=\"_blank\" href=https://colab.research.google.com/notebooks/data_table.ipynb>data table notebook</a>'\n",
              "            + ' to learn more about interactive tables.';\n",
              "          element.innerHTML = '';\n",
              "          dataTable['output_type'] = 'display_data';\n",
              "          await google.colab.output.renderOutput(dataTable, element);\n",
              "          const docLink = document.createElement('div');\n",
              "          docLink.innerHTML = docLinkHtml;\n",
              "          element.appendChild(docLink);\n",
              "        }\n",
              "      </script>\n",
              "    </div>\n",
              "  </div>\n",
              "  "
            ]
          },
          "metadata": {},
          "execution_count": 85
        }
      ]
    },
    {
      "cell_type": "code",
      "source": [
        "df.groupby(df['date'].apply(lambda x: \"%d/%d/%d\" % (x.day, x.month, x.year))).size() \\\n",
        "                             .reset_index(name='count') \\\n",
        "                             .sort_values(['count'], ascending=False) \\\n",
        "                             .head(5)    "
      ],
      "metadata": {
        "id": "BpvRaNps05kU",
        "outputId": "1a611c53-2445-4fac-811c-06d3421e56ec",
        "colab": {
          "base_uri": "https://localhost:8080/",
          "height": 206
        }
      },
      "execution_count": 87,
      "outputs": [
        {
          "output_type": "execute_result",
          "data": {
            "text/plain": [
              "           date  count\n",
              "824   14/9/2020     40\n",
              "2559  25/9/1998     34\n",
              "3292   3/9/2008     34\n",
              "2789  27/8/1995     34\n",
              "2284  23/9/2004     32"
            ],
            "text/html": [
              "\n",
              "  <div id=\"df-34068bbd-48f4-498e-8472-0e41fbbe85b3\">\n",
              "    <div class=\"colab-df-container\">\n",
              "      <div>\n",
              "<style scoped>\n",
              "    .dataframe tbody tr th:only-of-type {\n",
              "        vertical-align: middle;\n",
              "    }\n",
              "\n",
              "    .dataframe tbody tr th {\n",
              "        vertical-align: top;\n",
              "    }\n",
              "\n",
              "    .dataframe thead th {\n",
              "        text-align: right;\n",
              "    }\n",
              "</style>\n",
              "<table border=\"1\" class=\"dataframe\">\n",
              "  <thead>\n",
              "    <tr style=\"text-align: right;\">\n",
              "      <th></th>\n",
              "      <th>date</th>\n",
              "      <th>count</th>\n",
              "    </tr>\n",
              "  </thead>\n",
              "  <tbody>\n",
              "    <tr>\n",
              "      <th>824</th>\n",
              "      <td>14/9/2020</td>\n",
              "      <td>40</td>\n",
              "    </tr>\n",
              "    <tr>\n",
              "      <th>2559</th>\n",
              "      <td>25/9/1998</td>\n",
              "      <td>34</td>\n",
              "    </tr>\n",
              "    <tr>\n",
              "      <th>3292</th>\n",
              "      <td>3/9/2008</td>\n",
              "      <td>34</td>\n",
              "    </tr>\n",
              "    <tr>\n",
              "      <th>2789</th>\n",
              "      <td>27/8/1995</td>\n",
              "      <td>34</td>\n",
              "    </tr>\n",
              "    <tr>\n",
              "      <th>2284</th>\n",
              "      <td>23/9/2004</td>\n",
              "      <td>32</td>\n",
              "    </tr>\n",
              "  </tbody>\n",
              "</table>\n",
              "</div>\n",
              "      <button class=\"colab-df-convert\" onclick=\"convertToInteractive('df-34068bbd-48f4-498e-8472-0e41fbbe85b3')\"\n",
              "              title=\"Convert this dataframe to an interactive table.\"\n",
              "              style=\"display:none;\">\n",
              "        \n",
              "  <svg xmlns=\"http://www.w3.org/2000/svg\" height=\"24px\"viewBox=\"0 0 24 24\"\n",
              "       width=\"24px\">\n",
              "    <path d=\"M0 0h24v24H0V0z\" fill=\"none\"/>\n",
              "    <path d=\"M18.56 5.44l.94 2.06.94-2.06 2.06-.94-2.06-.94-.94-2.06-.94 2.06-2.06.94zm-11 1L8.5 8.5l.94-2.06 2.06-.94-2.06-.94L8.5 2.5l-.94 2.06-2.06.94zm10 10l.94 2.06.94-2.06 2.06-.94-2.06-.94-.94-2.06-.94 2.06-2.06.94z\"/><path d=\"M17.41 7.96l-1.37-1.37c-.4-.4-.92-.59-1.43-.59-.52 0-1.04.2-1.43.59L10.3 9.45l-7.72 7.72c-.78.78-.78 2.05 0 2.83L4 21.41c.39.39.9.59 1.41.59.51 0 1.02-.2 1.41-.59l7.78-7.78 2.81-2.81c.8-.78.8-2.07 0-2.86zM5.41 20L4 18.59l7.72-7.72 1.47 1.35L5.41 20z\"/>\n",
              "  </svg>\n",
              "      </button>\n",
              "      \n",
              "  <style>\n",
              "    .colab-df-container {\n",
              "      display:flex;\n",
              "      flex-wrap:wrap;\n",
              "      gap: 12px;\n",
              "    }\n",
              "\n",
              "    .colab-df-convert {\n",
              "      background-color: #E8F0FE;\n",
              "      border: none;\n",
              "      border-radius: 50%;\n",
              "      cursor: pointer;\n",
              "      display: none;\n",
              "      fill: #1967D2;\n",
              "      height: 32px;\n",
              "      padding: 0 0 0 0;\n",
              "      width: 32px;\n",
              "    }\n",
              "\n",
              "    .colab-df-convert:hover {\n",
              "      background-color: #E2EBFA;\n",
              "      box-shadow: 0px 1px 2px rgba(60, 64, 67, 0.3), 0px 1px 3px 1px rgba(60, 64, 67, 0.15);\n",
              "      fill: #174EA6;\n",
              "    }\n",
              "\n",
              "    [theme=dark] .colab-df-convert {\n",
              "      background-color: #3B4455;\n",
              "      fill: #D2E3FC;\n",
              "    }\n",
              "\n",
              "    [theme=dark] .colab-df-convert:hover {\n",
              "      background-color: #434B5C;\n",
              "      box-shadow: 0px 1px 3px 1px rgba(0, 0, 0, 0.15);\n",
              "      filter: drop-shadow(0px 1px 2px rgba(0, 0, 0, 0.3));\n",
              "      fill: #FFFFFF;\n",
              "    }\n",
              "  </style>\n",
              "\n",
              "      <script>\n",
              "        const buttonEl =\n",
              "          document.querySelector('#df-34068bbd-48f4-498e-8472-0e41fbbe85b3 button.colab-df-convert');\n",
              "        buttonEl.style.display =\n",
              "          google.colab.kernel.accessAllowed ? 'block' : 'none';\n",
              "\n",
              "        async function convertToInteractive(key) {\n",
              "          const element = document.querySelector('#df-34068bbd-48f4-498e-8472-0e41fbbe85b3');\n",
              "          const dataTable =\n",
              "            await google.colab.kernel.invokeFunction('convertToInteractive',\n",
              "                                                     [key], {});\n",
              "          if (!dataTable) return;\n",
              "\n",
              "          const docLinkHtml = 'Like what you see? Visit the ' +\n",
              "            '<a target=\"_blank\" href=https://colab.research.google.com/notebooks/data_table.ipynb>data table notebook</a>'\n",
              "            + ' to learn more about interactive tables.';\n",
              "          element.innerHTML = '';\n",
              "          dataTable['output_type'] = 'display_data';\n",
              "          await google.colab.output.renderOutput(dataTable, element);\n",
              "          const docLink = document.createElement('div');\n",
              "          docLink.innerHTML = docLinkHtml;\n",
              "          element.appendChild(docLink);\n",
              "        }\n",
              "      </script>\n",
              "    </div>\n",
              "  </div>\n",
              "  "
            ]
          },
          "metadata": {},
          "execution_count": 87
        }
      ]
    },
    {
      "cell_type": "code",
      "source": [
        "df.groupby(df['date'].apply(lambda x: \"%d\" % (x.year))).size() \\\n",
        "                             .reset_index(name='count') \\\n",
        "                             .sort_values(['count'], ascending=False) \\\n",
        "                             .head(5)    \n",
        "\n",
        "#  df.groupby(df[\"date\"].dt.year).size() \\\n",
        "#  .reset_index(name='count') \\\n",
        "#  .sort_values(['count'], ascending=False) \\\n",
        "#  .head(5)                       "
      ],
      "metadata": {
        "id": "yNUkSr1f1OaT",
        "outputId": "cc2afd63-0721-423d-db9f-39dc9f433531",
        "colab": {
          "base_uri": "https://localhost:8080/",
          "height": 206
        }
      },
      "execution_count": 88,
      "outputs": [
        {
          "output_type": "execute_result",
          "data": {
            "text/plain": [
              "     date  count\n",
              "127  1995   1304\n",
              "152  2020   1215\n",
              "137  2005   1175\n",
              "144  2012    932\n",
              "136  2004    896"
            ],
            "text/html": [
              "\n",
              "  <div id=\"df-faac641e-b6c3-4f01-a2e5-37077896731f\">\n",
              "    <div class=\"colab-df-container\">\n",
              "      <div>\n",
              "<style scoped>\n",
              "    .dataframe tbody tr th:only-of-type {\n",
              "        vertical-align: middle;\n",
              "    }\n",
              "\n",
              "    .dataframe tbody tr th {\n",
              "        vertical-align: top;\n",
              "    }\n",
              "\n",
              "    .dataframe thead th {\n",
              "        text-align: right;\n",
              "    }\n",
              "</style>\n",
              "<table border=\"1\" class=\"dataframe\">\n",
              "  <thead>\n",
              "    <tr style=\"text-align: right;\">\n",
              "      <th></th>\n",
              "      <th>date</th>\n",
              "      <th>count</th>\n",
              "    </tr>\n",
              "  </thead>\n",
              "  <tbody>\n",
              "    <tr>\n",
              "      <th>127</th>\n",
              "      <td>1995</td>\n",
              "      <td>1304</td>\n",
              "    </tr>\n",
              "    <tr>\n",
              "      <th>152</th>\n",
              "      <td>2020</td>\n",
              "      <td>1215</td>\n",
              "    </tr>\n",
              "    <tr>\n",
              "      <th>137</th>\n",
              "      <td>2005</td>\n",
              "      <td>1175</td>\n",
              "    </tr>\n",
              "    <tr>\n",
              "      <th>144</th>\n",
              "      <td>2012</td>\n",
              "      <td>932</td>\n",
              "    </tr>\n",
              "    <tr>\n",
              "      <th>136</th>\n",
              "      <td>2004</td>\n",
              "      <td>896</td>\n",
              "    </tr>\n",
              "  </tbody>\n",
              "</table>\n",
              "</div>\n",
              "      <button class=\"colab-df-convert\" onclick=\"convertToInteractive('df-faac641e-b6c3-4f01-a2e5-37077896731f')\"\n",
              "              title=\"Convert this dataframe to an interactive table.\"\n",
              "              style=\"display:none;\">\n",
              "        \n",
              "  <svg xmlns=\"http://www.w3.org/2000/svg\" height=\"24px\"viewBox=\"0 0 24 24\"\n",
              "       width=\"24px\">\n",
              "    <path d=\"M0 0h24v24H0V0z\" fill=\"none\"/>\n",
              "    <path d=\"M18.56 5.44l.94 2.06.94-2.06 2.06-.94-2.06-.94-.94-2.06-.94 2.06-2.06.94zm-11 1L8.5 8.5l.94-2.06 2.06-.94-2.06-.94L8.5 2.5l-.94 2.06-2.06.94zm10 10l.94 2.06.94-2.06 2.06-.94-2.06-.94-.94-2.06-.94 2.06-2.06.94z\"/><path d=\"M17.41 7.96l-1.37-1.37c-.4-.4-.92-.59-1.43-.59-.52 0-1.04.2-1.43.59L10.3 9.45l-7.72 7.72c-.78.78-.78 2.05 0 2.83L4 21.41c.39.39.9.59 1.41.59.51 0 1.02-.2 1.41-.59l7.78-7.78 2.81-2.81c.8-.78.8-2.07 0-2.86zM5.41 20L4 18.59l7.72-7.72 1.47 1.35L5.41 20z\"/>\n",
              "  </svg>\n",
              "      </button>\n",
              "      \n",
              "  <style>\n",
              "    .colab-df-container {\n",
              "      display:flex;\n",
              "      flex-wrap:wrap;\n",
              "      gap: 12px;\n",
              "    }\n",
              "\n",
              "    .colab-df-convert {\n",
              "      background-color: #E8F0FE;\n",
              "      border: none;\n",
              "      border-radius: 50%;\n",
              "      cursor: pointer;\n",
              "      display: none;\n",
              "      fill: #1967D2;\n",
              "      height: 32px;\n",
              "      padding: 0 0 0 0;\n",
              "      width: 32px;\n",
              "    }\n",
              "\n",
              "    .colab-df-convert:hover {\n",
              "      background-color: #E2EBFA;\n",
              "      box-shadow: 0px 1px 2px rgba(60, 64, 67, 0.3), 0px 1px 3px 1px rgba(60, 64, 67, 0.15);\n",
              "      fill: #174EA6;\n",
              "    }\n",
              "\n",
              "    [theme=dark] .colab-df-convert {\n",
              "      background-color: #3B4455;\n",
              "      fill: #D2E3FC;\n",
              "    }\n",
              "\n",
              "    [theme=dark] .colab-df-convert:hover {\n",
              "      background-color: #434B5C;\n",
              "      box-shadow: 0px 1px 3px 1px rgba(0, 0, 0, 0.15);\n",
              "      filter: drop-shadow(0px 1px 2px rgba(0, 0, 0, 0.3));\n",
              "      fill: #FFFFFF;\n",
              "    }\n",
              "  </style>\n",
              "\n",
              "      <script>\n",
              "        const buttonEl =\n",
              "          document.querySelector('#df-faac641e-b6c3-4f01-a2e5-37077896731f button.colab-df-convert');\n",
              "        buttonEl.style.display =\n",
              "          google.colab.kernel.accessAllowed ? 'block' : 'none';\n",
              "\n",
              "        async function convertToInteractive(key) {\n",
              "          const element = document.querySelector('#df-faac641e-b6c3-4f01-a2e5-37077896731f');\n",
              "          const dataTable =\n",
              "            await google.colab.kernel.invokeFunction('convertToInteractive',\n",
              "                                                     [key], {});\n",
              "          if (!dataTable) return;\n",
              "\n",
              "          const docLinkHtml = 'Like what you see? Visit the ' +\n",
              "            '<a target=\"_blank\" href=https://colab.research.google.com/notebooks/data_table.ipynb>data table notebook</a>'\n",
              "            + ' to learn more about interactive tables.';\n",
              "          element.innerHTML = '';\n",
              "          dataTable['output_type'] = 'display_data';\n",
              "          await google.colab.output.renderOutput(dataTable, element);\n",
              "          const docLink = document.createElement('div');\n",
              "          docLink.innerHTML = docLinkHtml;\n",
              "          element.appendChild(docLink);\n",
              "        }\n",
              "      </script>\n",
              "    </div>\n",
              "  </div>\n",
              "  "
            ]
          },
          "metadata": {},
          "execution_count": 88
        }
      ]
    }
  ],
  "metadata": {
    "kernelspec": {
      "display_name": "Python 3",
      "language": "python",
      "name": "python3"
    },
    "language_info": {
      "codemirror_mode": {
        "name": "ipython",
        "version": 2
      },
      "file_extension": ".py",
      "mimetype": "text/x-python",
      "name": "python",
      "nbconvert_exporter": "python",
      "pygments_lexer": "ipython2",
      "version": "2.7.6"
    },
    "colab": {
      "provenance": []
    }
  },
  "nbformat": 4,
  "nbformat_minor": 0
}