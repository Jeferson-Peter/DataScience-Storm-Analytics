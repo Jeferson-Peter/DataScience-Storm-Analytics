{
 "cells": [
  {
   "cell_type": "markdown",
   "source": [
    "# Importando bibliotecas\n",
    "\n",
    "**Name:** indicates the storm name.\n",
    "**Year:** indicates the year when the storm has occurred.\n",
    "**Month:** indicates the month when the storm has occurred.\n",
    "**Day:** indicates the day when the storm has occurred.\n",
    "**Hour:** indicates the day when the storm has occurred.\n",
    "**Lat:** Latitude\n",
    "**Long:** Longitude\n",
    "**Status:** The status of storm:\n",
    "> Temos 3 tipos em nosso **Dataset**:\n",
    "    1. **Tropical Storm** (Minimum);\n",
    "    2. **Tropical Depression** (Medium);\n",
    "    3. **Hurricane** (High);\n",
    "\n",
    "**Category:** The category of storm if it's -1, 0, 1 ...\n",
    "**Wind:** The wind in knots\n",
    "**Pressure:** The atmospheric pressure\n",
    "**Tropicalstorm_force_diamete:** Total diameter of the force of Tropical Storm\n",
    "**hurricane_force_diameter:** Total diameter of the force of Hurricane"
   ],
   "metadata": {
    "collapsed": false,
    "id": "tsXOoryoGbxB"
   }
  },
  {
   "cell_type": "markdown",
   "source": [
    "# Questões a serem respondidas?\n",
    "\n",
    "1. Ver quais as tempestades com maior ocorrência? (nome, category, status)\n",
    "2. Qual a maior velocidade do vento e pressão?\n",
    "3. Qual a maior ocorrência das tempestades em um período de tempo (dia, mes, ano ) -> Desafio semanas\n",
    "4. Qual a localidade que sofreu mais tempestades. (independente das variaveis?). Exemplo: A cidade que teve maior frequência de tempestades\n",
    "5. Em quais localidades as tempestades (por status) ocorreram. Exemplo: Hurricane houve a maior concentração no Alabama, porém a depressão em Michigan e New York\n",
    "6. Quais as localidade mais afetadas, por um determinado Tempestade. Exemplo: A Carrie ocorreu com maior frequência em New York e Florida.\n",
    "7. Ano que teve mais tempestades.\n"
   ],
   "metadata": {
    "collapsed": false,
    "pycharm": {
     "name": "#%% md\n"
    },
    "id": "oM3S5gX_GbxE"
   }
  },
  {
   "cell_type": "markdown",
   "source": [
    "## Determinar categorias por tipo de tempestade\n",
    "\n",
    "> Como podemos determinar as categorias pelos tipos de tempestades.\n"
   ],
   "metadata": {
    "collapsed": false,
    "pycharm": {
     "name": "#%% md\n"
    },
    "id": "iqujfsTGGbxG"
   }
  },
  {
   "cell_type": "markdown",
   "source": [
    " ## Importando todas as biblioteca necessárias\n"
   ],
   "metadata": {
    "collapsed": false,
    "id": "urQt3cw_GbxH"
   }
  },
  {
   "cell_type": "code",
   "execution_count": 66,
   "outputs": [],
   "source": [
    "import pandas as pd\n",
    "import matplotlib.pyplot as plt\n",
    "import seaborn as sns\n",
    "from datetime import datetime\n",
    "\n",
    "# !pip install geopandas\n",
    "# Estudar bibliotecas\n",
    "# FOLIUM => https://jacobtadesse.com/2019/09/28/visualizing-pandas-dataframe-lat-long-with-folium-maps/\n",
    "# GEOPLOT => https://medium.com/geekculture/geospatial-visualization-with-geoplot-in-python-40b3de35ce0d\n",
    "from async_generator._tests.conftest import mock_sleep"
   ],
   "metadata": {
    "pycharm": {
     "name": "#%%\n"
    },
    "id": "Y4GwET7SGbxI"
   }
  },
  {
   "cell_type": "markdown",
   "source": [],
   "metadata": {
    "collapsed": false,
    "pycharm": {
     "name": "#%% md\n"
    },
    "id": "2M_PkJOlGbxK"
   }
  },
  {
   "cell_type": "markdown",
   "source": [
    "### Carregando os Datasets\n",
    "\n",
    "> Iremos juntar todos os dados em apenas um único DataFrame\n",
    "    > O arquivo storms.csv contém tempestades da época de 1950 aos dias atuais\n",
    "    > Já storms_updated.csv contém dados de 1852 a 1950\n",
    "Quando já finalizamos a junção dos dados, iremos realizar um sort dos valores por ano, mês e dia"
   ],
   "metadata": {
    "collapsed": false,
    "pycharm": {
     "name": "#%% md\n"
    },
    "id": "OxK2OBWeGbxK"
   }
  },
  {
   "cell_type": "code",
   "execution_count": 67,
   "outputs": [
    {
     "data": {
      "text/plain": "           name  year  month  day  hour   lat  long          status  category  \\\n0      AL011852  1852      8   26     6  30.2 -88.6       hurricane         3   \n1      AL031853  1853      9    3    12  19.7 -56.2       hurricane         4   \n2      AL031854  1854      9    7    12  28.0 -78.6       hurricane         3   \n3      AL031854  1854      9    8    18  31.6 -81.1       hurricane         3   \n4      AL031854  1854      9    8    20  31.7 -81.1       hurricane         3   \n...         ...   ...    ...  ...   ...   ...   ...             ...       ...   \n30011     Wanda  2021     11    6    18  37.1 -38.0  tropical storm         0   \n30012     Wanda  2021     11    7     0  37.4 -37.4  tropical storm         0   \n30013     Wanda  2021     11    7     6  38.1 -36.4  tropical storm         0   \n30014     Wanda  2021     11    7     0  37.4 -37.4  tropical storm         0   \n30015     Wanda  2021     11    7     6  38.1 -36.4  tropical storm         0   \n\n       wind  pressure  tropicalstorm_force_diameter  hurricane_force_diameter  \n0       100       961                           NaN                       NaN  \n1       130       924                           NaN                       NaN  \n2       110       938                           NaN                       NaN  \n3       100       950                           NaN                       NaN  \n4       100       950                           NaN                       NaN  \n...     ...       ...                           ...                       ...  \n30011    35      1002                         100.0                       0.0  \n30012    35      1003                          60.0                       0.0  \n30013    35      1004                          60.0                       0.0  \n30014    35      1003                          60.0                       0.0  \n30015    35      1004                          60.0                       0.0  \n\n[30016 rows x 13 columns]",
      "text/html": "<div>\n<style scoped>\n    .dataframe tbody tr th:only-of-type {\n        vertical-align: middle;\n    }\n\n    .dataframe tbody tr th {\n        vertical-align: top;\n    }\n\n    .dataframe thead th {\n        text-align: right;\n    }\n</style>\n<table border=\"1\" class=\"dataframe\">\n  <thead>\n    <tr style=\"text-align: right;\">\n      <th></th>\n      <th>name</th>\n      <th>year</th>\n      <th>month</th>\n      <th>day</th>\n      <th>hour</th>\n      <th>lat</th>\n      <th>long</th>\n      <th>status</th>\n      <th>category</th>\n      <th>wind</th>\n      <th>pressure</th>\n      <th>tropicalstorm_force_diameter</th>\n      <th>hurricane_force_diameter</th>\n    </tr>\n  </thead>\n  <tbody>\n    <tr>\n      <th>0</th>\n      <td>AL011852</td>\n      <td>1852</td>\n      <td>8</td>\n      <td>26</td>\n      <td>6</td>\n      <td>30.2</td>\n      <td>-88.6</td>\n      <td>hurricane</td>\n      <td>3</td>\n      <td>100</td>\n      <td>961</td>\n      <td>NaN</td>\n      <td>NaN</td>\n    </tr>\n    <tr>\n      <th>1</th>\n      <td>AL031853</td>\n      <td>1853</td>\n      <td>9</td>\n      <td>3</td>\n      <td>12</td>\n      <td>19.7</td>\n      <td>-56.2</td>\n      <td>hurricane</td>\n      <td>4</td>\n      <td>130</td>\n      <td>924</td>\n      <td>NaN</td>\n      <td>NaN</td>\n    </tr>\n    <tr>\n      <th>2</th>\n      <td>AL031854</td>\n      <td>1854</td>\n      <td>9</td>\n      <td>7</td>\n      <td>12</td>\n      <td>28.0</td>\n      <td>-78.6</td>\n      <td>hurricane</td>\n      <td>3</td>\n      <td>110</td>\n      <td>938</td>\n      <td>NaN</td>\n      <td>NaN</td>\n    </tr>\n    <tr>\n      <th>3</th>\n      <td>AL031854</td>\n      <td>1854</td>\n      <td>9</td>\n      <td>8</td>\n      <td>18</td>\n      <td>31.6</td>\n      <td>-81.1</td>\n      <td>hurricane</td>\n      <td>3</td>\n      <td>100</td>\n      <td>950</td>\n      <td>NaN</td>\n      <td>NaN</td>\n    </tr>\n    <tr>\n      <th>4</th>\n      <td>AL031854</td>\n      <td>1854</td>\n      <td>9</td>\n      <td>8</td>\n      <td>20</td>\n      <td>31.7</td>\n      <td>-81.1</td>\n      <td>hurricane</td>\n      <td>3</td>\n      <td>100</td>\n      <td>950</td>\n      <td>NaN</td>\n      <td>NaN</td>\n    </tr>\n    <tr>\n      <th>...</th>\n      <td>...</td>\n      <td>...</td>\n      <td>...</td>\n      <td>...</td>\n      <td>...</td>\n      <td>...</td>\n      <td>...</td>\n      <td>...</td>\n      <td>...</td>\n      <td>...</td>\n      <td>...</td>\n      <td>...</td>\n      <td>...</td>\n    </tr>\n    <tr>\n      <th>30011</th>\n      <td>Wanda</td>\n      <td>2021</td>\n      <td>11</td>\n      <td>6</td>\n      <td>18</td>\n      <td>37.1</td>\n      <td>-38.0</td>\n      <td>tropical storm</td>\n      <td>0</td>\n      <td>35</td>\n      <td>1002</td>\n      <td>100.0</td>\n      <td>0.0</td>\n    </tr>\n    <tr>\n      <th>30012</th>\n      <td>Wanda</td>\n      <td>2021</td>\n      <td>11</td>\n      <td>7</td>\n      <td>0</td>\n      <td>37.4</td>\n      <td>-37.4</td>\n      <td>tropical storm</td>\n      <td>0</td>\n      <td>35</td>\n      <td>1003</td>\n      <td>60.0</td>\n      <td>0.0</td>\n    </tr>\n    <tr>\n      <th>30013</th>\n      <td>Wanda</td>\n      <td>2021</td>\n      <td>11</td>\n      <td>7</td>\n      <td>6</td>\n      <td>38.1</td>\n      <td>-36.4</td>\n      <td>tropical storm</td>\n      <td>0</td>\n      <td>35</td>\n      <td>1004</td>\n      <td>60.0</td>\n      <td>0.0</td>\n    </tr>\n    <tr>\n      <th>30014</th>\n      <td>Wanda</td>\n      <td>2021</td>\n      <td>11</td>\n      <td>7</td>\n      <td>0</td>\n      <td>37.4</td>\n      <td>-37.4</td>\n      <td>tropical storm</td>\n      <td>0</td>\n      <td>35</td>\n      <td>1003</td>\n      <td>60.0</td>\n      <td>0.0</td>\n    </tr>\n    <tr>\n      <th>30015</th>\n      <td>Wanda</td>\n      <td>2021</td>\n      <td>11</td>\n      <td>7</td>\n      <td>6</td>\n      <td>38.1</td>\n      <td>-36.4</td>\n      <td>tropical storm</td>\n      <td>0</td>\n      <td>35</td>\n      <td>1004</td>\n      <td>60.0</td>\n      <td>0.0</td>\n    </tr>\n  </tbody>\n</table>\n<p>30016 rows × 13 columns</p>\n</div>"
     },
     "execution_count": 67,
     "metadata": {},
     "output_type": "execute_result"
    }
   ],
   "source": [
    "df1 = pd.read_csv('https://raw.githubusercontent.com/Jeferson-Peter/DataScience-Storm-Analytics/master/storms.csv')\n",
    "df2 = pd.read_csv('https://raw.githubusercontent.com/Jeferson-Peter/DataScience-Storm-Analytics/master/storms_updated.csv')\n",
    "df = pd.concat([df1, df2])\\\n",
    "        .sort_values(by=['year', 'month', 'day'], ascending=[True, True, True])\\\n",
    "        .reset_index(drop=True)\n",
    "df"
   ],
   "metadata": {
    "pycharm": {
     "name": "#%%\n"
    },
    "id": "kPfaHSXAGbxL",
    "outputId": "4db069c0-728c-4328-8da9-19b18aebbb8d",
    "colab": {
     "base_uri": "https://localhost:8080/",
     "height": 424
    }
   }
  },
  {
   "cell_type": "code",
   "execution_count": 68,
   "outputs": [],
   "source": [
    "df = df.drop(columns=['hour'])"
   ],
   "metadata": {
    "pycharm": {
     "name": "#%%\n"
    },
    "id": "PBAWyYLBGbxN"
   }
  },
  {
   "cell_type": "markdown",
   "source": [
    "# Tratamento de dados\n",
    ">O tratamento de dados é algo muito importante, no qual analisamos o nosso dataset por completo, para verificar, se precisaremos realizar tratamentos, como tipo das colunas, valores nulos.\n"
   ],
   "metadata": {
    "collapsed": false,
    "pycharm": {
     "name": "#%% md\n"
    },
    "id": "jnORlYK4GbxO"
   }
  },
  {
   "cell_type": "markdown",
   "source": [
    "Analisaremos a integridade dos dados, ou seja, inicialmente verificaremos a quantidade de dados nulos."
   ],
   "metadata": {
    "collapsed": false,
    "id": "JQE3Tl8BGbxP"
   }
  },
  {
   "cell_type": "code",
   "execution_count": 69,
   "outputs": [
    {
     "data": {
      "text/plain": "name                                0\nyear                                0\nmonth                               0\nday                                 0\nlat                                 0\nlong                                0\nstatus                              0\ncategory                            0\nwind                                0\npressure                            0\ntropicalstorm_force_diameter    17551\nhurricane_force_diameter        17551\ndtype: int64"
     },
     "execution_count": 69,
     "metadata": {},
     "output_type": "execute_result"
    }
   ],
   "source": [
    "df.isna().sum()"
   ],
   "metadata": {
    "pycharm": {
     "name": "#%%\n"
    },
    "id": "snPjkFs6GbxP",
    "outputId": "3051af36-21ff-4efe-e111-70002c8e82eb",
    "colab": {
     "base_uri": "https://localhost:8080/"
    }
   }
  },
  {
   "cell_type": "markdown",
   "source": [
    "Como podemos perceber no código acima `df.isna().sum()`, nos relata a quantidade de dados nulos em cada coluna. Para uma melhor visualização dos dados nulos iremos separalos em outro dataframe"
   ],
   "metadata": {
    "collapsed": false,
    "pycharm": {
     "name": "#%% md\n"
    },
    "id": "MaYSvZXSGbxQ"
   }
  },
  {
   "cell_type": "code",
   "execution_count": 70,
   "outputs": [
    {
     "data": {
      "text/plain": "           name  year  month  day   lat  long          status  category  wind  \\\n0      AL011852  1852      8   26  30.2 -88.6       hurricane         3   100   \n1      AL031853  1853      9    3  19.7 -56.2       hurricane         4   130   \n2      AL031854  1854      9    7  28.0 -78.6       hurricane         3   110   \n3      AL031854  1854      9    8  31.6 -81.1       hurricane         3   100   \n4      AL031854  1854      9    8  31.7 -81.1       hurricane         3   100   \n...         ...   ...    ...  ...   ...   ...             ...       ...   ...   \n22452    Harvey  2011      8   20  17.0 -88.3  tropical storm         0    55   \n22466     Irene  2011      8   21  17.8 -64.6  tropical storm         0    60   \n22476     Irene  2011      8   22  18.1 -65.8  tropical storm         0    60   \n22487     Irene  2011      8   24  22.4 -74.0       hurricane         3   100   \n22495     Irene  2011      8   25  24.7 -76.2       hurricane         2    90   \n\n       pressure  tropicalstorm_force_diameter  hurricane_force_diameter  \n0           961                           NaN                       NaN  \n1           924                           NaN                       NaN  \n2           938                           NaN                       NaN  \n3           950                           NaN                       NaN  \n4           950                           NaN                       NaN  \n...         ...                           ...                       ...  \n22452       995                           NaN                       NaN  \n22466       993                           NaN                       NaN  \n22476       990                           NaN                       NaN  \n22487       955                           NaN                       NaN  \n22495       950                           NaN                       NaN  \n\n[17551 rows x 12 columns]",
      "text/html": "<div>\n<style scoped>\n    .dataframe tbody tr th:only-of-type {\n        vertical-align: middle;\n    }\n\n    .dataframe tbody tr th {\n        vertical-align: top;\n    }\n\n    .dataframe thead th {\n        text-align: right;\n    }\n</style>\n<table border=\"1\" class=\"dataframe\">\n  <thead>\n    <tr style=\"text-align: right;\">\n      <th></th>\n      <th>name</th>\n      <th>year</th>\n      <th>month</th>\n      <th>day</th>\n      <th>lat</th>\n      <th>long</th>\n      <th>status</th>\n      <th>category</th>\n      <th>wind</th>\n      <th>pressure</th>\n      <th>tropicalstorm_force_diameter</th>\n      <th>hurricane_force_diameter</th>\n    </tr>\n  </thead>\n  <tbody>\n    <tr>\n      <th>0</th>\n      <td>AL011852</td>\n      <td>1852</td>\n      <td>8</td>\n      <td>26</td>\n      <td>30.2</td>\n      <td>-88.6</td>\n      <td>hurricane</td>\n      <td>3</td>\n      <td>100</td>\n      <td>961</td>\n      <td>NaN</td>\n      <td>NaN</td>\n    </tr>\n    <tr>\n      <th>1</th>\n      <td>AL031853</td>\n      <td>1853</td>\n      <td>9</td>\n      <td>3</td>\n      <td>19.7</td>\n      <td>-56.2</td>\n      <td>hurricane</td>\n      <td>4</td>\n      <td>130</td>\n      <td>924</td>\n      <td>NaN</td>\n      <td>NaN</td>\n    </tr>\n    <tr>\n      <th>2</th>\n      <td>AL031854</td>\n      <td>1854</td>\n      <td>9</td>\n      <td>7</td>\n      <td>28.0</td>\n      <td>-78.6</td>\n      <td>hurricane</td>\n      <td>3</td>\n      <td>110</td>\n      <td>938</td>\n      <td>NaN</td>\n      <td>NaN</td>\n    </tr>\n    <tr>\n      <th>3</th>\n      <td>AL031854</td>\n      <td>1854</td>\n      <td>9</td>\n      <td>8</td>\n      <td>31.6</td>\n      <td>-81.1</td>\n      <td>hurricane</td>\n      <td>3</td>\n      <td>100</td>\n      <td>950</td>\n      <td>NaN</td>\n      <td>NaN</td>\n    </tr>\n    <tr>\n      <th>4</th>\n      <td>AL031854</td>\n      <td>1854</td>\n      <td>9</td>\n      <td>8</td>\n      <td>31.7</td>\n      <td>-81.1</td>\n      <td>hurricane</td>\n      <td>3</td>\n      <td>100</td>\n      <td>950</td>\n      <td>NaN</td>\n      <td>NaN</td>\n    </tr>\n    <tr>\n      <th>...</th>\n      <td>...</td>\n      <td>...</td>\n      <td>...</td>\n      <td>...</td>\n      <td>...</td>\n      <td>...</td>\n      <td>...</td>\n      <td>...</td>\n      <td>...</td>\n      <td>...</td>\n      <td>...</td>\n      <td>...</td>\n    </tr>\n    <tr>\n      <th>22452</th>\n      <td>Harvey</td>\n      <td>2011</td>\n      <td>8</td>\n      <td>20</td>\n      <td>17.0</td>\n      <td>-88.3</td>\n      <td>tropical storm</td>\n      <td>0</td>\n      <td>55</td>\n      <td>995</td>\n      <td>NaN</td>\n      <td>NaN</td>\n    </tr>\n    <tr>\n      <th>22466</th>\n      <td>Irene</td>\n      <td>2011</td>\n      <td>8</td>\n      <td>21</td>\n      <td>17.8</td>\n      <td>-64.6</td>\n      <td>tropical storm</td>\n      <td>0</td>\n      <td>60</td>\n      <td>993</td>\n      <td>NaN</td>\n      <td>NaN</td>\n    </tr>\n    <tr>\n      <th>22476</th>\n      <td>Irene</td>\n      <td>2011</td>\n      <td>8</td>\n      <td>22</td>\n      <td>18.1</td>\n      <td>-65.8</td>\n      <td>tropical storm</td>\n      <td>0</td>\n      <td>60</td>\n      <td>990</td>\n      <td>NaN</td>\n      <td>NaN</td>\n    </tr>\n    <tr>\n      <th>22487</th>\n      <td>Irene</td>\n      <td>2011</td>\n      <td>8</td>\n      <td>24</td>\n      <td>22.4</td>\n      <td>-74.0</td>\n      <td>hurricane</td>\n      <td>3</td>\n      <td>100</td>\n      <td>955</td>\n      <td>NaN</td>\n      <td>NaN</td>\n    </tr>\n    <tr>\n      <th>22495</th>\n      <td>Irene</td>\n      <td>2011</td>\n      <td>8</td>\n      <td>25</td>\n      <td>24.7</td>\n      <td>-76.2</td>\n      <td>hurricane</td>\n      <td>2</td>\n      <td>90</td>\n      <td>950</td>\n      <td>NaN</td>\n      <td>NaN</td>\n    </tr>\n  </tbody>\n</table>\n<p>17551 rows × 12 columns</p>\n</div>"
     },
     "execution_count": 70,
     "metadata": {},
     "output_type": "execute_result"
    }
   ],
   "source": [
    "# Filtrando apenas as colunas com valores maiores que 0.\n",
    "# TODO: Criar texto explicando o por que da analise sobre estas colunas e se há necessidade de tratar.\n",
    "index_1 = list(df.loc[pd.isna(df.tropicalstorm_force_diameter), :].index)\n",
    "index_2 = list(df.loc[pd.isna(df.hurricane_force_diameter), :].index)\n",
    "all_nan_ind = list(set(index_1 + index_2))\n",
    "len(all_nan_ind)\n",
    "# half_empty_columns_df\n",
    "half_empty_columns_df = df.filter(items = all_nan_ind, axis=0)\n",
    "half_empty_columns_df"
   ],
   "metadata": {
    "pycharm": {
     "name": "#%%\n"
    },
    "id": "U6ZV58b6GbxQ",
    "outputId": "bd72c07a-e741-427e-96e9-8f8f4c5475ae",
    "colab": {
     "base_uri": "https://localhost:8080/",
     "height": 424
    }
   }
  },
  {
   "cell_type": "markdown",
   "source": [
    "### Quais os tipos de dados das colunas?"
   ],
   "metadata": {
    "collapsed": false,
    "pycharm": {
     "name": "#%% md\n"
    },
    "id": "_gGHsMnWGbxR"
   }
  },
  {
   "cell_type": "code",
   "execution_count": 71,
   "outputs": [
    {
     "data": {
      "text/plain": "name                             object\nyear                              int64\nmonth                             int64\nday                               int64\nlat                             float64\nlong                            float64\nstatus                           object\ncategory                          int64\nwind                              int64\npressure                          int64\ntropicalstorm_force_diameter    float64\nhurricane_force_diameter        float64\ndtype: object"
     },
     "execution_count": 71,
     "metadata": {},
     "output_type": "execute_result"
    }
   ],
   "source": [
    "df.dtypes"
   ],
   "metadata": {
    "pycharm": {
     "name": "#%%\n"
    },
    "id": "nXf0eJv3GbxR",
    "outputId": "13cc6b68-c7ba-4cb5-dcac-3d13586bc7f1",
    "colab": {
     "base_uri": "https://localhost:8080/"
    }
   }
  },
  {
   "cell_type": "markdown",
   "source": [
    "Todos os tipos dados estão corretos para a nossa analise, logo não precisaremos realizar nenhuma conversão. Vamos adicionar uma nova coluna chamada **date** para facilitar a nossa busca por datas."
   ],
   "metadata": {
    "collapsed": false,
    "pycharm": {
     "name": "#%% md\n"
    },
    "id": "_UJAEJv9GbxS"
   }
  },
  {
   "cell_type": "code",
   "execution_count": 72,
   "outputs": [
    {
     "data": {
      "text/plain": "0       1852-08-26\n1       1853-09-03\n2       1854-09-07\n3       1854-09-08\n4       1854-09-08\n           ...    \n30011   2021-11-06\n30012   2021-11-07\n30013   2021-11-07\n30014   2021-11-07\n30015   2021-11-07\nName: date, Length: 30016, dtype: datetime64[ns]"
     },
     "execution_count": 72,
     "metadata": {},
     "output_type": "execute_result"
    }
   ],
   "source": [
    "def format_date_field(row):\n",
    "        date=datetime(row['year'], row['month'], row['day'])\n",
    "        row['date'] = pd.to_datetime(date)\n",
    "        return row\n",
    "\n",
    "df = df.apply(lambda row: format_date_field(row), axis=1)\n",
    "df['date']"
   ],
   "metadata": {
    "pycharm": {
     "name": "#%%\n"
    },
    "id": "Po1WX1c4A6NA",
    "outputId": "00ac4f36-a5e2-406d-9b47-6a8d822b317e",
    "colab": {
     "base_uri": "https://localhost:8080/"
    }
   }
  },
  {
   "cell_type": "markdown",
   "source": [
    "Como podemos ver a coluna **date** é do tipo **datetime**, o que queriamos.\n",
    "Podemos agora excluir as colunas **year**, **month**, **day**"
   ],
   "metadata": {
    "collapsed": false,
    "pycharm": {
     "name": "#%% md\n"
    },
    "id": "7J-JUvU1A6NB"
   }
  },
  {
   "cell_type": "code",
   "execution_count": 73,
   "outputs": [
    {
     "data": {
      "text/plain": "       name   lat  long     status  category  wind  pressure  \\\n0  AL011852  30.2 -88.6  hurricane         3   100       961   \n1  AL031853  19.7 -56.2  hurricane         4   130       924   \n2  AL031854  28.0 -78.6  hurricane         3   110       938   \n3  AL031854  31.6 -81.1  hurricane         3   100       950   \n4  AL031854  31.7 -81.1  hurricane         3   100       950   \n\n   tropicalstorm_force_diameter  hurricane_force_diameter       date  \n0                           NaN                       NaN 1852-08-26  \n1                           NaN                       NaN 1853-09-03  \n2                           NaN                       NaN 1854-09-07  \n3                           NaN                       NaN 1854-09-08  \n4                           NaN                       NaN 1854-09-08  ",
      "text/html": "<div>\n<style scoped>\n    .dataframe tbody tr th:only-of-type {\n        vertical-align: middle;\n    }\n\n    .dataframe tbody tr th {\n        vertical-align: top;\n    }\n\n    .dataframe thead th {\n        text-align: right;\n    }\n</style>\n<table border=\"1\" class=\"dataframe\">\n  <thead>\n    <tr style=\"text-align: right;\">\n      <th></th>\n      <th>name</th>\n      <th>lat</th>\n      <th>long</th>\n      <th>status</th>\n      <th>category</th>\n      <th>wind</th>\n      <th>pressure</th>\n      <th>tropicalstorm_force_diameter</th>\n      <th>hurricane_force_diameter</th>\n      <th>date</th>\n    </tr>\n  </thead>\n  <tbody>\n    <tr>\n      <th>0</th>\n      <td>AL011852</td>\n      <td>30.2</td>\n      <td>-88.6</td>\n      <td>hurricane</td>\n      <td>3</td>\n      <td>100</td>\n      <td>961</td>\n      <td>NaN</td>\n      <td>NaN</td>\n      <td>1852-08-26</td>\n    </tr>\n    <tr>\n      <th>1</th>\n      <td>AL031853</td>\n      <td>19.7</td>\n      <td>-56.2</td>\n      <td>hurricane</td>\n      <td>4</td>\n      <td>130</td>\n      <td>924</td>\n      <td>NaN</td>\n      <td>NaN</td>\n      <td>1853-09-03</td>\n    </tr>\n    <tr>\n      <th>2</th>\n      <td>AL031854</td>\n      <td>28.0</td>\n      <td>-78.6</td>\n      <td>hurricane</td>\n      <td>3</td>\n      <td>110</td>\n      <td>938</td>\n      <td>NaN</td>\n      <td>NaN</td>\n      <td>1854-09-07</td>\n    </tr>\n    <tr>\n      <th>3</th>\n      <td>AL031854</td>\n      <td>31.6</td>\n      <td>-81.1</td>\n      <td>hurricane</td>\n      <td>3</td>\n      <td>100</td>\n      <td>950</td>\n      <td>NaN</td>\n      <td>NaN</td>\n      <td>1854-09-08</td>\n    </tr>\n    <tr>\n      <th>4</th>\n      <td>AL031854</td>\n      <td>31.7</td>\n      <td>-81.1</td>\n      <td>hurricane</td>\n      <td>3</td>\n      <td>100</td>\n      <td>950</td>\n      <td>NaN</td>\n      <td>NaN</td>\n      <td>1854-09-08</td>\n    </tr>\n  </tbody>\n</table>\n</div>"
     },
     "execution_count": 73,
     "metadata": {},
     "output_type": "execute_result"
    }
   ],
   "source": [
    "df[['date', 'year', 'month', 'day']].sample(2)\n",
    "\n",
    "df = df.drop(columns=['year', 'month', 'day'])\n",
    "df.head()"
   ],
   "metadata": {
    "pycharm": {
     "name": "#%%\n"
    },
    "id": "GST1fd_5A6NB",
    "outputId": "7f8e883c-42b9-4b2a-e1b4-6824f80cd176",
    "colab": {
     "base_uri": "https://localhost:8080/",
     "height": 112
    }
   }
  },
  {
   "cell_type": "markdown",
   "source": [
    "Iremos converter a coluna **wind** para km/h, pois está como **knots**"
   ],
   "metadata": {
    "collapsed": false,
    "pycharm": {
     "name": "#%% md\n"
    },
    "id": "s6oOVMk4A6NB"
   }
  },
  {
   "cell_type": "code",
   "execution_count": 74,
   "outputs": [
    {
     "data": {
      "text/plain": "   wind_kn  wind_kmh\n0      100    185.20\n1      130    240.76\n2      110    203.72\n3      100    185.20\n4      100    185.20",
      "text/html": "<div>\n<style scoped>\n    .dataframe tbody tr th:only-of-type {\n        vertical-align: middle;\n    }\n\n    .dataframe tbody tr th {\n        vertical-align: top;\n    }\n\n    .dataframe thead th {\n        text-align: right;\n    }\n</style>\n<table border=\"1\" class=\"dataframe\">\n  <thead>\n    <tr style=\"text-align: right;\">\n      <th></th>\n      <th>wind_kn</th>\n      <th>wind_kmh</th>\n    </tr>\n  </thead>\n  <tbody>\n    <tr>\n      <th>0</th>\n      <td>100</td>\n      <td>185.20</td>\n    </tr>\n    <tr>\n      <th>1</th>\n      <td>130</td>\n      <td>240.76</td>\n    </tr>\n    <tr>\n      <th>2</th>\n      <td>110</td>\n      <td>203.72</td>\n    </tr>\n    <tr>\n      <th>3</th>\n      <td>100</td>\n      <td>185.20</td>\n    </tr>\n    <tr>\n      <th>4</th>\n      <td>100</td>\n      <td>185.20</td>\n    </tr>\n  </tbody>\n</table>\n</div>"
     },
     "execution_count": 74,
     "metadata": {},
     "output_type": "execute_result"
    }
   ],
   "source": [
    "df['wind_kmh'] = df['wind'].apply(lambda x: x*1.852)\n",
    "df.rename(columns={'wind':'wind_kn'}, inplace=True)\n",
    "df[['wind_kn','wind_kmh']].head()"
   ],
   "metadata": {
    "collapsed": false,
    "pycharm": {
     "name": "#%%\n"
    }
   }
  },
  {
   "cell_type": "markdown",
   "source": [
    "# Analise Exploratória\n",
    "\n",
    "> Inicialmente iremos verificar a maior ocorrência de tempestades.\n",
    "> **OBS:** É importante ressaltar que não pegaremos todas as tempestades"
   ],
   "metadata": {
    "collapsed": false,
    "pycharm": {
     "name": "#%% md\n"
    },
    "id": "p0hl_VcPGbxS"
   }
  },
  {
   "cell_type": "code",
   "execution_count": 75,
   "outputs": [
    {
     "name": "stdout",
     "output_type": "stream",
     "text": [
      "O total de tempestades registradas foram 651\n"
     ]
    }
   ],
   "source": [
    "print(f\"O total de tempestades registradas foram {len(df['name'].unique().tolist())}\")"
   ],
   "metadata": {
    "pycharm": {
     "name": "#%%\n"
    },
    "id": "2W3yDmoWA6NC"
   }
  },
  {
   "cell_type": "markdown",
   "source": [
    "Como podemos ver, o total de tempestades registradas é de 651, mas nem todas elas possuem um nome de fato, umas só possuem um código. Vamos demonstrar:"
   ],
   "metadata": {
    "collapsed": false,
    "pycharm": {
     "name": "#%% md\n"
    },
    "id": "H4sPnsikA6NC"
   }
  },
  {
   "cell_type": "code",
   "execution_count": 76,
   "outputs": [
    {
     "data": {
      "text/plain": "602    Able\n603    Able\n604    Able\n605    Able\n606    Able\nName: name, dtype: object"
     },
     "metadata": {},
     "output_type": "display_data"
    },
    {
     "data": {
      "text/plain": "0    AL011852\n1    AL031853\n2    AL031854\n3    AL031854\n4    AL031854\nName: name, dtype: object"
     },
     "metadata": {},
     "output_type": "display_data"
    }
   ],
   "source": [
    "# Filtrando as tempestades (cujo nem todos os caracteres estão no alfabeto)\n",
    "df_not_real_names = df[~df['name'].str.isalpha()]\n",
    "\n",
    "# Filtrando as tempestades (cujo todos os caracteres estão no alfabeto)\n",
    "df_real_names = df[df['name'].str.isalpha()]\n",
    "\n",
    "# Visualizando estas separações\n",
    "display(df_real_names['name'][:5],\n",
    "        df_not_real_names['name'][:5])"
   ],
   "metadata": {
    "pycharm": {
     "name": "#%%\n"
    },
    "id": "S9Kqwm1OA6NC",
    "outputId": "57b1f7b8-eeac-4269-849e-90cd05e5e5c1",
    "colab": {
     "base_uri": "https://localhost:8080/"
    }
   }
  },
  {
   "cell_type": "code",
   "source": [
    "df_real_names.sample(20)"
   ],
   "metadata": {
    "collapsed": false,
    "pycharm": {
     "name": "#%%\n"
    },
    "id": "ZLhLrgeZA6NC"
   },
   "execution_count": 77,
   "outputs": [
    {
     "data": {
      "text/plain": "           name   lat  long               status  category  wind_kn  pressure  \\\n19719   Ernesto  27.0 -80.9       tropical storm         0       35      1001   \n5812   Hortense  29.3 -60.6       tropical storm         0       60       997   \n8623    Edouard  37.8 -30.8       tropical storm         0       35      1004   \n20770     Hanna  23.2 -72.0       tropical storm         0       50       996   \n19048      Rita  24.3 -86.2            hurricane         5      145       920   \n22265     Tomas  13.5 -70.3       tropical storm         0       40      1005   \n19335     Gamma  14.1 -64.2  tropical depression        -1       30      1005   \n22721     Maria  19.6 -64.7       tropical storm         0       50      1005   \n29163       Eta  30.9 -81.3       tropical storm         0       35      1003   \n890       Edith  35.0 -59.4            hurricane         2       85       967   \n11567      Noel  14.0 -42.0       tropical storm         0       50       998   \n15426     Felix  14.8 -31.0  tropical depression        -1       30      1007   \n23439    Leslie  14.7 -45.8       tropical storm         0       45      1002   \n15695      Iris  16.9 -75.3            hurricane         1       75       989   \n20322      Noel  17.1 -72.1       tropical storm         0       50       999   \n24113      Erin  19.6 -35.5       tropical storm         0       35      1007   \n2368       Inga  29.1 -65.1            hurricane         2       90       969   \n25248      Earl  16.3 -84.3       tropical storm         0       60       989   \n2311      Gerda  27.6 -80.7  tropical depression        -1       25      1010   \n611       Baker  16.9 -60.6            hurricane         1       70       990   \n\n       tropicalstorm_force_diameter  hurricane_force_diameter       date  \\\n19719                          20.0                       0.0 2006-08-30   \n5812                            NaN                       NaN 1984-09-25   \n8623                            NaN                       NaN 1990-08-09   \n20770                         220.0                       0.0 2008-09-01   \n19048                         275.0                     100.0 2005-09-21   \n22265                         100.0                       0.0 2010-11-02   \n19335                           0.0                       0.0 2005-11-14   \n22721                         190.0                       0.0 2011-09-11   \n29163                         160.0                       0.0 2020-11-12   \n890                             NaN                       NaN 1955-08-30   \n11567                           NaN                       NaN 1995-09-28   \n15426                           NaN                       NaN 2001-09-08   \n23439                          70.0                       0.0 2012-08-31   \n15695                           NaN                       NaN 2001-10-07   \n20322                         165.0                       0.0 2007-10-29   \n24113                          60.0                       0.0 2013-08-17   \n2368                            NaN                       NaN 1969-10-04   \n25248                         130.0                       0.0 2016-08-03   \n2311                            NaN                       NaN 1969-09-07   \n611                             NaN                       NaN 1950-08-21   \n\n       wind_kmh  \n19719     64.82  \n5812     111.12  \n8623      64.82  \n20770     92.60  \n19048    268.54  \n22265     74.08  \n19335     55.56  \n22721     92.60  \n29163     64.82  \n890      157.42  \n11567     92.60  \n15426     55.56  \n23439     83.34  \n15695    138.90  \n20322     92.60  \n24113     64.82  \n2368     166.68  \n25248    111.12  \n2311      46.30  \n611      129.64  ",
      "text/html": "<div>\n<style scoped>\n    .dataframe tbody tr th:only-of-type {\n        vertical-align: middle;\n    }\n\n    .dataframe tbody tr th {\n        vertical-align: top;\n    }\n\n    .dataframe thead th {\n        text-align: right;\n    }\n</style>\n<table border=\"1\" class=\"dataframe\">\n  <thead>\n    <tr style=\"text-align: right;\">\n      <th></th>\n      <th>name</th>\n      <th>lat</th>\n      <th>long</th>\n      <th>status</th>\n      <th>category</th>\n      <th>wind_kn</th>\n      <th>pressure</th>\n      <th>tropicalstorm_force_diameter</th>\n      <th>hurricane_force_diameter</th>\n      <th>date</th>\n      <th>wind_kmh</th>\n    </tr>\n  </thead>\n  <tbody>\n    <tr>\n      <th>19719</th>\n      <td>Ernesto</td>\n      <td>27.0</td>\n      <td>-80.9</td>\n      <td>tropical storm</td>\n      <td>0</td>\n      <td>35</td>\n      <td>1001</td>\n      <td>20.0</td>\n      <td>0.0</td>\n      <td>2006-08-30</td>\n      <td>64.82</td>\n    </tr>\n    <tr>\n      <th>5812</th>\n      <td>Hortense</td>\n      <td>29.3</td>\n      <td>-60.6</td>\n      <td>tropical storm</td>\n      <td>0</td>\n      <td>60</td>\n      <td>997</td>\n      <td>NaN</td>\n      <td>NaN</td>\n      <td>1984-09-25</td>\n      <td>111.12</td>\n    </tr>\n    <tr>\n      <th>8623</th>\n      <td>Edouard</td>\n      <td>37.8</td>\n      <td>-30.8</td>\n      <td>tropical storm</td>\n      <td>0</td>\n      <td>35</td>\n      <td>1004</td>\n      <td>NaN</td>\n      <td>NaN</td>\n      <td>1990-08-09</td>\n      <td>64.82</td>\n    </tr>\n    <tr>\n      <th>20770</th>\n      <td>Hanna</td>\n      <td>23.2</td>\n      <td>-72.0</td>\n      <td>tropical storm</td>\n      <td>0</td>\n      <td>50</td>\n      <td>996</td>\n      <td>220.0</td>\n      <td>0.0</td>\n      <td>2008-09-01</td>\n      <td>92.60</td>\n    </tr>\n    <tr>\n      <th>19048</th>\n      <td>Rita</td>\n      <td>24.3</td>\n      <td>-86.2</td>\n      <td>hurricane</td>\n      <td>5</td>\n      <td>145</td>\n      <td>920</td>\n      <td>275.0</td>\n      <td>100.0</td>\n      <td>2005-09-21</td>\n      <td>268.54</td>\n    </tr>\n    <tr>\n      <th>22265</th>\n      <td>Tomas</td>\n      <td>13.5</td>\n      <td>-70.3</td>\n      <td>tropical storm</td>\n      <td>0</td>\n      <td>40</td>\n      <td>1005</td>\n      <td>100.0</td>\n      <td>0.0</td>\n      <td>2010-11-02</td>\n      <td>74.08</td>\n    </tr>\n    <tr>\n      <th>19335</th>\n      <td>Gamma</td>\n      <td>14.1</td>\n      <td>-64.2</td>\n      <td>tropical depression</td>\n      <td>-1</td>\n      <td>30</td>\n      <td>1005</td>\n      <td>0.0</td>\n      <td>0.0</td>\n      <td>2005-11-14</td>\n      <td>55.56</td>\n    </tr>\n    <tr>\n      <th>22721</th>\n      <td>Maria</td>\n      <td>19.6</td>\n      <td>-64.7</td>\n      <td>tropical storm</td>\n      <td>0</td>\n      <td>50</td>\n      <td>1005</td>\n      <td>190.0</td>\n      <td>0.0</td>\n      <td>2011-09-11</td>\n      <td>92.60</td>\n    </tr>\n    <tr>\n      <th>29163</th>\n      <td>Eta</td>\n      <td>30.9</td>\n      <td>-81.3</td>\n      <td>tropical storm</td>\n      <td>0</td>\n      <td>35</td>\n      <td>1003</td>\n      <td>160.0</td>\n      <td>0.0</td>\n      <td>2020-11-12</td>\n      <td>64.82</td>\n    </tr>\n    <tr>\n      <th>890</th>\n      <td>Edith</td>\n      <td>35.0</td>\n      <td>-59.4</td>\n      <td>hurricane</td>\n      <td>2</td>\n      <td>85</td>\n      <td>967</td>\n      <td>NaN</td>\n      <td>NaN</td>\n      <td>1955-08-30</td>\n      <td>157.42</td>\n    </tr>\n    <tr>\n      <th>11567</th>\n      <td>Noel</td>\n      <td>14.0</td>\n      <td>-42.0</td>\n      <td>tropical storm</td>\n      <td>0</td>\n      <td>50</td>\n      <td>998</td>\n      <td>NaN</td>\n      <td>NaN</td>\n      <td>1995-09-28</td>\n      <td>92.60</td>\n    </tr>\n    <tr>\n      <th>15426</th>\n      <td>Felix</td>\n      <td>14.8</td>\n      <td>-31.0</td>\n      <td>tropical depression</td>\n      <td>-1</td>\n      <td>30</td>\n      <td>1007</td>\n      <td>NaN</td>\n      <td>NaN</td>\n      <td>2001-09-08</td>\n      <td>55.56</td>\n    </tr>\n    <tr>\n      <th>23439</th>\n      <td>Leslie</td>\n      <td>14.7</td>\n      <td>-45.8</td>\n      <td>tropical storm</td>\n      <td>0</td>\n      <td>45</td>\n      <td>1002</td>\n      <td>70.0</td>\n      <td>0.0</td>\n      <td>2012-08-31</td>\n      <td>83.34</td>\n    </tr>\n    <tr>\n      <th>15695</th>\n      <td>Iris</td>\n      <td>16.9</td>\n      <td>-75.3</td>\n      <td>hurricane</td>\n      <td>1</td>\n      <td>75</td>\n      <td>989</td>\n      <td>NaN</td>\n      <td>NaN</td>\n      <td>2001-10-07</td>\n      <td>138.90</td>\n    </tr>\n    <tr>\n      <th>20322</th>\n      <td>Noel</td>\n      <td>17.1</td>\n      <td>-72.1</td>\n      <td>tropical storm</td>\n      <td>0</td>\n      <td>50</td>\n      <td>999</td>\n      <td>165.0</td>\n      <td>0.0</td>\n      <td>2007-10-29</td>\n      <td>92.60</td>\n    </tr>\n    <tr>\n      <th>24113</th>\n      <td>Erin</td>\n      <td>19.6</td>\n      <td>-35.5</td>\n      <td>tropical storm</td>\n      <td>0</td>\n      <td>35</td>\n      <td>1007</td>\n      <td>60.0</td>\n      <td>0.0</td>\n      <td>2013-08-17</td>\n      <td>64.82</td>\n    </tr>\n    <tr>\n      <th>2368</th>\n      <td>Inga</td>\n      <td>29.1</td>\n      <td>-65.1</td>\n      <td>hurricane</td>\n      <td>2</td>\n      <td>90</td>\n      <td>969</td>\n      <td>NaN</td>\n      <td>NaN</td>\n      <td>1969-10-04</td>\n      <td>166.68</td>\n    </tr>\n    <tr>\n      <th>25248</th>\n      <td>Earl</td>\n      <td>16.3</td>\n      <td>-84.3</td>\n      <td>tropical storm</td>\n      <td>0</td>\n      <td>60</td>\n      <td>989</td>\n      <td>130.0</td>\n      <td>0.0</td>\n      <td>2016-08-03</td>\n      <td>111.12</td>\n    </tr>\n    <tr>\n      <th>2311</th>\n      <td>Gerda</td>\n      <td>27.6</td>\n      <td>-80.7</td>\n      <td>tropical depression</td>\n      <td>-1</td>\n      <td>25</td>\n      <td>1010</td>\n      <td>NaN</td>\n      <td>NaN</td>\n      <td>1969-09-07</td>\n      <td>46.30</td>\n    </tr>\n    <tr>\n      <th>611</th>\n      <td>Baker</td>\n      <td>16.9</td>\n      <td>-60.6</td>\n      <td>hurricane</td>\n      <td>1</td>\n      <td>70</td>\n      <td>990</td>\n      <td>NaN</td>\n      <td>NaN</td>\n      <td>1950-08-21</td>\n      <td>129.64</td>\n    </tr>\n  </tbody>\n</table>\n</div>"
     },
     "execution_count": 77,
     "metadata": {},
     "output_type": "execute_result"
    }
   ]
  },
  {
   "cell_type": "markdown",
   "source": [
    "### 1. Visualizando as tempestades com maior ocorrência\n",
    "> Para visualizar as tempestades com maior ocorrência, iremos realizar outro filtro, baseado na contagem dos valores. E também voltado apenas nas tempestades com nomes reais"
   ],
   "metadata": {
    "pycharm": {
     "name": "#%% md\n"
    },
    "id": "uimRoHz2A6NC",
    "outputId": "28c50192-dce7-4d77-989d-462de2d1c6c7",
    "colab": {
     "base_uri": "https://localhost:8080/",
     "height": 225
    }
   }
  },
  {
   "cell_type": "code",
   "execution_count": 78,
   "outputs": [
    {
     "name": "stderr",
     "output_type": "stream",
     "text": [
      "C:\\Users\\jefer\\anaconda3\\lib\\site-packages\\seaborn\\_decorators.py:36: FutureWarning: Pass the following variable as a keyword arg: x. From version 0.12, the only valid positional argument will be `data`, and passing other arguments without an explicit keyword will result in an error or misinterpretation.\n",
      "  warnings.warn(\n"
     ]
    },
    {
     "data": {
      "text/plain": "<Figure size 1008x576 with 1 Axes>",
      "image/png": "[encoded data removed]"
     },
     "metadata": {
      "needs_background": "light"
     },
     "output_type": "display_data"
    }
   ],
   "source": [
    "# Filtering date based on \"name\" and count of each values\n",
    "most_frequent_storms = df_real_names[df_real_names['name'].isin(\n",
    "        df_real_names['name'].value_counts()[df_real_names['name'].value_counts()>250].index)]\n",
    "\n",
    "# Order by clause, to sort the graphic plot\n",
    "order_by_clause = most_frequent_storms['name'].value_counts().index\n",
    "\n",
    "fig, ax = plt.subplots(figsize=(14,8))\n",
    "sns.countplot(most_frequent_storms['name'], order=order_by_clause, ax=ax)\n",
    "for p in ax.patches:\n",
    "        ax.annotate('{}'.format(p.get_height()),\n",
    "                    (p.get_x()+0.25, p.get_height()+0.1),\n",
    "                    rotation=90,\n",
    "                    fontsize=14)\n",
    "plt.title(\"Ocorrência de Tempestades\", fontsize=16)\n",
    "plt.xlabel(\"Nome da Tempestade\", fontsize=14)\n",
    "plt.ylabel(\"Ocorrência\", fontsize=13)\n",
    "plt.xticks(rotation=90, fontsize=16)\n",
    "plt.show()"
   ],
   "metadata": {
    "pycharm": {
     "name": "#%%\n"
    },
    "id": "wW_mdlsMA6NC",
    "outputId": "e2d72391-a13d-4871-d43d-54ea3d4352e2",
    "colab": {
     "base_uri": "https://localhost:8080/",
     "height": 677
    }
   }
  },
  {
   "cell_type": "markdown",
   "source": [
    "**Com a plotagem do gráfico acima, podemos visualizar que as tempestades com maior ocorrência, foram:**\n",
    "\n",
    "1. Emily (434 ocorrências);\n",
    "2. Bonnie (418 ocorrências);\n",
    "3. Claudette (388 ocorrências);\n",
    "4. Alberto (368 ocorrências);\n",
    "5. Felix (356 ocorrências)."
   ],
   "metadata": {
    "collapsed": false,
    "pycharm": {
     "name": "#%% md\n"
    },
    "id": "NUB-gX53A6NC"
   }
  },
  {
   "cell_type": "markdown",
   "source": [
    "> Visualizando todos os tipos de status:\n"
   ],
   "metadata": {
    "pycharm": {
     "name": "#%% md\n"
    },
    "id": "_dHB1wqKA6NC"
   }
  },
  {
   "cell_type": "code",
   "source": [
    "df.status.unique()"
   ],
   "metadata": {
    "collapsed": false,
    "pycharm": {
     "name": "#%%\n"
    },
    "id": "APz0KZ-BA6NC"
   },
   "execution_count": 79,
   "outputs": [
    {
     "data": {
      "text/plain": "array(['hurricane', 'tropical storm', 'tropical depression'], dtype=object)"
     },
     "execution_count": 79,
     "metadata": {},
     "output_type": "execute_result"
    }
   ]
  },
  {
   "cell_type": "markdown",
   "source": [
    "## 2. Visualizando relação entre Status e Categoria"
   ],
   "metadata": {
    "collapsed": false,
    "pycharm": {
     "name": "#%% md\n"
    }
   }
  },
  {
   "cell_type": "code",
   "execution_count": 80,
   "outputs": [
    {
     "data": {
      "text/plain": "<Figure size 432x288 with 1 Axes>",
      "image/png": "[encoded data removed]"
     },
     "metadata": {
      "needs_background": "light"
     },
     "output_type": "display_data"
    }
   ],
   "source": [
    "sns.countplot(x='status', hue='category', data=most_frequent_storms)\n",
    "plt.title(\"Status X Categoria\", fontsize=16)\n",
    "# plt.xlabel(\"Nome da Tempestade\", fontsize=14)\n",
    "plt.ylabel(\"Ocorrência\", fontsize=13)\n",
    "plt.xticks(rotation=90, fontsize=16)\n",
    "plt.show()"
   ],
   "metadata": {
    "pycharm": {
     "name": "#%%\n"
    },
    "id": "CHs6I1dSGbxT",
    "outputId": "937a0ef5-9ffa-441e-c9cd-72dff6f591cf",
    "colab": {
     "base_uri": "https://localhost:8080/"
    }
   }
  },
  {
   "cell_type": "markdown",
   "source": [
    "    ## 3. Visualizando relação entre Wind Kn e Categoria"
   ],
   "metadata": {
    "collapsed": false,
    "pycharm": {
     "name": "#%% md\n"
    }
   }
  },
  {
   "cell_type": "code",
   "execution_count": 84,
   "outputs": [
    {
     "ename": "TypeError",
     "evalue": "<lambda>() got an unexpected keyword argument 'axis'",
     "output_type": "error",
     "traceback": [
      "\u001B[1;31m---------------------------------------------------------------------------\u001B[0m",
      "\u001B[1;31mTypeError\u001B[0m                                 Traceback (most recent call last)",
      "\u001B[1;32m<ipython-input-84-316f42aca2af>\u001B[0m in \u001B[0;36m<module>\u001B[1;34m\u001B[0m\n\u001B[0;32m     16\u001B[0m     \u001B[1;32mreturn\u001B[0m \u001B[0mrow\u001B[0m\u001B[1;33m\u001B[0m\u001B[1;33m\u001B[0m\u001B[0m\n\u001B[0;32m     17\u001B[0m \u001B[1;33m\u001B[0m\u001B[0m\n\u001B[1;32m---> 18\u001B[1;33m \u001B[0mmost_frequent_storms\u001B[0m \u001B[1;33m=\u001B[0m \u001B[0mmost_frequent_storms\u001B[0m\u001B[1;33m.\u001B[0m\u001B[0mapply\u001B[0m\u001B[1;33m(\u001B[0m\u001B[1;32mlambda\u001B[0m \u001B[0mx\u001B[0m\u001B[1;33m:\u001B[0m \u001B[0mcreate_wind_cat\u001B[0m\u001B[1;33m(\u001B[0m\u001B[0mx\u001B[0m\u001B[1;33m)\u001B[0m\u001B[1;33m,\u001B[0m \u001B[0maxis\u001B[0m\u001B[1;33m=\u001B[0m\u001B[1;36m1\u001B[0m\u001B[1;33m)\u001B[0m\u001B[1;33m\u001B[0m\u001B[1;33m\u001B[0m\u001B[0m\n\u001B[0m\u001B[0;32m     19\u001B[0m \u001B[0msns\u001B[0m\u001B[1;33m.\u001B[0m\u001B[0mcountplot\u001B[0m\u001B[1;33m(\u001B[0m\u001B[0mx\u001B[0m\u001B[1;33m=\u001B[0m\u001B[1;34m'wind_cat_num'\u001B[0m\u001B[1;33m,\u001B[0m \u001B[0mhue\u001B[0m\u001B[1;33m=\u001B[0m\u001B[1;34m'category'\u001B[0m\u001B[1;33m,\u001B[0m \u001B[0mdata\u001B[0m\u001B[1;33m=\u001B[0m\u001B[0mmost_frequent_storms\u001B[0m\u001B[1;33m)\u001B[0m\u001B[1;33m\u001B[0m\u001B[1;33m\u001B[0m\u001B[0m\n\u001B[0;32m     20\u001B[0m \u001B[0mplt\u001B[0m\u001B[1;33m.\u001B[0m\u001B[0mtitle\u001B[0m\u001B[1;33m(\u001B[0m\u001B[1;34m\"Wind Kn X Categoria\"\u001B[0m\u001B[1;33m)\u001B[0m\u001B[1;33m\u001B[0m\u001B[1;33m\u001B[0m\u001B[0m\n",
      "\u001B[1;32m~\\anaconda3\\lib\\site-packages\\pandas\\core\\series.py\u001B[0m in \u001B[0;36mapply\u001B[1;34m(self, func, convert_dtype, args, **kwds)\u001B[0m\n\u001B[0;32m   4136\u001B[0m             \u001B[1;32melse\u001B[0m\u001B[1;33m:\u001B[0m\u001B[1;33m\u001B[0m\u001B[1;33m\u001B[0m\u001B[0m\n\u001B[0;32m   4137\u001B[0m                 \u001B[0mvalues\u001B[0m \u001B[1;33m=\u001B[0m \u001B[0mself\u001B[0m\u001B[1;33m.\u001B[0m\u001B[0mastype\u001B[0m\u001B[1;33m(\u001B[0m\u001B[0mobject\u001B[0m\u001B[1;33m)\u001B[0m\u001B[1;33m.\u001B[0m\u001B[0m_values\u001B[0m\u001B[1;33m\u001B[0m\u001B[1;33m\u001B[0m\u001B[0m\n\u001B[1;32m-> 4138\u001B[1;33m                 \u001B[0mmapped\u001B[0m \u001B[1;33m=\u001B[0m \u001B[0mlib\u001B[0m\u001B[1;33m.\u001B[0m\u001B[0mmap_infer\u001B[0m\u001B[1;33m(\u001B[0m\u001B[0mvalues\u001B[0m\u001B[1;33m,\u001B[0m \u001B[0mf\u001B[0m\u001B[1;33m,\u001B[0m \u001B[0mconvert\u001B[0m\u001B[1;33m=\u001B[0m\u001B[0mconvert_dtype\u001B[0m\u001B[1;33m)\u001B[0m\u001B[1;33m\u001B[0m\u001B[1;33m\u001B[0m\u001B[0m\n\u001B[0m\u001B[0;32m   4139\u001B[0m \u001B[1;33m\u001B[0m\u001B[0m\n\u001B[0;32m   4140\u001B[0m         \u001B[1;32mif\u001B[0m \u001B[0mlen\u001B[0m\u001B[1;33m(\u001B[0m\u001B[0mmapped\u001B[0m\u001B[1;33m)\u001B[0m \u001B[1;32mand\u001B[0m \u001B[0misinstance\u001B[0m\u001B[1;33m(\u001B[0m\u001B[0mmapped\u001B[0m\u001B[1;33m[\u001B[0m\u001B[1;36m0\u001B[0m\u001B[1;33m]\u001B[0m\u001B[1;33m,\u001B[0m \u001B[0mSeries\u001B[0m\u001B[1;33m)\u001B[0m\u001B[1;33m:\u001B[0m\u001B[1;33m\u001B[0m\u001B[1;33m\u001B[0m\u001B[0m\n",
      "\u001B[1;32mpandas\\_libs\\lib.pyx\u001B[0m in \u001B[0;36mpandas._libs.lib.map_infer\u001B[1;34m()\u001B[0m\n",
      "\u001B[1;32m~\\anaconda3\\lib\\site-packages\\pandas\\core\\series.py\u001B[0m in \u001B[0;36mf\u001B[1;34m(x)\u001B[0m\n\u001B[0;32m   4121\u001B[0m \u001B[1;33m\u001B[0m\u001B[0m\n\u001B[0;32m   4122\u001B[0m             \u001B[1;32mdef\u001B[0m \u001B[0mf\u001B[0m\u001B[1;33m(\u001B[0m\u001B[0mx\u001B[0m\u001B[1;33m)\u001B[0m\u001B[1;33m:\u001B[0m\u001B[1;33m\u001B[0m\u001B[1;33m\u001B[0m\u001B[0m\n\u001B[1;32m-> 4123\u001B[1;33m                 \u001B[1;32mreturn\u001B[0m \u001B[0mfunc\u001B[0m\u001B[1;33m(\u001B[0m\u001B[0mx\u001B[0m\u001B[1;33m,\u001B[0m \u001B[1;33m*\u001B[0m\u001B[0margs\u001B[0m\u001B[1;33m,\u001B[0m \u001B[1;33m**\u001B[0m\u001B[0mkwds\u001B[0m\u001B[1;33m)\u001B[0m\u001B[1;33m\u001B[0m\u001B[1;33m\u001B[0m\u001B[0m\n\u001B[0m\u001B[0;32m   4124\u001B[0m \u001B[1;33m\u001B[0m\u001B[0m\n\u001B[0;32m   4125\u001B[0m         \u001B[1;32melse\u001B[0m\u001B[1;33m:\u001B[0m\u001B[1;33m\u001B[0m\u001B[1;33m\u001B[0m\u001B[0m\n",
      "\u001B[1;31mTypeError\u001B[0m: <lambda>() got an unexpected keyword argument 'axis'"
     ]
    }
   ],
   "source": [
    "def create_wind_cat(row):\n",
    "    if row['wind_kn'] <= 30:\n",
    "        row['wind_cat_num'] = 'Até 30kn'\n",
    "    elif row['wind_kn'] >= 30 and row['wind_kn'] <=60:\n",
    "        row['wind_cat_num'] = 'Até 60kn'\n",
    "    elif row['wind_kn'] >= 60 and row['wind_kn'] <=80:\n",
    "        row['wind_cat_num'] = 'Até 30kn'\n",
    "    elif row['wind_kn'] >= 80 and row['wind_kn'] <=95:\n",
    "        row['wind_cat_num'] = 'Até 95kn'\n",
    "    elif row['wind_kn'] >= 95 and row['wind_kn'] <=110:\n",
    "        row['wind_cat_num'] = 'Até 110kn'\n",
    "    elif row['wind_kn'] >= 110 and row['wind_kn'] <=135:\n",
    "        row['wind_cat_num'] = 'Até 135kn'\n",
    "    elif row['wind_kn'] >= 135:\n",
    "        row['wind_cat_num'] = 'Acima 135kn'\n",
    "    return row\n",
    "\n",
    "most_frequent_storms = most_frequent_storms.apply(lambda x: create_wind_cat(x), axis=1)\n",
    "sns.countplot(x='wind_cat_num', hue='category', data=most_frequent_storms)\n",
    "plt.title(\"Wind Kn X Categoria\")\n",
    "plt.ylabel('Ocorrência', fontsize=13)\n",
    "plt.xticks(rotation=90, fontsize=16)\n",
    "plt.show()"
   ],
   "metadata": {
    "collapsed": false,
    "pycharm": {
     "name": "#%%\n"
    }
   }
  },
  {
   "cell_type": "code",
   "execution_count": null,
   "outputs": [],
   "source": [
    "fig, ax = plt.subplots(figsize=(8,7))\n",
    "sns.violinplot(x=\"category\", y=\"wind_kn\",\n",
    "               data=most_frequent_storms,\n",
    "               scale=\"count\", ax=ax)"
   ],
   "metadata": {
    "collapsed": false,
    "pycharm": {
     "name": "#%%\n"
    }
   }
  },
  {
   "cell_type": "markdown",
   "source": [
    "##### Verificaremos o máximo valor em algumas colunas por curiosidade"
   ],
   "metadata": {
    "collapsed": false,
    "pycharm": {
     "name": "#%% md\n"
    }
   }
  },
  {
   "cell_type": "code",
   "source": [
    "df[df['wind_kmh'] == df['wind_kmh'].max()]\n",
    "#df.loc[df['wind_kmh'].idxmax()]\n",
    "# sns.countplot(x='wind_kmh', data=df)"
   ],
   "metadata": {
    "id": "YxOQc7lBxMhT",
    "outputId": "3be71e06-fb0c-4f2a-ee69-0fe5082df835",
    "colab": {
     "base_uri": "https://localhost:8080/",
     "height": 296
    }
   },
   "execution_count": null,
   "outputs": []
  },
  {
   "cell_type": "code",
   "source": [
    "df[df['pressure'] == df['pressure'].max()]\n",
    "# sns.countplot(x='pressure', data=df)"
   ],
   "metadata": {
    "id": "B971U1xbyeqU",
    "outputId": "8be4ebe7-4c87-4d2d-f7b2-6698b57fb02e",
    "colab": {
     "base_uri": "https://localhost:8080/",
     "height": 299
    }
   },
   "execution_count": null,
   "outputs": []
  },
  {
   "cell_type": "markdown",
   "source": [
    "## 4. Plotagem de gráficos"
   ],
   "metadata": {
    "collapsed": false,
    "pycharm": {
     "name": "#%% md\n"
    }
   }
  },
  {
   "cell_type": "code",
   "source": [
    "dfWeekYear = df.groupby(df['date'].apply(lambda x: \"%d/%d\" % (x.week, x.year))).size() \\\n",
    "                             .reset_index(name='count') \\\n",
    "                             .sort_values(['count'], ascending=False) \n",
    "\n",
    "# sns.countplot(x='count', data=dfWeekYear)"
   ],
   "metadata": {
    "id": "OoaeATiQy_uz",
    "outputId": "fba4aca5-3505-46ee-deaa-7e03d89a1321",
    "colab": {
     "base_uri": "https://localhost:8080/",
     "height": 296
    }
   },
   "execution_count": null,
   "outputs": []
  },
  {
   "cell_type": "code",
   "source": [
    "df.groupby(df['date'].apply(lambda x: \"%d/%d\" % (x.month, x.year))).size() \\\n",
    "                             .reset_index(name='count') \\\n",
    "                             .sort_values(['count'], ascending=False) \\\n",
    "                             .head(5)"
   ],
   "metadata": {
    "id": "4LJW-cRB0rG8",
    "outputId": "23279a9a-ec98-4ac8-c3bd-67af078d3fc5",
    "colab": {
     "base_uri": "https://localhost:8080/",
     "height": 206
    }
   },
   "execution_count": null,
   "outputs": []
  },
  {
   "cell_type": "code",
   "source": [
    "df.groupby(df['date'].apply(lambda x: \"%d/%d/%d\" % (x.day, x.month, x.year))).size() \\\n",
    "                             .reset_index(name='count') \\\n",
    "                             .sort_values(['count'], ascending=False) \\\n",
    "                             .head(5)    "
   ],
   "metadata": {
    "id": "BpvRaNps05kU",
    "outputId": "1a611c53-2445-4fac-811c-06d3421e56ec",
    "colab": {
     "base_uri": "https://localhost:8080/",
     "height": 206
    }
   },
   "execution_count": null,
   "outputs": []
  },
  {
   "cell_type": "code",
   "source": [
    "df.groupby(df['date'].apply(lambda x: \"%d\" % (x.year))).size() \\\n",
    "                             .reset_index(name='count') \\\n",
    "                             .sort_values(['count'], ascending=False) \\\n",
    "                             .head(5)    \n",
    "\n",
    "#  df.groupby(df[\"date\"].dt.year).size() \\\n",
    "#  .reset_index(name='count') \\\n",
    "#  .sort_values(['count'], ascending=False) \\\n",
    "#  .head(5)"
   ],
   "metadata": {
    "id": "yNUkSr1f1OaT",
    "outputId": "cc2afd63-0721-423d-db9f-39dc9f433531",
    "colab": {
     "base_uri": "https://localhost:8080/",
     "height": 206
    }
   },
   "execution_count": null,
   "outputs": []
  },
  {
   "cell_type": "markdown",
   "source": [
    "# Plotando informações em um Mapa\n",
    "\n",
    "> Começarmos a plotar essas informações em um mapa, para termos uma forma mais interativa de consulta, mas incialmente faremos a instalção da biblioteca Folium.\n",
    "\n"
   ],
   "metadata": {
    "collapsed": false,
    "pycharm": {
     "name": "#%% md\n"
    }
   }
  },
  {
   "cell_type": "code",
   "execution_count": null,
   "outputs": [],
   "source": [
    "!pip install folium\n",
    "!pip install folium pandas"
   ],
   "metadata": {
    "collapsed": false,
    "pycharm": {
     "name": "#%%\n"
    }
   }
  },
  {
   "cell_type": "code",
   "execution_count": null,
   "outputs": [],
   "source": [
    "# Inicialmente criaremos uma função simples para retornar o mapa de heatmap, já para visualização.\n",
    "import folium\n",
    "from folium import plugins\n",
    "def plot_folium_heatmap_map(df:pd.DataFrame,\n",
    "                            zoom_start:int = 3,\n",
    "                            radius:int = 25):\n",
    "    \"\"\"\n",
    "    Create a Heatmap visualization for the Dataframe already filtered\n",
    "    :param df: DataFrame filtered with the data to plot\n",
    "    :param radius: (int)\n",
    "    :param zoom_start: (int) innitial zoom value to the map visualization\n",
    "    :return: The heatmap visualization\n",
    "    \"\"\"\n",
    "    lat = df['lat'].mean()\n",
    "    long = df['long'].mean()\n",
    "    localization = df[['lat', 'long']].values\n",
    "\n",
    "    map = folium.Map([lat, long],tiles='StamenToner', zoom_start=zoom_start)\n",
    "    folium.plugins.HeatMap(localization, radius=radius).add_to(folium.FeatureGroup(name='Heat Map').add_to(map))\n",
    "    folium.LayerControl().add_to(map)\n",
    "    # map.add_child(plugins.HeatMap(localization, radius=radius))\n",
    "    return map"
   ],
   "metadata": {
    "collapsed": false,
    "pycharm": {
     "name": "#%%\n"
    }
   }
  },
  {
   "cell_type": "markdown",
   "source": [
    "Plotando o gráfico, visualizando nas tempestades com mais ocorrência (acima de 250)"
   ],
   "metadata": {
    "collapsed": false,
    "pycharm": {
     "name": "#%% md\n"
    }
   }
  },
  {
   "cell_type": "code",
   "execution_count": null,
   "outputs": [],
   "source": [
    "map_real_names = plot_folium_heatmap_map(df_real_names,zoom_start = 4)\n",
    "map_real_names"
   ],
   "metadata": {
    "collapsed": false,
    "pycharm": {
     "name": "#%%\n"
    }
   }
  },
  {
   "cell_type": "markdown",
   "source": [
    "### Vamos plotar o ano em que tivemos mais tempestades\n",
    "\n",
    "> Para isso vamos verificar qual a maior frequência absoluta do ano.\n"
   ],
   "metadata": {
    "collapsed": false,
    "pycharm": {
     "name": "#%% md\n"
    }
   }
  },
  {
   "cell_type": "code",
   "execution_count": null,
   "outputs": [],
   "source": [
    "# Podemos visualizar o ano mais frequente de uma maneira bem simples.\n",
    "print(f\"O ano mais frequente encontrado no dataset foi: {most_frequent_storms.date.dt.year.mode()[0]}\")"
   ],
   "metadata": {
    "collapsed": false,
    "pycharm": {
     "name": "#%%\n"
    }
   }
  },
  {
   "cell_type": "code",
   "execution_count": null,
   "outputs": [],
   "source": [
    "most_frequent_year = most_frequent_storms.loc[most_frequent_storms.date.dt.year == 2004]\n",
    "plot_folium_heatmap_map(most_frequent_year, radius=15)"
   ],
   "metadata": {
    "collapsed": false,
    "pycharm": {
     "name": "#%%\n"
    }
   }
  },
  {
   "cell_type": "code",
   "execution_count": null,
   "outputs": [],
   "source": [
    "# # display(most_frequent_storms)\n",
    "# most_frequent_stor_by_name = most_frequent_storms.loc[most_frequent_storms.name == 'Emily']\n",
    "# plot_folium_heatmap_map(most_frequent_stor_by_name, radius=15)"
   ],
   "metadata": {
    "collapsed": false,
    "pycharm": {
     "name": "#%%\n"
    }
   }
  },
  {
   "cell_type": "code",
   "execution_count": null,
   "outputs": [],
   "source": [
    "storms_grouped_status = most_frequent_storms.groupby('status')\n",
    "lat = most_frequent_storms.lat.mean()\n",
    "long = most_frequent_storms.long.mean()\n",
    "map_status = folium.Map(location=[lat,long], zoom_start=5,\n",
    "                  tiles='Stamen Terrain')\n",
    "status_grouped_keys = storms_grouped_status.groups.keys()\n",
    "for status_key in status_grouped_keys:\n",
    "    status_df = storms_grouped_status.get_group(status_key)\n",
    "    feature_group = folium.FeatureGroup(status_key)\n",
    "    # for row in status_df.itertuples():\n",
    "        # folium.Marker(location=[row.lat, row.long]).add_to(feature_group)\n",
    "    feature_group.add_to(map_status)\n",
    "# for grp_name, df_grp in storms_grouped_status.groupby('Group'):\n",
    "\n",
    "folium.LayerControl().add_to(map_status)\n",
    "map_status"
   ],
   "metadata": {
    "collapsed": false,
    "pycharm": {
     "name": "#%%\n"
    }
   }
  },
  {
   "cell_type": "code",
   "execution_count": null,
   "outputs": [],
   "source": [
    "storms_grouped_status = most_frequent_storms.groupby('status')\n",
    "lat = most_frequent_storms.lat.mean()\n",
    "long = most_frequent_storms.long.mean()\n",
    "heatmap_status = folium.Map([lat, long],tiles='Stamen Terrain', zoom_start=5)\n",
    "status_grouped_keys = storms_grouped_status.groups.keys()\n",
    "for status_key in status_grouped_keys:\n",
    "    status_df = storms_grouped_status.get_group(status_key)\n",
    "    localization = status_df[['lat', 'long']].values\n",
    "    folium.plugins.HeatMap(localization, radius=15).add_to(folium.FeatureGroup(name=status_key).add_to(heatmap_status))\n",
    "folium.LayerControl().add_to(heatmap_status)\n",
    "heatmap_status"
   ],
   "metadata": {
    "collapsed": false,
    "pycharm": {
     "name": "#%%\n"
    }
   }
  },
  {
   "cell_type": "code",
   "execution_count": null,
   "outputs": [],
   "source": [],
   "metadata": {
    "collapsed": false,
    "pycharm": {
     "name": "#%%\n"
    }
   }
  }
 ],
 "metadata": {
  "kernelspec": {
   "display_name": "Python 3",
   "language": "python",
   "name": "python3"
  },
  "language_info": {
   "codemirror_mode": {
    "name": "ipython",
    "version": 2
   },
   "file_extension": ".py",
   "mimetype": "text/x-python",
   "name": "python",
   "nbconvert_exporter": "python",
   "pygments_lexer": "ipython2",
   "version": "2.7.6"
  },
  "colab": {
   "provenance": []
  }
 },
 "nbformat": 4,
 "nbformat_minor": 0
}